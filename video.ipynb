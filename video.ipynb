{
 "cells": [
  {
   "cell_type": "code",
   "execution_count": 1,
   "metadata": {},
   "outputs": [],
   "source": [
    "import requests\n",
    "from bs4 import BeautifulSoup"
   ]
  },
  {
   "cell_type": "code",
   "execution_count": 2,
   "metadata": {},
   "outputs": [],
   "source": [
    "url1 = 'https://www.youtube.com/watch?v=U87NYhOL8as&list=PLhXu26RzZZTwus4cNbPTcgXXH6oavT6EB&index=1'\n",
    "res1 = requests.get(url1)\n",
    "soup = BeautifulSoup(res1.text,'html5lib')"
   ]
  },
  {
   "cell_type": "code",
   "execution_count": 3,
   "metadata": {},
   "outputs": [
    {
     "data": {
      "text/plain": [
       "['https://www.youtube.com/watch?v=U87NYhOL8as&list=PLhXu26RzZZTwus4cNbPTcgXXH6oavT6EB&index=1',\n",
       " 'https://www.youtube.com/watch?v=wbGPmMDHUag&list=PLhXu26RzZZTwus4cNbPTcgXXH6oavT6EB&index=2',\n",
       " 'https://www.youtube.com/watch?v=2OygBkQ06oI&list=PLhXu26RzZZTwus4cNbPTcgXXH6oavT6EB&index=3']"
      ]
     },
     "execution_count": 3,
     "metadata": {},
     "output_type": "execute_result"
    }
   ],
   "source": [
    "hreflist = ['https://www.youtube.com'+a['href'] for a in soup.find_all('a',{'class':' spf-link playlist-video clearfix yt-uix-sessionlink spf-link '})]\n",
    "hreflist[:3]"
   ]
  },
  {
   "cell_type": "code",
   "execution_count": 4,
   "metadata": {},
   "outputs": [],
   "source": [
    "from pytube import Playlist\n",
    "from pytube import YouTube\n",
    "from pprint import pprint"
   ]
  },
  {
   "cell_type": "code",
   "execution_count": null,
   "metadata": {},
   "outputs": [
    {
     "name": "stdout",
     "output_type": "stream",
     "text": [
      "<Stream: itag=\"135\" mime_type=\"video/mp4\" res=\"480p\" fps=\"30fps\" vcodec=\"avc1.4d401e\"> 175"
     ]
    }
   ],
   "source": [
    "j=175\n",
    "for link in hreflist[j-1:]:\n",
    "    k = 1\n",
    "    while k!=0:\n",
    "        try:\n",
    "            yt = YouTube(link)\n",
    "            k = 0\n",
    "        except KeyError:\n",
    "            print(j)\n",
    "    stream = yt.streams.filter(file_extension='mp4',res='480p').first()\n",
    "\n",
    "    print(stream,j,end=\"\")\n",
    "\n",
    "    stream.download(\"F:\\youtube\\分析\" ,filename=str(j)+'v')\n",
    "    j += 1\n",
    "    \n",
    "    print(\"ok\")"
   ]
  },
  {
   "cell_type": "code",
   "execution_count": null,
   "metadata": {},
   "outputs": [],
   "source": []
  }
 ],
 "metadata": {
  "kernelspec": {
   "display_name": "Python 3",
   "language": "python",
   "name": "python3"
  },
  "language_info": {
   "codemirror_mode": {
    "name": "ipython",
    "version": 3
   },
   "file_extension": ".py",
   "mimetype": "text/x-python",
   "name": "python",
   "nbconvert_exporter": "python",
   "pygments_lexer": "ipython3",
   "version": "3.6.5"
  }
 },
 "nbformat": 4,
 "nbformat_minor": 2
}
