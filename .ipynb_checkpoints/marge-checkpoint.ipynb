{
 "cells": [
  {
   "cell_type": "code",
   "execution_count": 1,
   "metadata": {},
   "outputs": [],
   "source": [
    "import requests\n",
    "from bs4 import BeautifulSoup\n",
    "import re\n",
    "from zhtools.langconv import Converter"
   ]
  },
  {
   "cell_type": "code",
   "execution_count": 2,
   "metadata": {},
   "outputs": [],
   "source": [
    "url1 = 'https://www.youtube.com/watch?v=U87NYhOL8as&list=PLhXu26RzZZTwus4cNbPTcgXXH6oavT6EB&index=1'\n",
    "res1 = requests.get(url1)\n",
    "soup = BeautifulSoup(res1.text,'html5lib')"
   ]
  },
  {
   "cell_type": "code",
   "execution_count": 3,
   "metadata": {},
   "outputs": [
    {
     "data": {
      "text/plain": [
       "['https://www.youtube.com/watch?v=U87NYhOL8as&list=PLhXu26RzZZTwus4cNbPTcgXXH6oavT6EB&index=1',\n",
       " 'https://www.youtube.com/watch?v=wbGPmMDHUag&list=PLhXu26RzZZTwus4cNbPTcgXXH6oavT6EB&index=2',\n",
       " 'https://www.youtube.com/watch?v=2OygBkQ06oI&list=PLhXu26RzZZTwus4cNbPTcgXXH6oavT6EB&index=3',\n",
       " 'https://www.youtube.com/watch?v=VTWXxGnB9mk&list=PLhXu26RzZZTwus4cNbPTcgXXH6oavT6EB&index=4',\n",
       " 'https://www.youtube.com/watch?v=MewCpW2PsHQ&list=PLhXu26RzZZTwus4cNbPTcgXXH6oavT6EB&index=5',\n",
       " 'https://www.youtube.com/watch?v=inEpm9T9Poo&list=PLhXu26RzZZTwus4cNbPTcgXXH6oavT6EB&index=6',\n",
       " 'https://www.youtube.com/watch?v=WI3-PByJUQs&list=PLhXu26RzZZTwus4cNbPTcgXXH6oavT6EB&index=7',\n",
       " 'https://www.youtube.com/watch?v=6c_gxXo4w9E&list=PLhXu26RzZZTwus4cNbPTcgXXH6oavT6EB&index=8',\n",
       " 'https://www.youtube.com/watch?v=SvNasnX5Wlc&list=PLhXu26RzZZTwus4cNbPTcgXXH6oavT6EB&index=9',\n",
       " 'https://www.youtube.com/watch?v=qE5PBdZpz0k&list=PLhXu26RzZZTwus4cNbPTcgXXH6oavT6EB&index=10',\n",
       " 'https://www.youtube.com/watch?v=k_LCD_VWHzo&list=PLhXu26RzZZTwus4cNbPTcgXXH6oavT6EB&index=11',\n",
       " 'https://www.youtube.com/watch?v=Ml83RV5f3l4&list=PLhXu26RzZZTwus4cNbPTcgXXH6oavT6EB&index=12',\n",
       " 'https://www.youtube.com/watch?v=S-phXIcjyQY&list=PLhXu26RzZZTwus4cNbPTcgXXH6oavT6EB&index=13',\n",
       " 'https://www.youtube.com/watch?v=YASC5oMkhv0&list=PLhXu26RzZZTwus4cNbPTcgXXH6oavT6EB&index=14',\n",
       " 'https://www.youtube.com/watch?v=lkuMUD-krdw&list=PLhXu26RzZZTwus4cNbPTcgXXH6oavT6EB&index=15',\n",
       " 'https://www.youtube.com/watch?v=LZI8-eb9JfQ&list=PLhXu26RzZZTwus4cNbPTcgXXH6oavT6EB&index=16',\n",
       " 'https://www.youtube.com/watch?v=RPbXGb50YlY&list=PLhXu26RzZZTwus4cNbPTcgXXH6oavT6EB&index=17',\n",
       " 'https://www.youtube.com/watch?v=Z9LQew4qOQE&list=PLhXu26RzZZTwus4cNbPTcgXXH6oavT6EB&index=18',\n",
       " 'https://www.youtube.com/watch?v=vBRx76IwgQM&list=PLhXu26RzZZTwus4cNbPTcgXXH6oavT6EB&index=19',\n",
       " 'https://www.youtube.com/watch?v=BGSCkcnLzTk&list=PLhXu26RzZZTwus4cNbPTcgXXH6oavT6EB&index=20',\n",
       " 'https://www.youtube.com/watch?v=3Df-5p96gKg&list=PLhXu26RzZZTwus4cNbPTcgXXH6oavT6EB&index=21',\n",
       " 'https://www.youtube.com/watch?v=f3Yygw9bqyc&list=PLhXu26RzZZTwus4cNbPTcgXXH6oavT6EB&index=22',\n",
       " 'https://www.youtube.com/watch?v=k2bhClE3idA&list=PLhXu26RzZZTwus4cNbPTcgXXH6oavT6EB&index=23',\n",
       " 'https://www.youtube.com/watch?v=SjQqiRpkGls&list=PLhXu26RzZZTwus4cNbPTcgXXH6oavT6EB&index=24',\n",
       " 'https://www.youtube.com/watch?v=XOHLadcHs1k&list=PLhXu26RzZZTwus4cNbPTcgXXH6oavT6EB&index=25',\n",
       " 'https://www.youtube.com/watch?v=BLvxJsECR0E&list=PLhXu26RzZZTwus4cNbPTcgXXH6oavT6EB&index=26',\n",
       " 'https://www.youtube.com/watch?v=VRhhnQuppYc&list=PLhXu26RzZZTwus4cNbPTcgXXH6oavT6EB&index=27',\n",
       " 'https://www.youtube.com/watch?v=ob3w2PUVmGc&list=PLhXu26RzZZTwus4cNbPTcgXXH6oavT6EB&index=28',\n",
       " 'https://www.youtube.com/watch?v=3I9-AsSy1j0&list=PLhXu26RzZZTwus4cNbPTcgXXH6oavT6EB&index=29',\n",
       " 'https://www.youtube.com/watch?v=GvpeVqfkB60&list=PLhXu26RzZZTwus4cNbPTcgXXH6oavT6EB&index=30',\n",
       " 'https://www.youtube.com/watch?v=Gr7hBqvM0iE&list=PLhXu26RzZZTwus4cNbPTcgXXH6oavT6EB&index=31',\n",
       " 'https://www.youtube.com/watch?v=Cuzi8QSXE0M&list=PLhXu26RzZZTwus4cNbPTcgXXH6oavT6EB&index=32',\n",
       " 'https://www.youtube.com/watch?v=7mCJsks4xxY&list=PLhXu26RzZZTwus4cNbPTcgXXH6oavT6EB&index=33',\n",
       " 'https://www.youtube.com/watch?v=l6M8vnPdFB0&list=PLhXu26RzZZTwus4cNbPTcgXXH6oavT6EB&index=34',\n",
       " 'https://www.youtube.com/watch?v=lhD6ZT76hpg&list=PLhXu26RzZZTwus4cNbPTcgXXH6oavT6EB&index=35',\n",
       " 'https://www.youtube.com/watch?v=06l-vuuE930&list=PLhXu26RzZZTwus4cNbPTcgXXH6oavT6EB&index=36',\n",
       " 'https://www.youtube.com/watch?v=-A9kHuIQsII&list=PLhXu26RzZZTwus4cNbPTcgXXH6oavT6EB&index=37',\n",
       " 'https://www.youtube.com/watch?v=DzaMHZ6m7Iw&list=PLhXu26RzZZTwus4cNbPTcgXXH6oavT6EB&index=38',\n",
       " 'https://www.youtube.com/watch?v=CGDrWpmkgsg&list=PLhXu26RzZZTwus4cNbPTcgXXH6oavT6EB&index=39',\n",
       " 'https://www.youtube.com/watch?v=gbZAPiGZR4g&list=PLhXu26RzZZTwus4cNbPTcgXXH6oavT6EB&index=40',\n",
       " 'https://www.youtube.com/watch?v=3v0PKUpjCJ0&list=PLhXu26RzZZTwus4cNbPTcgXXH6oavT6EB&index=41',\n",
       " 'https://www.youtube.com/watch?v=4DknseRLiY0&list=PLhXu26RzZZTwus4cNbPTcgXXH6oavT6EB&index=42',\n",
       " 'https://www.youtube.com/watch?v=eR_ihrXLERk&list=PLhXu26RzZZTwus4cNbPTcgXXH6oavT6EB&index=43',\n",
       " 'https://www.youtube.com/watch?v=mY2lNbrVEdA&list=PLhXu26RzZZTwus4cNbPTcgXXH6oavT6EB&index=44',\n",
       " 'https://www.youtube.com/watch?v=OB3wM_JbZKs&list=PLhXu26RzZZTwus4cNbPTcgXXH6oavT6EB&index=45',\n",
       " 'https://www.youtube.com/watch?v=d6DEG-Fb67E&list=PLhXu26RzZZTwus4cNbPTcgXXH6oavT6EB&index=46',\n",
       " 'https://www.youtube.com/watch?v=gfvzU6wE-Zg&list=PLhXu26RzZZTwus4cNbPTcgXXH6oavT6EB&index=47',\n",
       " 'https://www.youtube.com/watch?v=32K1mfuSC40&list=PLhXu26RzZZTwus4cNbPTcgXXH6oavT6EB&index=48',\n",
       " 'https://www.youtube.com/watch?v=artFW5By-Xw&list=PLhXu26RzZZTwus4cNbPTcgXXH6oavT6EB&index=49',\n",
       " 'https://www.youtube.com/watch?v=cR7FYtIaCwQ&list=PLhXu26RzZZTwus4cNbPTcgXXH6oavT6EB&index=50',\n",
       " 'https://www.youtube.com/watch?v=eS5Y4_me3dI&list=PLhXu26RzZZTwus4cNbPTcgXXH6oavT6EB&index=51',\n",
       " 'https://www.youtube.com/watch?v=_gFcmfAT6og&list=PLhXu26RzZZTwus4cNbPTcgXXH6oavT6EB&index=52',\n",
       " 'https://www.youtube.com/watch?v=ammTFd4Tdto&list=PLhXu26RzZZTwus4cNbPTcgXXH6oavT6EB&index=53',\n",
       " 'https://www.youtube.com/watch?v=o3oRG9VpVXU&list=PLhXu26RzZZTwus4cNbPTcgXXH6oavT6EB&index=54',\n",
       " 'https://www.youtube.com/watch?v=jxSmpHYSVjI&list=PLhXu26RzZZTwus4cNbPTcgXXH6oavT6EB&index=55',\n",
       " 'https://www.youtube.com/watch?v=N5p-V0hdgzs&list=PLhXu26RzZZTwus4cNbPTcgXXH6oavT6EB&index=56',\n",
       " 'https://www.youtube.com/watch?v=YdOSQWTJhRw&list=PLhXu26RzZZTwus4cNbPTcgXXH6oavT6EB&index=57',\n",
       " 'https://www.youtube.com/watch?v=MR1rzdwNdTk&list=PLhXu26RzZZTwus4cNbPTcgXXH6oavT6EB&index=58',\n",
       " 'https://www.youtube.com/watch?v=NpmFusBntQo&list=PLhXu26RzZZTwus4cNbPTcgXXH6oavT6EB&index=59',\n",
       " 'https://www.youtube.com/watch?v=bP0AhC3B6fY&list=PLhXu26RzZZTwus4cNbPTcgXXH6oavT6EB&index=60',\n",
       " 'https://www.youtube.com/watch?v=UAoa4gTMM44&list=PLhXu26RzZZTwus4cNbPTcgXXH6oavT6EB&index=61',\n",
       " 'https://www.youtube.com/watch?v=LHuyN9YTiwA&list=PLhXu26RzZZTwus4cNbPTcgXXH6oavT6EB&index=62',\n",
       " 'https://www.youtube.com/watch?v=EYNPTJ9AtrI&list=PLhXu26RzZZTwus4cNbPTcgXXH6oavT6EB&index=63',\n",
       " 'https://www.youtube.com/watch?v=NIEHxRovAdk&list=PLhXu26RzZZTwus4cNbPTcgXXH6oavT6EB&index=64',\n",
       " 'https://www.youtube.com/watch?v=2E2L4VhyFuY&list=PLhXu26RzZZTwus4cNbPTcgXXH6oavT6EB&index=65',\n",
       " 'https://www.youtube.com/watch?v=LkCCaKwwMoQ&list=PLhXu26RzZZTwus4cNbPTcgXXH6oavT6EB&index=66',\n",
       " 'https://www.youtube.com/watch?v=4dmHaNuKujk&list=PLhXu26RzZZTwus4cNbPTcgXXH6oavT6EB&index=67',\n",
       " 'https://www.youtube.com/watch?v=c_kIkegld_0&list=PLhXu26RzZZTwus4cNbPTcgXXH6oavT6EB&index=68',\n",
       " 'https://www.youtube.com/watch?v=3ZVQY-MZaV8&list=PLhXu26RzZZTwus4cNbPTcgXXH6oavT6EB&index=69',\n",
       " 'https://www.youtube.com/watch?v=lZp0Mc3Gano&list=PLhXu26RzZZTwus4cNbPTcgXXH6oavT6EB&index=70',\n",
       " 'https://www.youtube.com/watch?v=mPaSfZt6KQs&list=PLhXu26RzZZTwus4cNbPTcgXXH6oavT6EB&index=71',\n",
       " 'https://www.youtube.com/watch?v=3hTpfg9nx3E&list=PLhXu26RzZZTwus4cNbPTcgXXH6oavT6EB&index=72',\n",
       " 'https://www.youtube.com/watch?v=EgZ6BkAZzwU&list=PLhXu26RzZZTwus4cNbPTcgXXH6oavT6EB&index=73',\n",
       " 'https://www.youtube.com/watch?v=kDLzd8TZdHE&list=PLhXu26RzZZTwus4cNbPTcgXXH6oavT6EB&index=74',\n",
       " 'https://www.youtube.com/watch?v=FNuKtQ32bGY&list=PLhXu26RzZZTwus4cNbPTcgXXH6oavT6EB&index=75',\n",
       " 'https://www.youtube.com/watch?v=DY3_TLS5IOA&list=PLhXu26RzZZTwus4cNbPTcgXXH6oavT6EB&index=76',\n",
       " 'https://www.youtube.com/watch?v=qgHzU37ze00&list=PLhXu26RzZZTwus4cNbPTcgXXH6oavT6EB&index=77',\n",
       " 'https://www.youtube.com/watch?v=7TJzHSh1y8o&list=PLhXu26RzZZTwus4cNbPTcgXXH6oavT6EB&index=78',\n",
       " 'https://www.youtube.com/watch?v=5kXRnaybEuI&list=PLhXu26RzZZTwus4cNbPTcgXXH6oavT6EB&index=79',\n",
       " 'https://www.youtube.com/watch?v=ZrjhZUT3s54&list=PLhXu26RzZZTwus4cNbPTcgXXH6oavT6EB&index=80',\n",
       " 'https://www.youtube.com/watch?v=kppM3ZsICGM&list=PLhXu26RzZZTwus4cNbPTcgXXH6oavT6EB&index=81',\n",
       " 'https://www.youtube.com/watch?v=_DUZLv-Iqfk&list=PLhXu26RzZZTwus4cNbPTcgXXH6oavT6EB&index=82',\n",
       " 'https://www.youtube.com/watch?v=K6FFlX9RJBE&list=PLhXu26RzZZTwus4cNbPTcgXXH6oavT6EB&index=83',\n",
       " 'https://www.youtube.com/watch?v=IUSqW4AG66o&list=PLhXu26RzZZTwus4cNbPTcgXXH6oavT6EB&index=84',\n",
       " 'https://www.youtube.com/watch?v=xDcqKUCK9uU&list=PLhXu26RzZZTwus4cNbPTcgXXH6oavT6EB&index=85',\n",
       " 'https://www.youtube.com/watch?v=2HkWMDfFgj8&list=PLhXu26RzZZTwus4cNbPTcgXXH6oavT6EB&index=86',\n",
       " 'https://www.youtube.com/watch?v=C1mcaTtuVvQ&list=PLhXu26RzZZTwus4cNbPTcgXXH6oavT6EB&index=87',\n",
       " 'https://www.youtube.com/watch?v=Hi9mDWLUFHU&list=PLhXu26RzZZTwus4cNbPTcgXXH6oavT6EB&index=88',\n",
       " 'https://www.youtube.com/watch?v=nzcE9jdg2gk&list=PLhXu26RzZZTwus4cNbPTcgXXH6oavT6EB&index=89',\n",
       " 'https://www.youtube.com/watch?v=BhFdQ87IXys&list=PLhXu26RzZZTwus4cNbPTcgXXH6oavT6EB&index=90',\n",
       " 'https://www.youtube.com/watch?v=ov8lNhv33fw&list=PLhXu26RzZZTwus4cNbPTcgXXH6oavT6EB&index=91',\n",
       " 'https://www.youtube.com/watch?v=V4a_3FyzUuA&list=PLhXu26RzZZTwus4cNbPTcgXXH6oavT6EB&index=92',\n",
       " 'https://www.youtube.com/watch?v=BODPCVBMQgk&list=PLhXu26RzZZTwus4cNbPTcgXXH6oavT6EB&index=93',\n",
       " 'https://www.youtube.com/watch?v=k7Ss2s7-QHo&list=PLhXu26RzZZTwus4cNbPTcgXXH6oavT6EB&index=94',\n",
       " 'https://www.youtube.com/watch?v=v4SKXPt_qVM&list=PLhXu26RzZZTwus4cNbPTcgXXH6oavT6EB&index=95',\n",
       " 'https://www.youtube.com/watch?v=13VCA6G-rQ4&list=PLhXu26RzZZTwus4cNbPTcgXXH6oavT6EB&index=96',\n",
       " 'https://www.youtube.com/watch?v=Luhqq1PP_G8&list=PLhXu26RzZZTwus4cNbPTcgXXH6oavT6EB&index=97',\n",
       " 'https://www.youtube.com/watch?v=ZHkP06bLqMk&list=PLhXu26RzZZTwus4cNbPTcgXXH6oavT6EB&index=98',\n",
       " 'https://www.youtube.com/watch?v=O-mQUOcdkSI&list=PLhXu26RzZZTwus4cNbPTcgXXH6oavT6EB&index=99',\n",
       " 'https://www.youtube.com/watch?v=PfhLyTjMeTQ&list=PLhXu26RzZZTwus4cNbPTcgXXH6oavT6EB&index=100',\n",
       " 'https://www.youtube.com/watch?v=v-VmHfa9DI8&list=PLhXu26RzZZTwus4cNbPTcgXXH6oavT6EB&index=101',\n",
       " 'https://www.youtube.com/watch?v=BlDGwNqfJUU&list=PLhXu26RzZZTwus4cNbPTcgXXH6oavT6EB&index=102',\n",
       " 'https://www.youtube.com/watch?v=kvHGHjuxYx0&list=PLhXu26RzZZTwus4cNbPTcgXXH6oavT6EB&index=103',\n",
       " 'https://www.youtube.com/watch?v=RO73xGnVflM&list=PLhXu26RzZZTwus4cNbPTcgXXH6oavT6EB&index=104',\n",
       " 'https://www.youtube.com/watch?v=u7IPXwQLeAs&list=PLhXu26RzZZTwus4cNbPTcgXXH6oavT6EB&index=105',\n",
       " 'https://www.youtube.com/watch?v=fcUeG3ez3_c&list=PLhXu26RzZZTwus4cNbPTcgXXH6oavT6EB&index=106',\n",
       " 'https://www.youtube.com/watch?v=l8IKkHRed6E&list=PLhXu26RzZZTwus4cNbPTcgXXH6oavT6EB&index=107',\n",
       " 'https://www.youtube.com/watch?v=Np6l-hJbFDY&list=PLhXu26RzZZTwus4cNbPTcgXXH6oavT6EB&index=108',\n",
       " 'https://www.youtube.com/watch?v=rMyX8tv_KEA&list=PLhXu26RzZZTwus4cNbPTcgXXH6oavT6EB&index=109',\n",
       " 'https://www.youtube.com/watch?v=LPUODekDSTg&list=PLhXu26RzZZTwus4cNbPTcgXXH6oavT6EB&index=110',\n",
       " 'https://www.youtube.com/watch?v=ArqE3xsVYT4&list=PLhXu26RzZZTwus4cNbPTcgXXH6oavT6EB&index=111',\n",
       " 'https://www.youtube.com/watch?v=7iqYb95yOPI&list=PLhXu26RzZZTwus4cNbPTcgXXH6oavT6EB&index=112',\n",
       " 'https://www.youtube.com/watch?v=ap2dZvWuqFg&list=PLhXu26RzZZTwus4cNbPTcgXXH6oavT6EB&index=113',\n",
       " 'https://www.youtube.com/watch?v=4c3l7X94XEU&list=PLhXu26RzZZTwus4cNbPTcgXXH6oavT6EB&index=114',\n",
       " 'https://www.youtube.com/watch?v=vfXoF6rVqcg&list=PLhXu26RzZZTwus4cNbPTcgXXH6oavT6EB&index=115',\n",
       " 'https://www.youtube.com/watch?v=bGd8auw6MC0&list=PLhXu26RzZZTwus4cNbPTcgXXH6oavT6EB&index=116',\n",
       " 'https://www.youtube.com/watch?v=_BZSbdXnyRY&list=PLhXu26RzZZTwus4cNbPTcgXXH6oavT6EB&index=117',\n",
       " 'https://www.youtube.com/watch?v=Gt0mJt-VMow&list=PLhXu26RzZZTwus4cNbPTcgXXH6oavT6EB&index=118',\n",
       " 'https://www.youtube.com/watch?v=LBEsct0QvXE&list=PLhXu26RzZZTwus4cNbPTcgXXH6oavT6EB&index=119',\n",
       " 'https://www.youtube.com/watch?v=i0uj_Prx4ZQ&list=PLhXu26RzZZTwus4cNbPTcgXXH6oavT6EB&index=120',\n",
       " 'https://www.youtube.com/watch?v=6KZl82ZR8w8&list=PLhXu26RzZZTwus4cNbPTcgXXH6oavT6EB&index=121',\n",
       " 'https://www.youtube.com/watch?v=62ZodlHyDEk&list=PLhXu26RzZZTwus4cNbPTcgXXH6oavT6EB&index=122',\n",
       " 'https://www.youtube.com/watch?v=PwFpMdneKG4&list=PLhXu26RzZZTwus4cNbPTcgXXH6oavT6EB&index=123',\n",
       " 'https://www.youtube.com/watch?v=wxWzu7JM9wE&list=PLhXu26RzZZTwus4cNbPTcgXXH6oavT6EB&index=124',\n",
       " 'https://www.youtube.com/watch?v=RPymqq_kMc0&list=PLhXu26RzZZTwus4cNbPTcgXXH6oavT6EB&index=125',\n",
       " 'https://www.youtube.com/watch?v=ZJiPm9Xfz1k&list=PLhXu26RzZZTwus4cNbPTcgXXH6oavT6EB&index=126',\n",
       " 'https://www.youtube.com/watch?v=fmlaYUJTQ0E&list=PLhXu26RzZZTwus4cNbPTcgXXH6oavT6EB&index=127',\n",
       " 'https://www.youtube.com/watch?v=oCIW-TPfeEk&list=PLhXu26RzZZTwus4cNbPTcgXXH6oavT6EB&index=128',\n",
       " 'https://www.youtube.com/watch?v=dLAm7xDm2Go&list=PLhXu26RzZZTwus4cNbPTcgXXH6oavT6EB&index=129',\n",
       " 'https://www.youtube.com/watch?v=XsPQ0xgrdJU&list=PLhXu26RzZZTwus4cNbPTcgXXH6oavT6EB&index=130',\n",
       " 'https://www.youtube.com/watch?v=2t9LKH12x-I&list=PLhXu26RzZZTwus4cNbPTcgXXH6oavT6EB&index=131',\n",
       " 'https://www.youtube.com/watch?v=ZOYYrTDN6N0&list=PLhXu26RzZZTwus4cNbPTcgXXH6oavT6EB&index=132',\n",
       " 'https://www.youtube.com/watch?v=wMhpnk2xW6c&list=PLhXu26RzZZTwus4cNbPTcgXXH6oavT6EB&index=133',\n",
       " 'https://www.youtube.com/watch?v=_dGArVBMHic&list=PLhXu26RzZZTwus4cNbPTcgXXH6oavT6EB&index=134',\n",
       " 'https://www.youtube.com/watch?v=YOJ9vtZ_oLY&list=PLhXu26RzZZTwus4cNbPTcgXXH6oavT6EB&index=135',\n",
       " 'https://www.youtube.com/watch?v=kyJGghus-BQ&list=PLhXu26RzZZTwus4cNbPTcgXXH6oavT6EB&index=136',\n",
       " 'https://www.youtube.com/watch?v=S9nQCTmR8s8&list=PLhXu26RzZZTwus4cNbPTcgXXH6oavT6EB&index=137',\n",
       " 'https://www.youtube.com/watch?v=erLJUbZQ8KU&list=PLhXu26RzZZTwus4cNbPTcgXXH6oavT6EB&index=138',\n",
       " 'https://www.youtube.com/watch?v=hwk56n4gNiE&list=PLhXu26RzZZTwus4cNbPTcgXXH6oavT6EB&index=139',\n",
       " 'https://www.youtube.com/watch?v=Ikg5G5oqZP4&list=PLhXu26RzZZTwus4cNbPTcgXXH6oavT6EB&index=140',\n",
       " 'https://www.youtube.com/watch?v=cHkTSYwR-Wg&list=PLhXu26RzZZTwus4cNbPTcgXXH6oavT6EB&index=141',\n",
       " 'https://www.youtube.com/watch?v=LhZx00wh6hA&list=PLhXu26RzZZTwus4cNbPTcgXXH6oavT6EB&index=142',\n",
       " 'https://www.youtube.com/watch?v=CXJsfsSC2y0&list=PLhXu26RzZZTwus4cNbPTcgXXH6oavT6EB&index=143',\n",
       " 'https://www.youtube.com/watch?v=PgyZVAFM4vc&list=PLhXu26RzZZTwus4cNbPTcgXXH6oavT6EB&index=144',\n",
       " 'https://www.youtube.com/watch?v=SpMORY68ZYs&list=PLhXu26RzZZTwus4cNbPTcgXXH6oavT6EB&index=145',\n",
       " 'https://www.youtube.com/watch?v=NbOJR-hv-6Y&list=PLhXu26RzZZTwus4cNbPTcgXXH6oavT6EB&index=146',\n",
       " 'https://www.youtube.com/watch?v=QuEyYCAuf2w&list=PLhXu26RzZZTwus4cNbPTcgXXH6oavT6EB&index=147',\n",
       " 'https://www.youtube.com/watch?v=hGOhA1eDtuU&list=PLhXu26RzZZTwus4cNbPTcgXXH6oavT6EB&index=148',\n",
       " 'https://www.youtube.com/watch?v=3vlm-nPIDhk&list=PLhXu26RzZZTwus4cNbPTcgXXH6oavT6EB&index=149',\n",
       " 'https://www.youtube.com/watch?v=6d_FVmPuTdI&list=PLhXu26RzZZTwus4cNbPTcgXXH6oavT6EB&index=150',\n",
       " 'https://www.youtube.com/watch?v=2So_hZ0IzjA&list=PLhXu26RzZZTwus4cNbPTcgXXH6oavT6EB&index=151',\n",
       " 'https://www.youtube.com/watch?v=nH06YdjQ-9I&list=PLhXu26RzZZTwus4cNbPTcgXXH6oavT6EB&index=152',\n",
       " 'https://www.youtube.com/watch?v=Z4ABer_P2hE&list=PLhXu26RzZZTwus4cNbPTcgXXH6oavT6EB&index=153',\n",
       " 'https://www.youtube.com/watch?v=np6cRPJuhGo&list=PLhXu26RzZZTwus4cNbPTcgXXH6oavT6EB&index=154',\n",
       " 'https://www.youtube.com/watch?v=bl2Y3zeG8CE&list=PLhXu26RzZZTwus4cNbPTcgXXH6oavT6EB&index=155',\n",
       " 'https://www.youtube.com/watch?v=-MNUyLgD9hQ&list=PLhXu26RzZZTwus4cNbPTcgXXH6oavT6EB&index=156',\n",
       " 'https://www.youtube.com/watch?v=z5aiF20WgXA&list=PLhXu26RzZZTwus4cNbPTcgXXH6oavT6EB&index=157',\n",
       " 'https://www.youtube.com/watch?v=6uRfMw4LlNk&list=PLhXu26RzZZTwus4cNbPTcgXXH6oavT6EB&index=158',\n",
       " 'https://www.youtube.com/watch?v=_xRxwZRON4g&list=PLhXu26RzZZTwus4cNbPTcgXXH6oavT6EB&index=159',\n",
       " 'https://www.youtube.com/watch?v=5GY_lBnXo8g&list=PLhXu26RzZZTwus4cNbPTcgXXH6oavT6EB&index=160',\n",
       " 'https://www.youtube.com/watch?v=YAmGg3A0EQ0&list=PLhXu26RzZZTwus4cNbPTcgXXH6oavT6EB&index=161',\n",
       " 'https://www.youtube.com/watch?v=Mqdn4zfrhQM&list=PLhXu26RzZZTwus4cNbPTcgXXH6oavT6EB&index=162',\n",
       " 'https://www.youtube.com/watch?v=iq0h-IsA3W8&list=PLhXu26RzZZTwus4cNbPTcgXXH6oavT6EB&index=163',\n",
       " 'https://www.youtube.com/watch?v=fiv8fKMvg7o&list=PLhXu26RzZZTwus4cNbPTcgXXH6oavT6EB&index=164',\n",
       " 'https://www.youtube.com/watch?v=zfre4C8LrMg&list=PLhXu26RzZZTwus4cNbPTcgXXH6oavT6EB&index=165',\n",
       " 'https://www.youtube.com/watch?v=AR1L8tfLu4w&list=PLhXu26RzZZTwus4cNbPTcgXXH6oavT6EB&index=166',\n",
       " 'https://www.youtube.com/watch?v=XC-MDYlHdU0&list=PLhXu26RzZZTwus4cNbPTcgXXH6oavT6EB&index=167',\n",
       " 'https://www.youtube.com/watch?v=VKSFsILSOb0&list=PLhXu26RzZZTwus4cNbPTcgXXH6oavT6EB&index=168',\n",
       " 'https://www.youtube.com/watch?v=ShJA7ivZn_Y&list=PLhXu26RzZZTwus4cNbPTcgXXH6oavT6EB&index=169',\n",
       " 'https://www.youtube.com/watch?v=oenPs6gNQuM&list=PLhXu26RzZZTwus4cNbPTcgXXH6oavT6EB&index=170',\n",
       " 'https://www.youtube.com/watch?v=bEzIQYVsz1k&list=PLhXu26RzZZTwus4cNbPTcgXXH6oavT6EB&index=171',\n",
       " 'https://www.youtube.com/watch?v=0A2Bn3itP8c&list=PLhXu26RzZZTwus4cNbPTcgXXH6oavT6EB&index=172',\n",
       " 'https://www.youtube.com/watch?v=tQ0XF4In96k&list=PLhXu26RzZZTwus4cNbPTcgXXH6oavT6EB&index=173',\n",
       " 'https://www.youtube.com/watch?v=c6M6Ma-GZEg&list=PLhXu26RzZZTwus4cNbPTcgXXH6oavT6EB&index=174',\n",
       " 'https://www.youtube.com/watch?v=rGNUWRFm9YU&list=PLhXu26RzZZTwus4cNbPTcgXXH6oavT6EB&index=175',\n",
       " 'https://www.youtube.com/watch?v=q5qLHw65NtA&list=PLhXu26RzZZTwus4cNbPTcgXXH6oavT6EB&index=176',\n",
       " 'https://www.youtube.com/watch?v=D4sP8kau91E&list=PLhXu26RzZZTwus4cNbPTcgXXH6oavT6EB&index=177',\n",
       " 'https://www.youtube.com/watch?v=FZftPWMYjKQ&list=PLhXu26RzZZTwus4cNbPTcgXXH6oavT6EB&index=178']"
      ]
     },
     "execution_count": 3,
     "metadata": {},
     "output_type": "execute_result"
    }
   ],
   "source": [
    "hreflist = ['https://www.youtube.com'+a['href'] for a in soup.find_all('a',{'class':' spf-link playlist-video clearfix yt-uix-sessionlink spf-link '})]\n",
    "hreflist"
   ]
  },
  {
   "cell_type": "code",
   "execution_count": 4,
   "metadata": {},
   "outputs": [],
   "source": [
    "from pytube import Playlist\n",
    "from pytube import YouTube\n",
    "from pprint import pprint\n",
    "from moviepy.editor import VideoFileClip"
   ]
  },
  {
   "cell_type": "code",
   "execution_count": null,
   "metadata": {},
   "outputs": [
    {
     "name": "stdout",
     "output_type": "stream",
     "text": [
      "https://www.youtube.com/watch?v=U87NYhOL8as&list=PLhXu26RzZZTwus4cNbPTcgXXH6oavT6EB&index=1\n",
      "[MoviePy] >>>> Building video F:/youtube/分析/1/01課程介紹.mp4\n",
      "[MoviePy] Writing audio in 01課程介紹TEMP_MPY_wvf_snd.mp3\n"
     ]
    },
    {
     "name": "stderr",
     "output_type": "stream",
     "text": [
      "100%|███████████████████████████████████████████████████████████████████████████| 14241/14241 [00:28<00:00, 504.73it/s]\n"
     ]
    },
    {
     "name": "stdout",
     "output_type": "stream",
     "text": [
      "[MoviePy] Done.\n",
      "[MoviePy] Writing video F:/youtube/分析/1/01課程介紹.mp4\n"
     ]
    },
    {
     "name": "stderr",
     "output_type": "stream",
     "text": [
      "100%|███████████████████████████████████████████████████████████████████████████▉| 16144/16145 [03:52<00:00, 69.55it/s]\n"
     ]
    },
    {
     "name": "stdout",
     "output_type": "stream",
     "text": [
      "[MoviePy] Done.\n",
      "[MoviePy] >>>> Video ready: F:/youtube/分析/1/01課程介紹.mp4 \n",
      "\n",
      "https://www.youtube.com/watch?v=wbGPmMDHUag&list=PLhXu26RzZZTwus4cNbPTcgXXH6oavT6EB&index=2\n",
      "[MoviePy] >>>> Building video F:/youtube/分析/1/02機器學習概述.mp4\n",
      "[MoviePy] Writing audio in 02機器學習概述TEMP_MPY_wvf_snd.mp3\n"
     ]
    },
    {
     "name": "stderr",
     "output_type": "stream",
     "text": [
      "100%|███████████████████████████████████████████████████████████████████████████| 13320/13320 [00:27<00:00, 485.98it/s]\n"
     ]
    },
    {
     "name": "stdout",
     "output_type": "stream",
     "text": [
      "[MoviePy] Done.\n",
      "[MoviePy] Writing video F:/youtube/分析/1/02機器學習概述.mp4\n"
     ]
    },
    {
     "name": "stderr",
     "output_type": "stream",
     "text": [
      "100%|███████████████████████████████████████████████████████████████████████████▉| 15100/15101 [03:09<00:00, 79.74it/s]\n"
     ]
    },
    {
     "name": "stdout",
     "output_type": "stream",
     "text": [
      "[MoviePy] Done.\n",
      "[MoviePy] >>>> Video ready: F:/youtube/分析/1/02機器學習概述.mp4 \n",
      "\n",
      "https://www.youtube.com/watch?v=2OygBkQ06oI&list=PLhXu26RzZZTwus4cNbPTcgXXH6oavT6EB&index=3\n"
     ]
    }
   ],
   "source": [
    "j = 1\n",
    "err = []\n",
    "for link in hreflist[:]:\n",
    "    k = 1\n",
    "    print(link)\n",
    "    while k!=0:\n",
    "        try:\n",
    "            yt = YouTube(link)\n",
    "            k = 0\n",
    "        except KeyError:\n",
    "            print(j)\n",
    "    title = yt.title\n",
    "    path = r'F:/youtube/分析/%sa.mp4' % str(j)\n",
    "\n",
    "    clip1 = VideoFileClip(path)\n",
    "    audioclip1 = clip1.audio\n",
    "    path = r'F:/youtube/分析/%sv.mp4' % str(j)\n",
    "    clip2 = VideoFileClip(path)\n",
    "\n",
    "    new_video = clip2.set_audio(audioclip1)\n",
    "    # audioclip1.write_audiofile(\"twice_jelly_jelly.mp3\")  # 如果想要輸出 mp3\n",
    "    a = re.findall(r'课时\\d+\\W+\\w+',title)[0][2:].replace('.','')+'.mp4'\n",
    "    filename = Converter('zh-hant').convert(a)\n",
    "    filepath = r'F:/youtube/分析/1/%s' % filename\n",
    "    try:\n",
    "        new_video.write_videofile(filepath)\n",
    "    except :\n",
    "        err.append(link)\n",
    "    j += 1"
   ]
  }
 ],
 "metadata": {
  "kernelspec": {
   "display_name": "Python 3",
   "language": "python",
   "name": "python3"
  },
  "language_info": {
   "codemirror_mode": {
    "name": "ipython",
    "version": 3
   },
   "file_extension": ".py",
   "mimetype": "text/x-python",
   "name": "python",
   "nbconvert_exporter": "python",
   "pygments_lexer": "ipython3",
   "version": "3.6.5"
  }
 },
 "nbformat": 4,
 "nbformat_minor": 2
}
