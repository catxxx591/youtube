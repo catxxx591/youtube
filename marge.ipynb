{
 "cells": [
  {
   "cell_type": "code",
   "execution_count": 1,
   "metadata": {},
   "outputs": [],
   "source": [
    "import requests\n",
    "from bs4 import BeautifulSoup\n",
    "import re\n",
    "from zhtools.langconv import Converter"
   ]
  },
  {
   "cell_type": "code",
   "execution_count": 2,
   "metadata": {},
   "outputs": [],
   "source": [
    "url1 = 'https://www.youtube.com/watch?v=U87NYhOL8as&list=PLhXu26RzZZTwus4cNbPTcgXXH6oavT6EB&index=1'\n",
    "res1 = requests.get(url1)\n",
    "soup = BeautifulSoup(res1.text,'html5lib')"
   ]
  },
  {
   "cell_type": "code",
   "execution_count": 3,
   "metadata": {},
   "outputs": [
    {
     "data": {
      "text/plain": [
       "['https://www.youtube.com/watch?v=U87NYhOL8as&list=PLhXu26RzZZTwus4cNbPTcgXXH6oavT6EB&index=1',\n",
       " 'https://www.youtube.com/watch?v=wbGPmMDHUag&list=PLhXu26RzZZTwus4cNbPTcgXXH6oavT6EB&index=2',\n",
       " 'https://www.youtube.com/watch?v=2OygBkQ06oI&list=PLhXu26RzZZTwus4cNbPTcgXXH6oavT6EB&index=3',\n",
       " 'https://www.youtube.com/watch?v=VTWXxGnB9mk&list=PLhXu26RzZZTwus4cNbPTcgXXH6oavT6EB&index=4',\n",
       " 'https://www.youtube.com/watch?v=MewCpW2PsHQ&list=PLhXu26RzZZTwus4cNbPTcgXXH6oavT6EB&index=5',\n",
       " 'https://www.youtube.com/watch?v=inEpm9T9Poo&list=PLhXu26RzZZTwus4cNbPTcgXXH6oavT6EB&index=6',\n",
       " 'https://www.youtube.com/watch?v=WI3-PByJUQs&list=PLhXu26RzZZTwus4cNbPTcgXXH6oavT6EB&index=7',\n",
       " 'https://www.youtube.com/watch?v=6c_gxXo4w9E&list=PLhXu26RzZZTwus4cNbPTcgXXH6oavT6EB&index=8',\n",
       " 'https://www.youtube.com/watch?v=SvNasnX5Wlc&list=PLhXu26RzZZTwus4cNbPTcgXXH6oavT6EB&index=9',\n",
       " 'https://www.youtube.com/watch?v=qE5PBdZpz0k&list=PLhXu26RzZZTwus4cNbPTcgXXH6oavT6EB&index=10',\n",
       " 'https://www.youtube.com/watch?v=k_LCD_VWHzo&list=PLhXu26RzZZTwus4cNbPTcgXXH6oavT6EB&index=11',\n",
       " 'https://www.youtube.com/watch?v=Ml83RV5f3l4&list=PLhXu26RzZZTwus4cNbPTcgXXH6oavT6EB&index=12',\n",
       " 'https://www.youtube.com/watch?v=S-phXIcjyQY&list=PLhXu26RzZZTwus4cNbPTcgXXH6oavT6EB&index=13',\n",
       " 'https://www.youtube.com/watch?v=YASC5oMkhv0&list=PLhXu26RzZZTwus4cNbPTcgXXH6oavT6EB&index=14',\n",
       " 'https://www.youtube.com/watch?v=lkuMUD-krdw&list=PLhXu26RzZZTwus4cNbPTcgXXH6oavT6EB&index=15',\n",
       " 'https://www.youtube.com/watch?v=LZI8-eb9JfQ&list=PLhXu26RzZZTwus4cNbPTcgXXH6oavT6EB&index=16',\n",
       " 'https://www.youtube.com/watch?v=RPbXGb50YlY&list=PLhXu26RzZZTwus4cNbPTcgXXH6oavT6EB&index=17',\n",
       " 'https://www.youtube.com/watch?v=Z9LQew4qOQE&list=PLhXu26RzZZTwus4cNbPTcgXXH6oavT6EB&index=18',\n",
       " 'https://www.youtube.com/watch?v=vBRx76IwgQM&list=PLhXu26RzZZTwus4cNbPTcgXXH6oavT6EB&index=19',\n",
       " 'https://www.youtube.com/watch?v=BGSCkcnLzTk&list=PLhXu26RzZZTwus4cNbPTcgXXH6oavT6EB&index=20',\n",
       " 'https://www.youtube.com/watch?v=3Df-5p96gKg&list=PLhXu26RzZZTwus4cNbPTcgXXH6oavT6EB&index=21',\n",
       " 'https://www.youtube.com/watch?v=f3Yygw9bqyc&list=PLhXu26RzZZTwus4cNbPTcgXXH6oavT6EB&index=22',\n",
       " 'https://www.youtube.com/watch?v=k2bhClE3idA&list=PLhXu26RzZZTwus4cNbPTcgXXH6oavT6EB&index=23',\n",
       " 'https://www.youtube.com/watch?v=SjQqiRpkGls&list=PLhXu26RzZZTwus4cNbPTcgXXH6oavT6EB&index=24',\n",
       " 'https://www.youtube.com/watch?v=XOHLadcHs1k&list=PLhXu26RzZZTwus4cNbPTcgXXH6oavT6EB&index=25',\n",
       " 'https://www.youtube.com/watch?v=BLvxJsECR0E&list=PLhXu26RzZZTwus4cNbPTcgXXH6oavT6EB&index=26',\n",
       " 'https://www.youtube.com/watch?v=VRhhnQuppYc&list=PLhXu26RzZZTwus4cNbPTcgXXH6oavT6EB&index=27',\n",
       " 'https://www.youtube.com/watch?v=ob3w2PUVmGc&list=PLhXu26RzZZTwus4cNbPTcgXXH6oavT6EB&index=28',\n",
       " 'https://www.youtube.com/watch?v=3I9-AsSy1j0&list=PLhXu26RzZZTwus4cNbPTcgXXH6oavT6EB&index=29',\n",
       " 'https://www.youtube.com/watch?v=GvpeVqfkB60&list=PLhXu26RzZZTwus4cNbPTcgXXH6oavT6EB&index=30',\n",
       " 'https://www.youtube.com/watch?v=Gr7hBqvM0iE&list=PLhXu26RzZZTwus4cNbPTcgXXH6oavT6EB&index=31',\n",
       " 'https://www.youtube.com/watch?v=Cuzi8QSXE0M&list=PLhXu26RzZZTwus4cNbPTcgXXH6oavT6EB&index=32',\n",
       " 'https://www.youtube.com/watch?v=7mCJsks4xxY&list=PLhXu26RzZZTwus4cNbPTcgXXH6oavT6EB&index=33',\n",
       " 'https://www.youtube.com/watch?v=l6M8vnPdFB0&list=PLhXu26RzZZTwus4cNbPTcgXXH6oavT6EB&index=34',\n",
       " 'https://www.youtube.com/watch?v=lhD6ZT76hpg&list=PLhXu26RzZZTwus4cNbPTcgXXH6oavT6EB&index=35',\n",
       " 'https://www.youtube.com/watch?v=06l-vuuE930&list=PLhXu26RzZZTwus4cNbPTcgXXH6oavT6EB&index=36',\n",
       " 'https://www.youtube.com/watch?v=-A9kHuIQsII&list=PLhXu26RzZZTwus4cNbPTcgXXH6oavT6EB&index=37',\n",
       " 'https://www.youtube.com/watch?v=DzaMHZ6m7Iw&list=PLhXu26RzZZTwus4cNbPTcgXXH6oavT6EB&index=38',\n",
       " 'https://www.youtube.com/watch?v=CGDrWpmkgsg&list=PLhXu26RzZZTwus4cNbPTcgXXH6oavT6EB&index=39',\n",
       " 'https://www.youtube.com/watch?v=gbZAPiGZR4g&list=PLhXu26RzZZTwus4cNbPTcgXXH6oavT6EB&index=40',\n",
       " 'https://www.youtube.com/watch?v=3v0PKUpjCJ0&list=PLhXu26RzZZTwus4cNbPTcgXXH6oavT6EB&index=41',\n",
       " 'https://www.youtube.com/watch?v=4DknseRLiY0&list=PLhXu26RzZZTwus4cNbPTcgXXH6oavT6EB&index=42',\n",
       " 'https://www.youtube.com/watch?v=eR_ihrXLERk&list=PLhXu26RzZZTwus4cNbPTcgXXH6oavT6EB&index=43',\n",
       " 'https://www.youtube.com/watch?v=mY2lNbrVEdA&list=PLhXu26RzZZTwus4cNbPTcgXXH6oavT6EB&index=44',\n",
       " 'https://www.youtube.com/watch?v=OB3wM_JbZKs&list=PLhXu26RzZZTwus4cNbPTcgXXH6oavT6EB&index=45',\n",
       " 'https://www.youtube.com/watch?v=d6DEG-Fb67E&list=PLhXu26RzZZTwus4cNbPTcgXXH6oavT6EB&index=46',\n",
       " 'https://www.youtube.com/watch?v=gfvzU6wE-Zg&list=PLhXu26RzZZTwus4cNbPTcgXXH6oavT6EB&index=47',\n",
       " 'https://www.youtube.com/watch?v=32K1mfuSC40&list=PLhXu26RzZZTwus4cNbPTcgXXH6oavT6EB&index=48',\n",
       " 'https://www.youtube.com/watch?v=artFW5By-Xw&list=PLhXu26RzZZTwus4cNbPTcgXXH6oavT6EB&index=49',\n",
       " 'https://www.youtube.com/watch?v=cR7FYtIaCwQ&list=PLhXu26RzZZTwus4cNbPTcgXXH6oavT6EB&index=50',\n",
       " 'https://www.youtube.com/watch?v=eS5Y4_me3dI&list=PLhXu26RzZZTwus4cNbPTcgXXH6oavT6EB&index=51',\n",
       " 'https://www.youtube.com/watch?v=_gFcmfAT6og&list=PLhXu26RzZZTwus4cNbPTcgXXH6oavT6EB&index=52',\n",
       " 'https://www.youtube.com/watch?v=ammTFd4Tdto&list=PLhXu26RzZZTwus4cNbPTcgXXH6oavT6EB&index=53',\n",
       " 'https://www.youtube.com/watch?v=o3oRG9VpVXU&list=PLhXu26RzZZTwus4cNbPTcgXXH6oavT6EB&index=54',\n",
       " 'https://www.youtube.com/watch?v=jxSmpHYSVjI&list=PLhXu26RzZZTwus4cNbPTcgXXH6oavT6EB&index=55',\n",
       " 'https://www.youtube.com/watch?v=N5p-V0hdgzs&list=PLhXu26RzZZTwus4cNbPTcgXXH6oavT6EB&index=56',\n",
       " 'https://www.youtube.com/watch?v=YdOSQWTJhRw&list=PLhXu26RzZZTwus4cNbPTcgXXH6oavT6EB&index=57',\n",
       " 'https://www.youtube.com/watch?v=MR1rzdwNdTk&list=PLhXu26RzZZTwus4cNbPTcgXXH6oavT6EB&index=58',\n",
       " 'https://www.youtube.com/watch?v=NpmFusBntQo&list=PLhXu26RzZZTwus4cNbPTcgXXH6oavT6EB&index=59',\n",
       " 'https://www.youtube.com/watch?v=bP0AhC3B6fY&list=PLhXu26RzZZTwus4cNbPTcgXXH6oavT6EB&index=60',\n",
       " 'https://www.youtube.com/watch?v=UAoa4gTMM44&list=PLhXu26RzZZTwus4cNbPTcgXXH6oavT6EB&index=61',\n",
       " 'https://www.youtube.com/watch?v=LHuyN9YTiwA&list=PLhXu26RzZZTwus4cNbPTcgXXH6oavT6EB&index=62',\n",
       " 'https://www.youtube.com/watch?v=EYNPTJ9AtrI&list=PLhXu26RzZZTwus4cNbPTcgXXH6oavT6EB&index=63',\n",
       " 'https://www.youtube.com/watch?v=NIEHxRovAdk&list=PLhXu26RzZZTwus4cNbPTcgXXH6oavT6EB&index=64',\n",
       " 'https://www.youtube.com/watch?v=2E2L4VhyFuY&list=PLhXu26RzZZTwus4cNbPTcgXXH6oavT6EB&index=65',\n",
       " 'https://www.youtube.com/watch?v=LkCCaKwwMoQ&list=PLhXu26RzZZTwus4cNbPTcgXXH6oavT6EB&index=66',\n",
       " 'https://www.youtube.com/watch?v=4dmHaNuKujk&list=PLhXu26RzZZTwus4cNbPTcgXXH6oavT6EB&index=67',\n",
       " 'https://www.youtube.com/watch?v=c_kIkegld_0&list=PLhXu26RzZZTwus4cNbPTcgXXH6oavT6EB&index=68',\n",
       " 'https://www.youtube.com/watch?v=3ZVQY-MZaV8&list=PLhXu26RzZZTwus4cNbPTcgXXH6oavT6EB&index=69',\n",
       " 'https://www.youtube.com/watch?v=lZp0Mc3Gano&list=PLhXu26RzZZTwus4cNbPTcgXXH6oavT6EB&index=70',\n",
       " 'https://www.youtube.com/watch?v=mPaSfZt6KQs&list=PLhXu26RzZZTwus4cNbPTcgXXH6oavT6EB&index=71',\n",
       " 'https://www.youtube.com/watch?v=3hTpfg9nx3E&list=PLhXu26RzZZTwus4cNbPTcgXXH6oavT6EB&index=72',\n",
       " 'https://www.youtube.com/watch?v=EgZ6BkAZzwU&list=PLhXu26RzZZTwus4cNbPTcgXXH6oavT6EB&index=73',\n",
       " 'https://www.youtube.com/watch?v=kDLzd8TZdHE&list=PLhXu26RzZZTwus4cNbPTcgXXH6oavT6EB&index=74',\n",
       " 'https://www.youtube.com/watch?v=FNuKtQ32bGY&list=PLhXu26RzZZTwus4cNbPTcgXXH6oavT6EB&index=75',\n",
       " 'https://www.youtube.com/watch?v=DY3_TLS5IOA&list=PLhXu26RzZZTwus4cNbPTcgXXH6oavT6EB&index=76',\n",
       " 'https://www.youtube.com/watch?v=qgHzU37ze00&list=PLhXu26RzZZTwus4cNbPTcgXXH6oavT6EB&index=77',\n",
       " 'https://www.youtube.com/watch?v=7TJzHSh1y8o&list=PLhXu26RzZZTwus4cNbPTcgXXH6oavT6EB&index=78',\n",
       " 'https://www.youtube.com/watch?v=5kXRnaybEuI&list=PLhXu26RzZZTwus4cNbPTcgXXH6oavT6EB&index=79',\n",
       " 'https://www.youtube.com/watch?v=ZrjhZUT3s54&list=PLhXu26RzZZTwus4cNbPTcgXXH6oavT6EB&index=80',\n",
       " 'https://www.youtube.com/watch?v=kppM3ZsICGM&list=PLhXu26RzZZTwus4cNbPTcgXXH6oavT6EB&index=81',\n",
       " 'https://www.youtube.com/watch?v=_DUZLv-Iqfk&list=PLhXu26RzZZTwus4cNbPTcgXXH6oavT6EB&index=82',\n",
       " 'https://www.youtube.com/watch?v=K6FFlX9RJBE&list=PLhXu26RzZZTwus4cNbPTcgXXH6oavT6EB&index=83',\n",
       " 'https://www.youtube.com/watch?v=IUSqW4AG66o&list=PLhXu26RzZZTwus4cNbPTcgXXH6oavT6EB&index=84',\n",
       " 'https://www.youtube.com/watch?v=xDcqKUCK9uU&list=PLhXu26RzZZTwus4cNbPTcgXXH6oavT6EB&index=85',\n",
       " 'https://www.youtube.com/watch?v=2HkWMDfFgj8&list=PLhXu26RzZZTwus4cNbPTcgXXH6oavT6EB&index=86',\n",
       " 'https://www.youtube.com/watch?v=C1mcaTtuVvQ&list=PLhXu26RzZZTwus4cNbPTcgXXH6oavT6EB&index=87',\n",
       " 'https://www.youtube.com/watch?v=Hi9mDWLUFHU&list=PLhXu26RzZZTwus4cNbPTcgXXH6oavT6EB&index=88',\n",
       " 'https://www.youtube.com/watch?v=nzcE9jdg2gk&list=PLhXu26RzZZTwus4cNbPTcgXXH6oavT6EB&index=89',\n",
       " 'https://www.youtube.com/watch?v=BhFdQ87IXys&list=PLhXu26RzZZTwus4cNbPTcgXXH6oavT6EB&index=90',\n",
       " 'https://www.youtube.com/watch?v=ov8lNhv33fw&list=PLhXu26RzZZTwus4cNbPTcgXXH6oavT6EB&index=91',\n",
       " 'https://www.youtube.com/watch?v=V4a_3FyzUuA&list=PLhXu26RzZZTwus4cNbPTcgXXH6oavT6EB&index=92',\n",
       " 'https://www.youtube.com/watch?v=BODPCVBMQgk&list=PLhXu26RzZZTwus4cNbPTcgXXH6oavT6EB&index=93',\n",
       " 'https://www.youtube.com/watch?v=k7Ss2s7-QHo&list=PLhXu26RzZZTwus4cNbPTcgXXH6oavT6EB&index=94',\n",
       " 'https://www.youtube.com/watch?v=v4SKXPt_qVM&list=PLhXu26RzZZTwus4cNbPTcgXXH6oavT6EB&index=95',\n",
       " 'https://www.youtube.com/watch?v=13VCA6G-rQ4&list=PLhXu26RzZZTwus4cNbPTcgXXH6oavT6EB&index=96',\n",
       " 'https://www.youtube.com/watch?v=Luhqq1PP_G8&list=PLhXu26RzZZTwus4cNbPTcgXXH6oavT6EB&index=97',\n",
       " 'https://www.youtube.com/watch?v=ZHkP06bLqMk&list=PLhXu26RzZZTwus4cNbPTcgXXH6oavT6EB&index=98',\n",
       " 'https://www.youtube.com/watch?v=O-mQUOcdkSI&list=PLhXu26RzZZTwus4cNbPTcgXXH6oavT6EB&index=99',\n",
       " 'https://www.youtube.com/watch?v=PfhLyTjMeTQ&list=PLhXu26RzZZTwus4cNbPTcgXXH6oavT6EB&index=100',\n",
       " 'https://www.youtube.com/watch?v=v-VmHfa9DI8&list=PLhXu26RzZZTwus4cNbPTcgXXH6oavT6EB&index=101',\n",
       " 'https://www.youtube.com/watch?v=BlDGwNqfJUU&list=PLhXu26RzZZTwus4cNbPTcgXXH6oavT6EB&index=102',\n",
       " 'https://www.youtube.com/watch?v=kvHGHjuxYx0&list=PLhXu26RzZZTwus4cNbPTcgXXH6oavT6EB&index=103',\n",
       " 'https://www.youtube.com/watch?v=RO73xGnVflM&list=PLhXu26RzZZTwus4cNbPTcgXXH6oavT6EB&index=104',\n",
       " 'https://www.youtube.com/watch?v=u7IPXwQLeAs&list=PLhXu26RzZZTwus4cNbPTcgXXH6oavT6EB&index=105',\n",
       " 'https://www.youtube.com/watch?v=fcUeG3ez3_c&list=PLhXu26RzZZTwus4cNbPTcgXXH6oavT6EB&index=106',\n",
       " 'https://www.youtube.com/watch?v=l8IKkHRed6E&list=PLhXu26RzZZTwus4cNbPTcgXXH6oavT6EB&index=107',\n",
       " 'https://www.youtube.com/watch?v=Np6l-hJbFDY&list=PLhXu26RzZZTwus4cNbPTcgXXH6oavT6EB&index=108',\n",
       " 'https://www.youtube.com/watch?v=rMyX8tv_KEA&list=PLhXu26RzZZTwus4cNbPTcgXXH6oavT6EB&index=109',\n",
       " 'https://www.youtube.com/watch?v=LPUODekDSTg&list=PLhXu26RzZZTwus4cNbPTcgXXH6oavT6EB&index=110',\n",
       " 'https://www.youtube.com/watch?v=ArqE3xsVYT4&list=PLhXu26RzZZTwus4cNbPTcgXXH6oavT6EB&index=111',\n",
       " 'https://www.youtube.com/watch?v=7iqYb95yOPI&list=PLhXu26RzZZTwus4cNbPTcgXXH6oavT6EB&index=112',\n",
       " 'https://www.youtube.com/watch?v=ap2dZvWuqFg&list=PLhXu26RzZZTwus4cNbPTcgXXH6oavT6EB&index=113',\n",
       " 'https://www.youtube.com/watch?v=4c3l7X94XEU&list=PLhXu26RzZZTwus4cNbPTcgXXH6oavT6EB&index=114',\n",
       " 'https://www.youtube.com/watch?v=vfXoF6rVqcg&list=PLhXu26RzZZTwus4cNbPTcgXXH6oavT6EB&index=115',\n",
       " 'https://www.youtube.com/watch?v=bGd8auw6MC0&list=PLhXu26RzZZTwus4cNbPTcgXXH6oavT6EB&index=116',\n",
       " 'https://www.youtube.com/watch?v=_BZSbdXnyRY&list=PLhXu26RzZZTwus4cNbPTcgXXH6oavT6EB&index=117',\n",
       " 'https://www.youtube.com/watch?v=Gt0mJt-VMow&list=PLhXu26RzZZTwus4cNbPTcgXXH6oavT6EB&index=118',\n",
       " 'https://www.youtube.com/watch?v=LBEsct0QvXE&list=PLhXu26RzZZTwus4cNbPTcgXXH6oavT6EB&index=119',\n",
       " 'https://www.youtube.com/watch?v=i0uj_Prx4ZQ&list=PLhXu26RzZZTwus4cNbPTcgXXH6oavT6EB&index=120',\n",
       " 'https://www.youtube.com/watch?v=6KZl82ZR8w8&list=PLhXu26RzZZTwus4cNbPTcgXXH6oavT6EB&index=121',\n",
       " 'https://www.youtube.com/watch?v=62ZodlHyDEk&list=PLhXu26RzZZTwus4cNbPTcgXXH6oavT6EB&index=122',\n",
       " 'https://www.youtube.com/watch?v=PwFpMdneKG4&list=PLhXu26RzZZTwus4cNbPTcgXXH6oavT6EB&index=123',\n",
       " 'https://www.youtube.com/watch?v=wxWzu7JM9wE&list=PLhXu26RzZZTwus4cNbPTcgXXH6oavT6EB&index=124',\n",
       " 'https://www.youtube.com/watch?v=RPymqq_kMc0&list=PLhXu26RzZZTwus4cNbPTcgXXH6oavT6EB&index=125',\n",
       " 'https://www.youtube.com/watch?v=ZJiPm9Xfz1k&list=PLhXu26RzZZTwus4cNbPTcgXXH6oavT6EB&index=126',\n",
       " 'https://www.youtube.com/watch?v=fmlaYUJTQ0E&list=PLhXu26RzZZTwus4cNbPTcgXXH6oavT6EB&index=127',\n",
       " 'https://www.youtube.com/watch?v=oCIW-TPfeEk&list=PLhXu26RzZZTwus4cNbPTcgXXH6oavT6EB&index=128',\n",
       " 'https://www.youtube.com/watch?v=dLAm7xDm2Go&list=PLhXu26RzZZTwus4cNbPTcgXXH6oavT6EB&index=129',\n",
       " 'https://www.youtube.com/watch?v=XsPQ0xgrdJU&list=PLhXu26RzZZTwus4cNbPTcgXXH6oavT6EB&index=130',\n",
       " 'https://www.youtube.com/watch?v=2t9LKH12x-I&list=PLhXu26RzZZTwus4cNbPTcgXXH6oavT6EB&index=131',\n",
       " 'https://www.youtube.com/watch?v=ZOYYrTDN6N0&list=PLhXu26RzZZTwus4cNbPTcgXXH6oavT6EB&index=132',\n",
       " 'https://www.youtube.com/watch?v=wMhpnk2xW6c&list=PLhXu26RzZZTwus4cNbPTcgXXH6oavT6EB&index=133',\n",
       " 'https://www.youtube.com/watch?v=_dGArVBMHic&list=PLhXu26RzZZTwus4cNbPTcgXXH6oavT6EB&index=134',\n",
       " 'https://www.youtube.com/watch?v=YOJ9vtZ_oLY&list=PLhXu26RzZZTwus4cNbPTcgXXH6oavT6EB&index=135',\n",
       " 'https://www.youtube.com/watch?v=kyJGghus-BQ&list=PLhXu26RzZZTwus4cNbPTcgXXH6oavT6EB&index=136',\n",
       " 'https://www.youtube.com/watch?v=S9nQCTmR8s8&list=PLhXu26RzZZTwus4cNbPTcgXXH6oavT6EB&index=137',\n",
       " 'https://www.youtube.com/watch?v=erLJUbZQ8KU&list=PLhXu26RzZZTwus4cNbPTcgXXH6oavT6EB&index=138',\n",
       " 'https://www.youtube.com/watch?v=hwk56n4gNiE&list=PLhXu26RzZZTwus4cNbPTcgXXH6oavT6EB&index=139',\n",
       " 'https://www.youtube.com/watch?v=Ikg5G5oqZP4&list=PLhXu26RzZZTwus4cNbPTcgXXH6oavT6EB&index=140',\n",
       " 'https://www.youtube.com/watch?v=cHkTSYwR-Wg&list=PLhXu26RzZZTwus4cNbPTcgXXH6oavT6EB&index=141',\n",
       " 'https://www.youtube.com/watch?v=LhZx00wh6hA&list=PLhXu26RzZZTwus4cNbPTcgXXH6oavT6EB&index=142',\n",
       " 'https://www.youtube.com/watch?v=CXJsfsSC2y0&list=PLhXu26RzZZTwus4cNbPTcgXXH6oavT6EB&index=143',\n",
       " 'https://www.youtube.com/watch?v=PgyZVAFM4vc&list=PLhXu26RzZZTwus4cNbPTcgXXH6oavT6EB&index=144',\n",
       " 'https://www.youtube.com/watch?v=SpMORY68ZYs&list=PLhXu26RzZZTwus4cNbPTcgXXH6oavT6EB&index=145',\n",
       " 'https://www.youtube.com/watch?v=NbOJR-hv-6Y&list=PLhXu26RzZZTwus4cNbPTcgXXH6oavT6EB&index=146',\n",
       " 'https://www.youtube.com/watch?v=QuEyYCAuf2w&list=PLhXu26RzZZTwus4cNbPTcgXXH6oavT6EB&index=147',\n",
       " 'https://www.youtube.com/watch?v=hGOhA1eDtuU&list=PLhXu26RzZZTwus4cNbPTcgXXH6oavT6EB&index=148',\n",
       " 'https://www.youtube.com/watch?v=3vlm-nPIDhk&list=PLhXu26RzZZTwus4cNbPTcgXXH6oavT6EB&index=149',\n",
       " 'https://www.youtube.com/watch?v=6d_FVmPuTdI&list=PLhXu26RzZZTwus4cNbPTcgXXH6oavT6EB&index=150',\n",
       " 'https://www.youtube.com/watch?v=2So_hZ0IzjA&list=PLhXu26RzZZTwus4cNbPTcgXXH6oavT6EB&index=151',\n",
       " 'https://www.youtube.com/watch?v=nH06YdjQ-9I&list=PLhXu26RzZZTwus4cNbPTcgXXH6oavT6EB&index=152',\n",
       " 'https://www.youtube.com/watch?v=Z4ABer_P2hE&list=PLhXu26RzZZTwus4cNbPTcgXXH6oavT6EB&index=153',\n",
       " 'https://www.youtube.com/watch?v=np6cRPJuhGo&list=PLhXu26RzZZTwus4cNbPTcgXXH6oavT6EB&index=154',\n",
       " 'https://www.youtube.com/watch?v=bl2Y3zeG8CE&list=PLhXu26RzZZTwus4cNbPTcgXXH6oavT6EB&index=155',\n",
       " 'https://www.youtube.com/watch?v=-MNUyLgD9hQ&list=PLhXu26RzZZTwus4cNbPTcgXXH6oavT6EB&index=156',\n",
       " 'https://www.youtube.com/watch?v=z5aiF20WgXA&list=PLhXu26RzZZTwus4cNbPTcgXXH6oavT6EB&index=157',\n",
       " 'https://www.youtube.com/watch?v=6uRfMw4LlNk&list=PLhXu26RzZZTwus4cNbPTcgXXH6oavT6EB&index=158',\n",
       " 'https://www.youtube.com/watch?v=_xRxwZRON4g&list=PLhXu26RzZZTwus4cNbPTcgXXH6oavT6EB&index=159',\n",
       " 'https://www.youtube.com/watch?v=5GY_lBnXo8g&list=PLhXu26RzZZTwus4cNbPTcgXXH6oavT6EB&index=160',\n",
       " 'https://www.youtube.com/watch?v=YAmGg3A0EQ0&list=PLhXu26RzZZTwus4cNbPTcgXXH6oavT6EB&index=161',\n",
       " 'https://www.youtube.com/watch?v=Mqdn4zfrhQM&list=PLhXu26RzZZTwus4cNbPTcgXXH6oavT6EB&index=162',\n",
       " 'https://www.youtube.com/watch?v=iq0h-IsA3W8&list=PLhXu26RzZZTwus4cNbPTcgXXH6oavT6EB&index=163',\n",
       " 'https://www.youtube.com/watch?v=fiv8fKMvg7o&list=PLhXu26RzZZTwus4cNbPTcgXXH6oavT6EB&index=164',\n",
       " 'https://www.youtube.com/watch?v=zfre4C8LrMg&list=PLhXu26RzZZTwus4cNbPTcgXXH6oavT6EB&index=165',\n",
       " 'https://www.youtube.com/watch?v=AR1L8tfLu4w&list=PLhXu26RzZZTwus4cNbPTcgXXH6oavT6EB&index=166',\n",
       " 'https://www.youtube.com/watch?v=XC-MDYlHdU0&list=PLhXu26RzZZTwus4cNbPTcgXXH6oavT6EB&index=167',\n",
       " 'https://www.youtube.com/watch?v=VKSFsILSOb0&list=PLhXu26RzZZTwus4cNbPTcgXXH6oavT6EB&index=168',\n",
       " 'https://www.youtube.com/watch?v=ShJA7ivZn_Y&list=PLhXu26RzZZTwus4cNbPTcgXXH6oavT6EB&index=169',\n",
       " 'https://www.youtube.com/watch?v=oenPs6gNQuM&list=PLhXu26RzZZTwus4cNbPTcgXXH6oavT6EB&index=170',\n",
       " 'https://www.youtube.com/watch?v=bEzIQYVsz1k&list=PLhXu26RzZZTwus4cNbPTcgXXH6oavT6EB&index=171',\n",
       " 'https://www.youtube.com/watch?v=0A2Bn3itP8c&list=PLhXu26RzZZTwus4cNbPTcgXXH6oavT6EB&index=172',\n",
       " 'https://www.youtube.com/watch?v=tQ0XF4In96k&list=PLhXu26RzZZTwus4cNbPTcgXXH6oavT6EB&index=173',\n",
       " 'https://www.youtube.com/watch?v=c6M6Ma-GZEg&list=PLhXu26RzZZTwus4cNbPTcgXXH6oavT6EB&index=174',\n",
       " 'https://www.youtube.com/watch?v=rGNUWRFm9YU&list=PLhXu26RzZZTwus4cNbPTcgXXH6oavT6EB&index=175',\n",
       " 'https://www.youtube.com/watch?v=q5qLHw65NtA&list=PLhXu26RzZZTwus4cNbPTcgXXH6oavT6EB&index=176',\n",
       " 'https://www.youtube.com/watch?v=D4sP8kau91E&list=PLhXu26RzZZTwus4cNbPTcgXXH6oavT6EB&index=177',\n",
       " 'https://www.youtube.com/watch?v=FZftPWMYjKQ&list=PLhXu26RzZZTwus4cNbPTcgXXH6oavT6EB&index=178']"
      ]
     },
     "execution_count": 3,
     "metadata": {},
     "output_type": "execute_result"
    }
   ],
   "source": [
    "hreflist = ['https://www.youtube.com'+a['href'] for a in soup.find_all('a',{'class':' spf-link playlist-video clearfix yt-uix-sessionlink spf-link '})]\n",
    "hreflist"
   ]
  },
  {
   "cell_type": "code",
   "execution_count": 4,
   "metadata": {},
   "outputs": [],
   "source": [
    "from pytube import Playlist\n",
    "from pytube import YouTube\n",
    "from pprint import pprint\n",
    "from moviepy.editor import VideoFileClip"
   ]
  },
  {
   "cell_type": "code",
   "execution_count": 5,
   "metadata": {},
   "outputs": [
    {
     "name": "stdout",
     "output_type": "stream",
     "text": [
      "https://www.youtube.com/watch?v=U87NYhOL8as&list=PLhXu26RzZZTwus4cNbPTcgXXH6oavT6EB&index=1\n",
      "[MoviePy] >>>> Building video F:/youtube/分析/1/01課程介紹.mp4\n",
      "[MoviePy] Writing audio in 01課程介紹TEMP_MPY_wvf_snd.mp3\n"
     ]
    },
    {
     "name": "stderr",
     "output_type": "stream",
     "text": [
      "100%|███████████████████████████████████████████████████████████████████████████| 14241/14241 [00:27<00:00, 517.86it/s]\n"
     ]
    },
    {
     "name": "stdout",
     "output_type": "stream",
     "text": [
      "[MoviePy] Done.\n",
      "[MoviePy] Writing video F:/youtube/分析/1/01課程介紹.mp4\n"
     ]
    },
    {
     "name": "stderr",
     "output_type": "stream",
     "text": [
      "100%|███████████████████████████████████████████████████████████████████████████▉| 16144/16145 [03:24<00:00, 78.90it/s]\n"
     ]
    },
    {
     "name": "stdout",
     "output_type": "stream",
     "text": [
      "[MoviePy] Done.\n",
      "[MoviePy] >>>> Video ready: F:/youtube/分析/1/01課程介紹.mp4 \n",
      "\n",
      "https://www.youtube.com/watch?v=wbGPmMDHUag&list=PLhXu26RzZZTwus4cNbPTcgXXH6oavT6EB&index=2\n",
      "[MoviePy] >>>> Building video F:/youtube/分析/1/02機器學習概述.mp4\n",
      "[MoviePy] Writing audio in 02機器學習概述TEMP_MPY_wvf_snd.mp3\n"
     ]
    },
    {
     "name": "stderr",
     "output_type": "stream",
     "text": [
      "100%|███████████████████████████████████████████████████████████████████████████| 13320/13320 [00:26<00:00, 507.89it/s]\n"
     ]
    },
    {
     "name": "stdout",
     "output_type": "stream",
     "text": [
      "[MoviePy] Done.\n",
      "[MoviePy] Writing video F:/youtube/分析/1/02機器學習概述.mp4\n"
     ]
    },
    {
     "name": "stderr",
     "output_type": "stream",
     "text": [
      "100%|███████████████████████████████████████████████████████████████████████████▉| 15100/15101 [03:00<00:00, 83.88it/s]\n"
     ]
    },
    {
     "name": "stdout",
     "output_type": "stream",
     "text": [
      "[MoviePy] Done.\n",
      "[MoviePy] >>>> Video ready: F:/youtube/分析/1/02機器學習概述.mp4 \n",
      "\n",
      "https://www.youtube.com/watch?v=2OygBkQ06oI&list=PLhXu26RzZZTwus4cNbPTcgXXH6oavT6EB&index=3\n",
      "[MoviePy] >>>> Building video F:/youtube/分析/1/03使用Anaconda安裝python環境.mp4\n",
      "[MoviePy] Writing audio in 03使用Anaconda安裝python環境TEMP_MPY_wvf_snd.mp3\n"
     ]
    },
    {
     "name": "stderr",
     "output_type": "stream",
     "text": [
      "100%|███████████████████████████████████████████████████████████████████████████| 17423/17423 [00:35<00:00, 496.68it/s]\n"
     ]
    },
    {
     "name": "stdout",
     "output_type": "stream",
     "text": [
      "[MoviePy] Done.\n",
      "[MoviePy] Writing video F:/youtube/分析/1/03使用Anaconda安裝python環境.mp4\n"
     ]
    },
    {
     "name": "stderr",
     "output_type": "stream",
     "text": [
      "100%|███████████████████████████████████████████████████████████████████████████▉| 19752/19753 [04:45<00:00, 69.12it/s]\n"
     ]
    },
    {
     "name": "stdout",
     "output_type": "stream",
     "text": [
      "[MoviePy] Done.\n",
      "[MoviePy] >>>> Video ready: F:/youtube/分析/1/03使用Anaconda安裝python環境.mp4 \n",
      "\n",
      "https://www.youtube.com/watch?v=VTWXxGnB9mk&list=PLhXu26RzZZTwus4cNbPTcgXXH6oavT6EB&index=4\n",
      "[MoviePy] >>>> Building video F:/youtube/分析/1/04課程數據.mp4\n",
      "[MoviePy] Writing audio in 04課程數據TEMP_MPY_wvf_snd.mp3\n"
     ]
    },
    {
     "name": "stderr",
     "output_type": "stream",
     "text": [
      "100%|███████████████████████████████████████████████████████████████████████████████| 355/355 [00:00<00:00, 548.25it/s]\n"
     ]
    },
    {
     "name": "stdout",
     "output_type": "stream",
     "text": [
      "[MoviePy] Done.\n",
      "[MoviePy] Writing video F:/youtube/分析/1/04課程數據.mp4\n"
     ]
    },
    {
     "name": "stderr",
     "output_type": "stream",
     "text": [
      " 99%|████████████████████████████████████████████████████████████████████████████████▏| 96/97 [00:00<00:00, 174.59it/s]\n"
     ]
    },
    {
     "name": "stdout",
     "output_type": "stream",
     "text": [
      "[MoviePy] Done.\n",
      "[MoviePy] >>>> Video ready: F:/youtube/分析/1/04課程數據.mp4 \n",
      "\n",
      "https://www.youtube.com/watch?v=MewCpW2PsHQ&list=PLhXu26RzZZTwus4cNbPTcgXXH6oavT6EB&index=5\n",
      "[MoviePy] >>>> Building video F:/youtube/分析/1/05科學計算庫Numpy.mp4\n",
      "[MoviePy] Writing audio in 05科學計算庫NumpyTEMP_MPY_wvf_snd.mp3\n"
     ]
    },
    {
     "name": "stderr",
     "output_type": "stream",
     "text": [
      "100%|███████████████████████████████████████████████████████████████████████████| 13943/13943 [00:27<00:00, 507.07it/s]\n"
     ]
    },
    {
     "name": "stdout",
     "output_type": "stream",
     "text": [
      "[MoviePy] Done.\n",
      "[MoviePy] Writing video F:/youtube/分析/1/05科學計算庫Numpy.mp4\n"
     ]
    },
    {
     "name": "stderr",
     "output_type": "stream",
     "text": [
      "100%|███████████████████████████████████████████████████████████████████████████▉| 15806/15807 [03:31<00:00, 74.87it/s]\n"
     ]
    },
    {
     "name": "stdout",
     "output_type": "stream",
     "text": [
      "[MoviePy] Done.\n",
      "[MoviePy] >>>> Video ready: F:/youtube/分析/1/05科學計算庫Numpy.mp4 \n",
      "\n",
      "https://www.youtube.com/watch?v=inEpm9T9Poo&list=PLhXu26RzZZTwus4cNbPTcgXXH6oavT6EB&index=6\n",
      "[MoviePy] >>>> Building video F:/youtube/分析/1/06Numpy基礎結構.mp4\n",
      "[MoviePy] Writing audio in 06Numpy基礎結構TEMP_MPY_wvf_snd.mp3\n"
     ]
    },
    {
     "name": "stderr",
     "output_type": "stream",
     "text": [
      "100%|███████████████████████████████████████████████████████████████████████████| 14138/14138 [00:26<00:00, 524.59it/s]\n"
     ]
    },
    {
     "name": "stdout",
     "output_type": "stream",
     "text": [
      "[MoviePy] Done.\n",
      "[MoviePy] Writing video F:/youtube/分析/1/06Numpy基礎結構.mp4\n"
     ]
    },
    {
     "name": "stderr",
     "output_type": "stream",
     "text": [
      "100%|███████████████████████████████████████████████████████████████████████████▉| 16028/16029 [03:12<00:00, 83.15it/s]\n"
     ]
    },
    {
     "name": "stdout",
     "output_type": "stream",
     "text": [
      "[MoviePy] Done.\n",
      "[MoviePy] >>>> Video ready: F:/youtube/分析/1/06Numpy基礎結構.mp4 \n",
      "\n",
      "https://www.youtube.com/watch?v=WI3-PByJUQs&list=PLhXu26RzZZTwus4cNbPTcgXXH6oavT6EB&index=7\n",
      "[MoviePy] >>>> Building video F:/youtube/分析/1/07Numpy矩陣基礎.mp4\n",
      "[MoviePy] Writing audio in 07Numpy矩陣基礎TEMP_MPY_wvf_snd.mp3\n"
     ]
    },
    {
     "name": "stderr",
     "output_type": "stream",
     "text": [
      "100%|█████████████████████████████████████████████████████████████████████████████| 7832/7832 [00:15<00:00, 521.17it/s]\n"
     ]
    },
    {
     "name": "stdout",
     "output_type": "stream",
     "text": [
      "[MoviePy] Done.\n",
      "[MoviePy] Writing video F:/youtube/分析/1/07Numpy矩陣基礎.mp4\n"
     ]
    },
    {
     "name": "stderr",
     "output_type": "stream",
     "text": [
      "100%|█████████████████████████████████████████████████████████████████████████████▉| 8878/8879 [01:53<00:00, 77.93it/s]\n"
     ]
    },
    {
     "name": "stdout",
     "output_type": "stream",
     "text": [
      "[MoviePy] Done.\n",
      "[MoviePy] >>>> Video ready: F:/youtube/分析/1/07Numpy矩陣基礎.mp4 \n",
      "\n",
      "https://www.youtube.com/watch?v=6c_gxXo4w9E&list=PLhXu26RzZZTwus4cNbPTcgXXH6oavT6EB&index=8\n",
      "[MoviePy] >>>> Building video F:/youtube/分析/1/08Numpy常用函數.mp4\n",
      "[MoviePy] Writing audio in 08Numpy常用函數TEMP_MPY_wvf_snd.mp3\n"
     ]
    },
    {
     "name": "stderr",
     "output_type": "stream",
     "text": [
      "100%|███████████████████████████████████████████████████████████████████████████| 15915/15915 [00:32<00:00, 495.41it/s]\n"
     ]
    },
    {
     "name": "stdout",
     "output_type": "stream",
     "text": [
      "[MoviePy] Done.\n",
      "[MoviePy] Writing video F:/youtube/分析/1/08Numpy常用函數.mp4\n"
     ]
    },
    {
     "name": "stderr",
     "output_type": "stream",
     "text": [
      "100%|███████████████████████████████████████████████████████████████████████████▉| 18042/18043 [03:47<00:00, 79.42it/s]\n"
     ]
    },
    {
     "name": "stdout",
     "output_type": "stream",
     "text": [
      "[MoviePy] Done.\n",
      "[MoviePy] >>>> Video ready: F:/youtube/分析/1/08Numpy常用函數.mp4 \n",
      "\n",
      "https://www.youtube.com/watch?v=SvNasnX5Wlc&list=PLhXu26RzZZTwus4cNbPTcgXXH6oavT6EB&index=9\n",
      "[MoviePy] >>>> Building video F:/youtube/分析/1/09矩陣常用操作.mp4\n",
      "[MoviePy] Writing audio in 09矩陣常用操作TEMP_MPY_wvf_snd.mp3\n"
     ]
    },
    {
     "name": "stderr",
     "output_type": "stream",
     "text": [
      "100%|███████████████████████████████████████████████████████████████████████████| 13636/13636 [00:26<00:00, 511.02it/s]\n"
     ]
    },
    {
     "name": "stdout",
     "output_type": "stream",
     "text": [
      "[MoviePy] Done.\n",
      "[MoviePy] Writing video F:/youtube/分析/1/09矩陣常用操作.mp4\n"
     ]
    },
    {
     "name": "stderr",
     "output_type": "stream",
     "text": [
      "100%|████████████████████████████████████████████████████████████████████████████| 15459/15459 [03:40<00:00, 69.96it/s]\n"
     ]
    },
    {
     "name": "stdout",
     "output_type": "stream",
     "text": [
      "[MoviePy] Done.\n",
      "[MoviePy] >>>> Video ready: F:/youtube/分析/1/09矩陣常用操作.mp4 \n",
      "\n",
      "https://www.youtube.com/watch?v=qE5PBdZpz0k&list=PLhXu26RzZZTwus4cNbPTcgXXH6oavT6EB&index=10\n",
      "[MoviePy] >>>> Building video F:/youtube/分析/1/10不同複製操作對比.mp4\n",
      "[MoviePy] Writing audio in 10不同複製操作對比TEMP_MPY_wvf_snd.mp3\n"
     ]
    },
    {
     "name": "stderr",
     "output_type": "stream",
     "text": [
      "100%|███████████████████████████████████████████████████████████████████████████| 14323/14323 [00:29<00:00, 482.85it/s]\n"
     ]
    },
    {
     "name": "stdout",
     "output_type": "stream",
     "text": [
      "[MoviePy] Done.\n",
      "[MoviePy] Writing video F:/youtube/分析/1/10不同複製操作對比.mp4\n"
     ]
    },
    {
     "name": "stderr",
     "output_type": "stream",
     "text": [
      "100%|███████████████████████████████████████████████████████████████████████████▉| 16237/16238 [03:41<00:00, 73.35it/s]\n"
     ]
    },
    {
     "name": "stdout",
     "output_type": "stream",
     "text": [
      "[MoviePy] Done.\n",
      "[MoviePy] >>>> Video ready: F:/youtube/分析/1/10不同複製操作對比.mp4 \n",
      "\n",
      "https://www.youtube.com/watch?v=k_LCD_VWHzo&list=PLhXu26RzZZTwus4cNbPTcgXXH6oavT6EB&index=11\n",
      "[MoviePy] >>>> Building video F:/youtube/分析/1/11Pandas數據讀取.mp4\n",
      "[MoviePy] Writing audio in 11Pandas數據讀取TEMP_MPY_wvf_snd.mp3\n"
     ]
    },
    {
     "name": "stderr",
     "output_type": "stream",
     "text": [
      "100%|███████████████████████████████████████████████████████████████████████████| 15665/15665 [00:30<00:00, 511.63it/s]\n"
     ]
    },
    {
     "name": "stdout",
     "output_type": "stream",
     "text": [
      "[MoviePy] Done.\n",
      "[MoviePy] Writing video F:/youtube/分析/1/11Pandas數據讀取.mp4\n"
     ]
    },
    {
     "name": "stderr",
     "output_type": "stream",
     "text": [
      "100%|███████████████████████████████████████████████████████████████████████████▉| 17759/17760 [04:26<00:00, 91.89it/s]\n"
     ]
    },
    {
     "name": "stdout",
     "output_type": "stream",
     "text": [
      "[MoviePy] Done.\n",
      "[MoviePy] >>>> Video ready: F:/youtube/分析/1/11Pandas數據讀取.mp4 \n",
      "\n",
      "https://www.youtube.com/watch?v=Ml83RV5f3l4&list=PLhXu26RzZZTwus4cNbPTcgXXH6oavT6EB&index=12\n",
      "[MoviePy] >>>> Building video F:/youtube/分析/1/12Pandas索引與計算.mp4\n",
      "[MoviePy] Writing audio in 12Pandas索引與計算TEMP_MPY_wvf_snd.mp3\n"
     ]
    },
    {
     "name": "stderr",
     "output_type": "stream",
     "text": [
      "100%|███████████████████████████████████████████████████████████████████████████| 13810/13810 [00:26<00:00, 526.21it/s]\n"
     ]
    },
    {
     "name": "stdout",
     "output_type": "stream",
     "text": [
      "[MoviePy] Done.\n",
      "[MoviePy] Writing video F:/youtube/分析/1/12Pandas索引與計算.mp4\n"
     ]
    },
    {
     "name": "stderr",
     "output_type": "stream",
     "text": [
      "100%|███████████████████████████████████████████████████████████████████████████▉| 15655/15656 [03:41<00:00, 70.79it/s]\n"
     ]
    },
    {
     "name": "stdout",
     "output_type": "stream",
     "text": [
      "[MoviePy] Done.\n",
      "[MoviePy] >>>> Video ready: F:/youtube/分析/1/12Pandas索引與計算.mp4 \n",
      "\n",
      "https://www.youtube.com/watch?v=S-phXIcjyQY&list=PLhXu26RzZZTwus4cNbPTcgXXH6oavT6EB&index=13\n",
      "[MoviePy] >>>> Building video F:/youtube/分析/1/13Pandas數據預處理實例.mp4\n",
      "[MoviePy] Writing audio in 13Pandas數據預處理實例TEMP_MPY_wvf_snd.mp3\n"
     ]
    },
    {
     "name": "stderr",
     "output_type": "stream",
     "text": [
      "100%|███████████████████████████████████████████████████████████████████████████| 17230/17230 [00:36<00:00, 476.53it/s]\n"
     ]
    },
    {
     "name": "stdout",
     "output_type": "stream",
     "text": [
      "[MoviePy] Done.\n",
      "[MoviePy] Writing video F:/youtube/分析/1/13Pandas數據預處理實例.mp4\n"
     ]
    },
    {
     "name": "stderr",
     "output_type": "stream",
     "text": [
      "100%|███████████████████████████████████████████████████████████████████████████▉| 19533/19534 [04:33<00:00, 71.50it/s]\n"
     ]
    },
    {
     "name": "stdout",
     "output_type": "stream",
     "text": [
      "[MoviePy] Done.\n",
      "[MoviePy] >>>> Video ready: F:/youtube/分析/1/13Pandas數據預處理實例.mp4 \n",
      "\n",
      "https://www.youtube.com/watch?v=YASC5oMkhv0&list=PLhXu26RzZZTwus4cNbPTcgXXH6oavT6EB&index=14\n",
      "[MoviePy] >>>> Building video F:/youtube/分析/1/14Pandas常用預處理方法.mp4\n",
      "[MoviePy] Writing audio in 14Pandas常用預處理方法TEMP_MPY_wvf_snd.mp3\n"
     ]
    },
    {
     "name": "stderr",
     "output_type": "stream",
     "text": [
      "100%|███████████████████████████████████████████████████████████████████████████| 14809/14809 [00:30<00:00, 483.12it/s]\n"
     ]
    },
    {
     "name": "stdout",
     "output_type": "stream",
     "text": [
      "[MoviePy] Done.\n",
      "[MoviePy] Writing video F:/youtube/分析/1/14Pandas常用預處理方法.mp4\n"
     ]
    },
    {
     "name": "stderr",
     "output_type": "stream",
     "text": [
      "100%|███████████████████████████████████████████████████████████████████████████▉| 16788/16789 [03:46<00:00, 74.16it/s]\n"
     ]
    },
    {
     "name": "stdout",
     "output_type": "stream",
     "text": [
      "[MoviePy] Done.\n",
      "[MoviePy] >>>> Video ready: F:/youtube/分析/1/14Pandas常用預處理方法.mp4 \n",
      "\n",
      "https://www.youtube.com/watch?v=lkuMUD-krdw&list=PLhXu26RzZZTwus4cNbPTcgXXH6oavT6EB&index=15\n",
      "[MoviePy] >>>> Building video F:/youtube/分析/1/15Pandas自定義函數.mp4\n",
      "[MoviePy] Writing audio in 15Pandas自定義函數TEMP_MPY_wvf_snd.mp3\n"
     ]
    },
    {
     "name": "stderr",
     "output_type": "stream",
     "text": [
      "100%|███████████████████████████████████████████████████████████████████████████| 10241/10241 [00:20<00:00, 501.43it/s]\n"
     ]
    },
    {
     "name": "stdout",
     "output_type": "stream",
     "text": [
      "[MoviePy] Done.\n",
      "[MoviePy] Writing video F:/youtube/分析/1/15Pandas自定義函數.mp4\n"
     ]
    },
    {
     "name": "stderr",
     "output_type": "stream",
     "text": [
      "100%|███████████████████████████████████████████████████████████████████████████▉| 11609/11610 [02:18<00:00, 84.04it/s]\n"
     ]
    },
    {
     "name": "stdout",
     "output_type": "stream",
     "text": [
      "[MoviePy] Done.\n",
      "[MoviePy] >>>> Video ready: F:/youtube/分析/1/15Pandas自定義函數.mp4 \n",
      "\n",
      "https://www.youtube.com/watch?v=LZI8-eb9JfQ&list=PLhXu26RzZZTwus4cNbPTcgXXH6oavT6EB&index=16\n",
      "16\n",
      "[MoviePy] >>>> Building video F:/youtube/分析/1/16Series結構.mp4\n",
      "[MoviePy] Writing audio in 16Series結構TEMP_MPY_wvf_snd.mp3\n"
     ]
    },
    {
     "name": "stderr",
     "output_type": "stream",
     "text": [
      "100%|███████████████████████████████████████████████████████████████████████████| 16520/16520 [00:32<00:00, 514.59it/s]\n"
     ]
    },
    {
     "name": "stdout",
     "output_type": "stream",
     "text": [
      "[MoviePy] Done.\n",
      "[MoviePy] Writing video F:/youtube/分析/1/16Series結構.mp4\n"
     ]
    },
    {
     "name": "stderr",
     "output_type": "stream",
     "text": [
      "100%|███████████████████████████████████████████████████████████████████████████▉| 18728/18729 [03:49<00:00, 81.49it/s]\n"
     ]
    },
    {
     "name": "stdout",
     "output_type": "stream",
     "text": [
      "[MoviePy] Done.\n",
      "[MoviePy] >>>> Video ready: F:/youtube/分析/1/16Series結構.mp4 \n",
      "\n",
      "https://www.youtube.com/watch?v=RPbXGb50YlY&list=PLhXu26RzZZTwus4cNbPTcgXXH6oavT6EB&index=17\n",
      "[MoviePy] >>>> Building video F:/youtube/分析/1/17折線圖繪製.mp4\n",
      "[MoviePy] Writing audio in 17折線圖繪製TEMP_MPY_wvf_snd.mp3\n"
     ]
    },
    {
     "name": "stderr",
     "output_type": "stream",
     "text": [
      "100%|███████████████████████████████████████████████████████████████████████████| 11134/11134 [00:21<00:00, 520.65it/s]\n"
     ]
    },
    {
     "name": "stdout",
     "output_type": "stream",
     "text": [
      "[MoviePy] Done.\n",
      "[MoviePy] Writing video F:/youtube/分析/1/17折線圖繪製.mp4\n"
     ]
    },
    {
     "name": "stderr",
     "output_type": "stream",
     "text": [
      "100%|███████████████████████████████████████████████████████████████████████████▉| 12621/12622 [02:15<00:00, 93.30it/s]\n"
     ]
    },
    {
     "name": "stdout",
     "output_type": "stream",
     "text": [
      "[MoviePy] Done.\n",
      "[MoviePy] >>>> Video ready: F:/youtube/分析/1/17折線圖繪製.mp4 \n",
      "\n",
      "https://www.youtube.com/watch?v=Z9LQew4qOQE&list=PLhXu26RzZZTwus4cNbPTcgXXH6oavT6EB&index=18\n",
      "[MoviePy] >>>> Building video F:/youtube/分析/1/18子圖操作.mp4\n",
      "[MoviePy] Writing audio in 18子圖操作TEMP_MPY_wvf_snd.mp3\n"
     ]
    },
    {
     "name": "stderr",
     "output_type": "stream",
     "text": [
      "100%|███████████████████████████████████████████████████████████████████████████| 18631/18631 [00:36<00:00, 504.48it/s]\n"
     ]
    },
    {
     "name": "stdout",
     "output_type": "stream",
     "text": [
      "[MoviePy] Done.\n",
      "[MoviePy] Writing video F:/youtube/分析/1/18子圖操作.mp4\n"
     ]
    },
    {
     "name": "stderr",
     "output_type": "stream",
     "text": [
      "100%|███████████████████████████████████████████████████████████████████████████▉| 21122/21123 [03:40<00:00, 95.80it/s]\n"
     ]
    },
    {
     "name": "stdout",
     "output_type": "stream",
     "text": [
      "[MoviePy] Done.\n",
      "[MoviePy] >>>> Video ready: F:/youtube/分析/1/18子圖操作.mp4 \n",
      "\n",
      "https://www.youtube.com/watch?v=vBRx76IwgQM&list=PLhXu26RzZZTwus4cNbPTcgXXH6oavT6EB&index=19\n",
      "[MoviePy] >>>> Building video F:/youtube/分析/1/19條形圖與散點圖.mp4\n",
      "[MoviePy] Writing audio in 19條形圖與散點圖TEMP_MPY_wvf_snd.mp3\n"
     ]
    },
    {
     "name": "stderr",
     "output_type": "stream",
     "text": [
      "100%|███████████████████████████████████████████████████████████████████████████| 13487/13487 [00:24<00:00, 541.48it/s]\n"
     ]
    },
    {
     "name": "stdout",
     "output_type": "stream",
     "text": [
      "[MoviePy] Done.\n",
      "[MoviePy] Writing video F:/youtube/分析/1/19條形圖與散點圖.mp4\n"
     ]
    },
    {
     "name": "stderr",
     "output_type": "stream",
     "text": [
      "100%|████████████████████████████████████████████████████████████████████████████| 15289/15289 [02:57<00:00, 86.17it/s]\n"
     ]
    },
    {
     "name": "stdout",
     "output_type": "stream",
     "text": [
      "[MoviePy] Done.\n",
      "[MoviePy] >>>> Video ready: F:/youtube/分析/1/19條形圖與散點圖.mp4 \n",
      "\n",
      "https://www.youtube.com/watch?v=BGSCkcnLzTk&list=PLhXu26RzZZTwus4cNbPTcgXXH6oavT6EB&index=20\n",
      "[MoviePy] >>>> Building video F:/youtube/分析/1/20柱形圖與盒圖.mp4\n",
      "[MoviePy] Writing audio in 20柱形圖與盒圖TEMP_MPY_wvf_snd.mp3\n"
     ]
    },
    {
     "name": "stderr",
     "output_type": "stream",
     "text": [
      "100%|███████████████████████████████████████████████████████████████████████████| 13600/13600 [00:26<00:00, 506.00it/s]\n"
     ]
    },
    {
     "name": "stdout",
     "output_type": "stream",
     "text": [
      "[MoviePy] Done.\n",
      "[MoviePy] Writing video F:/youtube/分析/1/20柱形圖與盒圖.mp4\n"
     ]
    },
    {
     "name": "stderr",
     "output_type": "stream",
     "text": [
      "100%|████████████████████████████████████████████████████████████████████████████| 15417/15417 [03:11<00:00, 80.43it/s]\n"
     ]
    },
    {
     "name": "stdout",
     "output_type": "stream",
     "text": [
      "[MoviePy] Done.\n",
      "[MoviePy] >>>> Video ready: F:/youtube/分析/1/20柱形圖與盒圖.mp4 \n",
      "\n",
      "https://www.youtube.com/watch?v=3Df-5p96gKg&list=PLhXu26RzZZTwus4cNbPTcgXXH6oavT6EB&index=21\n",
      "[MoviePy] >>>> Building video F:/youtube/分析/1/21細節設置.mp4\n",
      "[MoviePy] Writing audio in 21細節設置TEMP_MPY_wvf_snd.mp3\n"
     ]
    },
    {
     "name": "stderr",
     "output_type": "stream",
     "text": [
      "100%|█████████████████████████████████████████████████████████████████████████████| 8219/8219 [00:18<00:00, 439.66it/s]\n"
     ]
    },
    {
     "name": "stdout",
     "output_type": "stream",
     "text": [
      "[MoviePy] Done.\n",
      "[MoviePy] Writing video F:/youtube/分析/1/21細節設置.mp4\n"
     ]
    },
    {
     "name": "stderr",
     "output_type": "stream",
     "text": [
      "100%|█████████████████████████████████████████████████████████████████████████████▉| 9317/9318 [02:03<00:00, 75.48it/s]\n"
     ]
    },
    {
     "name": "stdout",
     "output_type": "stream",
     "text": [
      "[MoviePy] Done.\n",
      "[MoviePy] >>>> Video ready: F:/youtube/分析/1/21細節設置.mp4 \n",
      "\n",
      "https://www.youtube.com/watch?v=f3Yygw9bqyc&list=PLhXu26RzZZTwus4cNbPTcgXXH6oavT6EB&index=22\n",
      "[MoviePy] >>>> Building video F:/youtube/分析/1/22Seaborn簡介.mp4\n",
      "[MoviePy] Writing audio in 22Seaborn簡介TEMP_MPY_wvf_snd.mp3\n"
     ]
    },
    {
     "name": "stderr",
     "output_type": "stream",
     "text": [
      "100%|█████████████████████████████████████████████████████████████████████████████| 3621/3621 [00:07<00:00, 458.57it/s]\n"
     ]
    },
    {
     "name": "stdout",
     "output_type": "stream",
     "text": [
      "[MoviePy] Done.\n",
      "[MoviePy] Writing video F:/youtube/分析/1/22Seaborn簡介.mp4\n"
     ]
    },
    {
     "name": "stderr",
     "output_type": "stream",
     "text": [
      "100%|█████████████████████████████████████████████████████████████████████████████▉| 4103/4104 [01:02<00:00, 65.16it/s]\n"
     ]
    },
    {
     "name": "stdout",
     "output_type": "stream",
     "text": [
      "[MoviePy] Done.\n",
      "[MoviePy] >>>> Video ready: F:/youtube/分析/1/22Seaborn簡介.mp4 \n",
      "\n",
      "https://www.youtube.com/watch?v=k2bhClE3idA&list=PLhXu26RzZZTwus4cNbPTcgXXH6oavT6EB&index=23\n",
      "[MoviePy] >>>> Building video F:/youtube/分析/1/23整體佈局風格設置.mp4\n",
      "[MoviePy] Writing audio in 23整體佈局風格設置TEMP_MPY_wvf_snd.mp3\n"
     ]
    },
    {
     "name": "stderr",
     "output_type": "stream",
     "text": [
      "100%|███████████████████████████████████████████████████████████████████████████| 10315/10315 [00:25<00:00, 398.46it/s]\n"
     ]
    },
    {
     "name": "stdout",
     "output_type": "stream",
     "text": [
      "[MoviePy] Done.\n",
      "[MoviePy] Writing video F:/youtube/分析/1/23整體佈局風格設置.mp4\n"
     ]
    },
    {
     "name": "stderr",
     "output_type": "stream",
     "text": [
      "100%|███████████████████████████████████████████████████████████████████████████▉| 11693/11694 [03:01<00:00, 55.67it/s]\n"
     ]
    },
    {
     "name": "stdout",
     "output_type": "stream",
     "text": [
      "[MoviePy] Done.\n",
      "[MoviePy] >>>> Video ready: F:/youtube/分析/1/23整體佈局風格設置.mp4 \n",
      "\n",
      "https://www.youtube.com/watch?v=SjQqiRpkGls&list=PLhXu26RzZZTwus4cNbPTcgXXH6oavT6EB&index=24\n",
      "[MoviePy] >>>> Building video F:/youtube/分析/1/24風格細節設置.mp4\n",
      "[MoviePy] Writing audio in 24風格細節設置TEMP_MPY_wvf_snd.mp3\n"
     ]
    },
    {
     "name": "stderr",
     "output_type": "stream",
     "text": [
      "100%|█████████████████████████████████████████████████████████████████████████████| 9038/9038 [00:19<00:00, 464.31it/s]\n"
     ]
    },
    {
     "name": "stdout",
     "output_type": "stream",
     "text": [
      "[MoviePy] Done.\n",
      "[MoviePy] Writing video F:/youtube/分析/1/24風格細節設置.mp4\n"
     ]
    },
    {
     "name": "stderr",
     "output_type": "stream",
     "text": [
      "100%|███████████████████████████████████████████████████████████████████████████▉| 10245/10246 [02:37<00:00, 65.17it/s]\n"
     ]
    },
    {
     "name": "stdout",
     "output_type": "stream",
     "text": [
      "[MoviePy] Done.\n",
      "[MoviePy] >>>> Video ready: F:/youtube/分析/1/24風格細節設置.mp4 \n",
      "\n",
      "https://www.youtube.com/watch?v=XOHLadcHs1k&list=PLhXu26RzZZTwus4cNbPTcgXXH6oavT6EB&index=25\n",
      "[MoviePy] >>>> Building video F:/youtube/分析/1/25調色板.mp4\n",
      "[MoviePy] Writing audio in 25調色板TEMP_MPY_wvf_snd.mp3\n"
     ]
    },
    {
     "name": "stderr",
     "output_type": "stream",
     "text": [
      "100%|███████████████████████████████████████████████████████████████████████████| 14111/14111 [00:30<00:00, 462.48it/s]\n"
     ]
    },
    {
     "name": "stdout",
     "output_type": "stream",
     "text": [
      "[MoviePy] Done.\n",
      "[MoviePy] Writing video F:/youtube/分析/1/25調色板.mp4\n"
     ]
    },
    {
     "name": "stderr",
     "output_type": "stream",
     "text": [
      "100%|███████████████████████████████████████████████████████████████████████████▉| 15997/15998 [03:06<00:00, 85.81it/s]\n"
     ]
    },
    {
     "name": "stdout",
     "output_type": "stream",
     "text": [
      "[MoviePy] Done.\n",
      "[MoviePy] >>>> Video ready: F:/youtube/分析/1/25調色板.mp4 \n",
      "\n",
      "https://www.youtube.com/watch?v=BLvxJsECR0E&list=PLhXu26RzZZTwus4cNbPTcgXXH6oavT6EB&index=26\n",
      "[MoviePy] >>>> Building video F:/youtube/分析/1/26調色板.mp4\n",
      "[MoviePy] Writing audio in 26調色板TEMP_MPY_wvf_snd.mp3\n"
     ]
    },
    {
     "name": "stderr",
     "output_type": "stream",
     "text": [
      "100%|███████████████████████████████████████████████████████████████████████████| 14110/14110 [00:29<00:00, 479.31it/s]\n"
     ]
    },
    {
     "name": "stdout",
     "output_type": "stream",
     "text": [
      "[MoviePy] Done.\n",
      "[MoviePy] Writing video F:/youtube/分析/1/26調色板.mp4\n"
     ]
    },
    {
     "name": "stderr",
     "output_type": "stream",
     "text": [
      "100%|███████████████████████████████████████████████████████████████████████████▉| 15996/15997 [03:44<00:00, 71.26it/s]\n"
     ]
    },
    {
     "name": "stdout",
     "output_type": "stream",
     "text": [
      "[MoviePy] Done.\n",
      "[MoviePy] >>>> Video ready: F:/youtube/分析/1/26調色板.mp4 \n",
      "\n",
      "https://www.youtube.com/watch?v=VRhhnQuppYc&list=PLhXu26RzZZTwus4cNbPTcgXXH6oavT6EB&index=27\n",
      "[MoviePy] >>>> Building video F:/youtube/分析/1/27調色板顏色設置.mp4\n",
      "[MoviePy] Writing audio in 27調色板顏色設置TEMP_MPY_wvf_snd.mp3\n"
     ]
    },
    {
     "name": "stderr",
     "output_type": "stream",
     "text": [
      "100%|███████████████████████████████████████████████████████████████████████████| 10983/10983 [00:21<00:00, 509.01it/s]\n"
     ]
    },
    {
     "name": "stdout",
     "output_type": "stream",
     "text": [
      "[MoviePy] Done.\n",
      "[MoviePy] Writing video F:/youtube/分析/1/27調色板顏色設置.mp4\n"
     ]
    },
    {
     "name": "stderr",
     "output_type": "stream",
     "text": [
      "100%|███████████████████████████████████████████████████████████████████████████▉| 12450/12451 [02:55<00:00, 71.03it/s]\n"
     ]
    },
    {
     "name": "stdout",
     "output_type": "stream",
     "text": [
      "[MoviePy] Done.\n",
      "[MoviePy] >>>> Video ready: F:/youtube/分析/1/27調色板顏色設置.mp4 \n",
      "\n",
      "https://www.youtube.com/watch?v=ob3w2PUVmGc&list=PLhXu26RzZZTwus4cNbPTcgXXH6oavT6EB&index=28\n",
      "[MoviePy] >>>> Building video F:/youtube/分析/1/28單變量分析繪圖.mp4\n",
      "[MoviePy] Writing audio in 28單變量分析繪圖TEMP_MPY_wvf_snd.mp3\n"
     ]
    },
    {
     "name": "stderr",
     "output_type": "stream",
     "text": [
      "100%|███████████████████████████████████████████████████████████████████████████| 12745/12745 [00:25<00:00, 506.69it/s]\n"
     ]
    },
    {
     "name": "stdout",
     "output_type": "stream",
     "text": [
      "[MoviePy] Done.\n",
      "[MoviePy] Writing video F:/youtube/分析/1/28單變量分析繪圖.mp4\n"
     ]
    },
    {
     "name": "stderr",
     "output_type": "stream",
     "text": [
      "100%|████████████████████████████████████████████████████████████████████████████| 14448/14448 [03:04<00:00, 78.27it/s]\n"
     ]
    },
    {
     "name": "stdout",
     "output_type": "stream",
     "text": [
      "[MoviePy] Done.\n",
      "[MoviePy] >>>> Video ready: F:/youtube/分析/1/28單變量分析繪圖.mp4 \n",
      "\n",
      "https://www.youtube.com/watch?v=3I9-AsSy1j0&list=PLhXu26RzZZTwus4cNbPTcgXXH6oavT6EB&index=29\n",
      "[MoviePy] >>>> Building video F:/youtube/分析/1/29回歸分析繪圖.mp4\n",
      "[MoviePy] Writing audio in 29回歸分析繪圖TEMP_MPY_wvf_snd.mp3\n"
     ]
    },
    {
     "name": "stderr",
     "output_type": "stream",
     "text": [
      "100%|███████████████████████████████████████████████████████████████████████████| 11757/11757 [00:22<00:00, 527.50it/s]\n"
     ]
    },
    {
     "name": "stdout",
     "output_type": "stream",
     "text": [
      "[MoviePy] Done.\n",
      "[MoviePy] Writing video F:/youtube/分析/1/29回歸分析繪圖.mp4\n"
     ]
    },
    {
     "name": "stderr",
     "output_type": "stream",
     "text": [
      "100%|███████████████████████████████████████████████████████████████████████████▉| 13328/13329 [02:43<00:00, 81.69it/s]\n"
     ]
    },
    {
     "name": "stdout",
     "output_type": "stream",
     "text": [
      "[MoviePy] Done.\n",
      "[MoviePy] >>>> Video ready: F:/youtube/分析/1/29回歸分析繪圖.mp4 \n",
      "\n",
      "https://www.youtube.com/watch?v=GvpeVqfkB60&list=PLhXu26RzZZTwus4cNbPTcgXXH6oavT6EB&index=30\n",
      "[MoviePy] >>>> Building video F:/youtube/分析/1/30多變量分析繪圖.mp4\n",
      "[MoviePy] Writing audio in 30多變量分析繪圖TEMP_MPY_wvf_snd.mp3\n"
     ]
    },
    {
     "name": "stderr",
     "output_type": "stream",
     "text": [
      "100%|███████████████████████████████████████████████████████████████████████████| 14032/14032 [00:26<00:00, 522.44it/s]\n"
     ]
    },
    {
     "name": "stdout",
     "output_type": "stream",
     "text": [
      "[MoviePy] Done.\n",
      "[MoviePy] Writing video F:/youtube/分析/1/30多變量分析繪圖.mp4\n"
     ]
    },
    {
     "name": "stderr",
     "output_type": "stream",
     "text": [
      "100%|███████████████████████████████████████████████████████████████████████████▉| 15907/15908 [03:20<00:00, 79.20it/s]\n"
     ]
    },
    {
     "name": "stdout",
     "output_type": "stream",
     "text": [
      "[MoviePy] Done.\n",
      "[MoviePy] >>>> Video ready: F:/youtube/分析/1/30多變量分析繪圖.mp4 \n",
      "\n",
      "https://www.youtube.com/watch?v=Gr7hBqvM0iE&list=PLhXu26RzZZTwus4cNbPTcgXXH6oavT6EB&index=31\n",
      "[MoviePy] >>>> Building video F:/youtube/分析/1/31分類屬性繪圖.mp4\n",
      "[MoviePy] Writing audio in 31分類屬性繪圖TEMP_MPY_wvf_snd.mp3\n"
     ]
    },
    {
     "name": "stderr",
     "output_type": "stream",
     "text": [
      "100%|███████████████████████████████████████████████████████████████████████████| 12799/12799 [00:24<00:00, 529.54it/s]\n"
     ]
    },
    {
     "name": "stdout",
     "output_type": "stream",
     "text": [
      "[MoviePy] Done.\n",
      "[MoviePy] Writing video F:/youtube/分析/1/31分類屬性繪圖.mp4\n"
     ]
    },
    {
     "name": "stderr",
     "output_type": "stream",
     "text": [
      "100%|███████████████████████████████████████████████████████████████████████████▉| 14510/14511 [03:01<00:00, 79.97it/s]\n"
     ]
    },
    {
     "name": "stdout",
     "output_type": "stream",
     "text": [
      "[MoviePy] Done.\n",
      "[MoviePy] >>>> Video ready: F:/youtube/分析/1/31分類屬性繪圖.mp4 \n",
      "\n",
      "https://www.youtube.com/watch?v=Cuzi8QSXE0M&list=PLhXu26RzZZTwus4cNbPTcgXXH6oavT6EB&index=32\n",
      "[MoviePy] >>>> Building video F:/youtube/分析/1/32Facetgrid使用方法.mp4\n",
      "[MoviePy] Writing audio in 32Facetgrid使用方法TEMP_MPY_wvf_snd.mp3\n"
     ]
    },
    {
     "name": "stderr",
     "output_type": "stream",
     "text": [
      "100%|███████████████████████████████████████████████████████████████████████████| 11687/11687 [00:22<00:00, 522.19it/s]\n"
     ]
    },
    {
     "name": "stdout",
     "output_type": "stream",
     "text": [
      "[MoviePy] Done.\n",
      "[MoviePy] Writing video F:/youtube/分析/1/32Facetgrid使用方法.mp4\n"
     ]
    },
    {
     "name": "stderr",
     "output_type": "stream",
     "text": [
      "100%|███████████████████████████████████████████████████████████████████████████▉| 13249/13250 [02:28<00:00, 89.51it/s]\n"
     ]
    },
    {
     "name": "stdout",
     "output_type": "stream",
     "text": [
      "[MoviePy] Done.\n",
      "[MoviePy] >>>> Video ready: F:/youtube/分析/1/32Facetgrid使用方法.mp4 \n",
      "\n",
      "https://www.youtube.com/watch?v=7mCJsks4xxY&list=PLhXu26RzZZTwus4cNbPTcgXXH6oavT6EB&index=33\n",
      "[MoviePy] >>>> Building video F:/youtube/分析/1/33Facetgrid繪製多變量.mp4\n",
      "[MoviePy] Writing audio in 33Facetgrid繪製多變量TEMP_MPY_wvf_snd.mp3\n"
     ]
    },
    {
     "name": "stderr",
     "output_type": "stream",
     "text": [
      "100%|███████████████████████████████████████████████████████████████████████████| 11237/11237 [00:21<00:00, 518.74it/s]\n"
     ]
    },
    {
     "name": "stdout",
     "output_type": "stream",
     "text": [
      "[MoviePy] Done.\n",
      "[MoviePy] Writing video F:/youtube/分析/1/33Facetgrid繪製多變量.mp4\n"
     ]
    },
    {
     "name": "stderr",
     "output_type": "stream",
     "text": [
      "100%|███████████████████████████████████████████████████████████████████████████▉| 12739/12740 [02:30<00:00, 84.52it/s]\n"
     ]
    },
    {
     "name": "stdout",
     "output_type": "stream",
     "text": [
      "[MoviePy] Done.\n",
      "[MoviePy] >>>> Video ready: F:/youtube/分析/1/33Facetgrid繪製多變量.mp4 \n",
      "\n",
      "https://www.youtube.com/watch?v=l6M8vnPdFB0&list=PLhXu26RzZZTwus4cNbPTcgXXH6oavT6EB&index=34\n",
      "[MoviePy] >>>> Building video F:/youtube/分析/1/34熱度圖繪製.mp4\n",
      "[MoviePy] Writing audio in 34熱度圖繪製TEMP_MPY_wvf_snd.mp3\n"
     ]
    },
    {
     "name": "stderr",
     "output_type": "stream",
     "text": [
      "100%|███████████████████████████████████████████████████████████████████████████| 18951/18951 [00:35<00:00, 526.96it/s]\n"
     ]
    },
    {
     "name": "stdout",
     "output_type": "stream",
     "text": [
      "[MoviePy] Done.\n",
      "[MoviePy] Writing video F:/youtube/分析/1/34熱度圖繪製.mp4\n"
     ]
    },
    {
     "name": "stderr",
     "output_type": "stream",
     "text": [
      "100%|███████████████████████████████████████████████████████████████████████████▉| 21484/21485 [05:23<00:00, 66.33it/s]\n"
     ]
    },
    {
     "name": "stdout",
     "output_type": "stream",
     "text": [
      "[MoviePy] Done.\n",
      "[MoviePy] >>>> Video ready: F:/youtube/分析/1/34熱度圖繪製.mp4 \n",
      "\n",
      "https://www.youtube.com/watch?v=lhD6ZT76hpg&list=PLhXu26RzZZTwus4cNbPTcgXXH6oavT6EB&index=35\n",
      "[MoviePy] >>>> Building video F:/youtube/分析/1/35回歸算法綜述.mp4\n",
      "[MoviePy] Writing audio in 35回歸算法綜述TEMP_MPY_wvf_snd.mp3\n"
     ]
    },
    {
     "name": "stderr",
     "output_type": "stream",
     "text": [
      "100%|███████████████████████████████████████████████████████████████████████████| 12835/12835 [00:28<00:00, 450.17it/s]\n"
     ]
    },
    {
     "name": "stdout",
     "output_type": "stream",
     "text": [
      "[MoviePy] Done.\n",
      "[MoviePy] Writing video F:/youtube/分析/1/35回歸算法綜述.mp4\n"
     ]
    },
    {
     "name": "stderr",
     "output_type": "stream",
     "text": [
      "100%|███████████████████████████████████████████████████████████████████████████▉| 14550/14551 [03:20<00:00, 72.67it/s]\n"
     ]
    },
    {
     "name": "stdout",
     "output_type": "stream",
     "text": [
      "[MoviePy] Done.\n",
      "[MoviePy] >>>> Video ready: F:/youtube/分析/1/35回歸算法綜述.mp4 \n",
      "\n",
      "https://www.youtube.com/watch?v=06l-vuuE930&list=PLhXu26RzZZTwus4cNbPTcgXXH6oavT6EB&index=36\n",
      "[MoviePy] >>>> Building video F:/youtube/分析/1/36回歸誤差原理推導.mp4\n",
      "[MoviePy] Writing audio in 36回歸誤差原理推導TEMP_MPY_wvf_snd.mp3\n"
     ]
    },
    {
     "name": "stderr",
     "output_type": "stream",
     "text": [
      "100%|███████████████████████████████████████████████████████████████████████████| 17216/17216 [00:36<00:00, 472.97it/s]\n"
     ]
    },
    {
     "name": "stdout",
     "output_type": "stream",
     "text": [
      "[MoviePy] Done.\n",
      "[MoviePy] Writing video F:/youtube/分析/1/36回歸誤差原理推導.mp4\n"
     ]
    },
    {
     "name": "stderr",
     "output_type": "stream",
     "text": [
      "100%|███████████████████████████████████████████████████████████████████████████▉| 19517/19518 [04:39<00:00, 69.94it/s]\n"
     ]
    },
    {
     "name": "stdout",
     "output_type": "stream",
     "text": [
      "[MoviePy] Done.\n",
      "[MoviePy] >>>> Video ready: F:/youtube/分析/1/36回歸誤差原理推導.mp4 \n",
      "\n",
      "https://www.youtube.com/watch?v=-A9kHuIQsII&list=PLhXu26RzZZTwus4cNbPTcgXXH6oavT6EB&index=37\n",
      "[MoviePy] >>>> Building video F:/youtube/分析/1/37回歸算法如何得出最優解.mp4\n",
      "[MoviePy] Writing audio in 37回歸算法如何得出最優解TEMP_MPY_wvf_snd.mp3\n"
     ]
    },
    {
     "name": "stderr",
     "output_type": "stream",
     "text": [
      "100%|███████████████████████████████████████████████████████████████████████████| 15979/15979 [00:31<00:00, 506.19it/s]\n"
     ]
    },
    {
     "name": "stdout",
     "output_type": "stream",
     "text": [
      "[MoviePy] Done.\n",
      "[MoviePy] Writing video F:/youtube/分析/1/37回歸算法如何得出最優解.mp4\n"
     ]
    },
    {
     "name": "stderr",
     "output_type": "stream",
     "text": [
      "100%|███████████████████████████████████████████████████████████████████████████▉| 18115/18116 [03:58<00:00, 75.84it/s]\n"
     ]
    },
    {
     "name": "stdout",
     "output_type": "stream",
     "text": [
      "[MoviePy] Done.\n",
      "[MoviePy] >>>> Video ready: F:/youtube/分析/1/37回歸算法如何得出最優解.mp4 \n",
      "\n",
      "https://www.youtube.com/watch?v=DzaMHZ6m7Iw&list=PLhXu26RzZZTwus4cNbPTcgXXH6oavT6EB&index=38\n",
      "[MoviePy] >>>> Building video F:/youtube/分析/1/38基於公式推導完成簡易線性回歸.mp4\n",
      "[MoviePy] Writing audio in 38基於公式推導完成簡易線性回歸TEMP_MPY_wvf_snd.mp3\n"
     ]
    },
    {
     "name": "stderr",
     "output_type": "stream",
     "text": [
      "100%|███████████████████████████████████████████████████████████████████████████| 11476/11476 [00:24<00:00, 475.38it/s]\n"
     ]
    },
    {
     "name": "stdout",
     "output_type": "stream",
     "text": [
      "[MoviePy] Done.\n",
      "[MoviePy] Writing video F:/youtube/分析/1/38基於公式推導完成簡易線性回歸.mp4\n"
     ]
    },
    {
     "name": "stderr",
     "output_type": "stream",
     "text": [
      "100%|███████████████████████████████████████████████████████████████████████████▉| 13010/13011 [02:32<00:00, 85.51it/s]\n"
     ]
    },
    {
     "name": "stdout",
     "output_type": "stream",
     "text": [
      "[MoviePy] Done.\n",
      "[MoviePy] >>>> Video ready: F:/youtube/分析/1/38基於公式推導完成簡易線性回歸.mp4 \n",
      "\n",
      "https://www.youtube.com/watch?v=CGDrWpmkgsg&list=PLhXu26RzZZTwus4cNbPTcgXXH6oavT6EB&index=39\n",
      "[MoviePy] >>>> Building video F:/youtube/分析/1/39邏輯回歸與梯度下降.mp4\n",
      "[MoviePy] Writing audio in 39邏輯回歸與梯度下降TEMP_MPY_wvf_snd.mp3\n"
     ]
    },
    {
     "name": "stderr",
     "output_type": "stream",
     "text": [
      "100%|███████████████████████████████████████████████████████████████████████████| 22477/22477 [00:43<00:00, 513.49it/s]\n"
     ]
    },
    {
     "name": "stdout",
     "output_type": "stream",
     "text": [
      "[MoviePy] Done.\n",
      "[MoviePy] Writing video F:/youtube/分析/1/39邏輯回歸與梯度下降.mp4\n"
     ]
    },
    {
     "name": "stderr",
     "output_type": "stream",
     "text": [
      "100%|███████████████████████████████████████████████████████████████████████████▉| 25482/25483 [04:37<00:00, 91.69it/s]\n"
     ]
    },
    {
     "name": "stdout",
     "output_type": "stream",
     "text": [
      "[MoviePy] Done.\n",
      "[MoviePy] >>>> Video ready: F:/youtube/分析/1/39邏輯回歸與梯度下降.mp4 \n",
      "\n",
      "https://www.youtube.com/watch?v=gbZAPiGZR4g&list=PLhXu26RzZZTwus4cNbPTcgXXH6oavT6EB&index=40\n",
      "[MoviePy] >>>> Building video F:/youtube/分析/1/40使用梯度下降求解回歸問題.mp4\n",
      "[MoviePy] Writing audio in 40使用梯度下降求解回歸問題TEMP_MPY_wvf_snd.mp3\n"
     ]
    },
    {
     "name": "stderr",
     "output_type": "stream",
     "text": [
      "100%|███████████████████████████████████████████████████████████████████████████| 20131/20131 [00:42<00:00, 468.87it/s]\n"
     ]
    },
    {
     "name": "stdout",
     "output_type": "stream",
     "text": [
      "[MoviePy] Done.\n",
      "[MoviePy] Writing video F:/youtube/分析/1/40使用梯度下降求解回歸問題.mp4\n"
     ]
    },
    {
     "name": "stderr",
     "output_type": "stream",
     "text": [
      "100%|███████████████████████████████████████████████████████████████████████████▉| 22822/22823 [04:48<00:00, 79.13it/s]\n"
     ]
    },
    {
     "name": "stdout",
     "output_type": "stream",
     "text": [
      "[MoviePy] Done.\n",
      "[MoviePy] >>>> Video ready: F:/youtube/分析/1/40使用梯度下降求解回歸問題.mp4 \n",
      "\n",
      "https://www.youtube.com/watch?v=3v0PKUpjCJ0&list=PLhXu26RzZZTwus4cNbPTcgXXH6oavT6EB&index=41\n",
      "[MoviePy] >>>> Building video F:/youtube/分析/1/41決策樹算法綜述.mp4\n",
      "[MoviePy] Writing audio in 41決策樹算法綜述TEMP_MPY_wvf_snd.mp3\n"
     ]
    },
    {
     "name": "stderr",
     "output_type": "stream",
     "text": [
      "100%|███████████████████████████████████████████████████████████████████████████| 12796/12796 [00:25<00:00, 506.00it/s]\n"
     ]
    },
    {
     "name": "stdout",
     "output_type": "stream",
     "text": [
      "[MoviePy] Done.\n",
      "[MoviePy] Writing video F:/youtube/分析/1/41決策樹算法綜述.mp4\n"
     ]
    },
    {
     "name": "stderr",
     "output_type": "stream",
     "text": [
      "100%|███████████████████████████████████████████████████████████████████████████▉| 14506/14507 [02:40<00:00, 54.63it/s]\n"
     ]
    },
    {
     "name": "stdout",
     "output_type": "stream",
     "text": [
      "[MoviePy] Done.\n",
      "[MoviePy] >>>> Video ready: F:/youtube/分析/1/41決策樹算法綜述.mp4 \n",
      "\n",
      "https://www.youtube.com/watch?v=4DknseRLiY0&list=PLhXu26RzZZTwus4cNbPTcgXXH6oavT6EB&index=42\n",
      "[MoviePy] >>>> Building video F:/youtube/分析/1/42決策樹熵原理.mp4\n",
      "[MoviePy] Writing audio in 42決策樹熵原理TEMP_MPY_wvf_snd.mp3\n"
     ]
    },
    {
     "name": "stderr",
     "output_type": "stream",
     "text": [
      "100%|███████████████████████████████████████████████████████████████████████████| 17634/17634 [00:34<00:00, 507.86it/s]\n"
     ]
    },
    {
     "name": "stdout",
     "output_type": "stream",
     "text": [
      "[MoviePy] Done.\n",
      "[MoviePy] Writing video F:/youtube/分析/1/42決策樹熵原理.mp4\n"
     ]
    },
    {
     "name": "stderr",
     "output_type": "stream",
     "text": [
      "100%|███████████████████████████████████████████████████████████████████████████▉| 19991/19992 [03:39<00:00, 91.11it/s]\n"
     ]
    },
    {
     "name": "stdout",
     "output_type": "stream",
     "text": [
      "[MoviePy] Done.\n",
      "[MoviePy] >>>> Video ready: F:/youtube/分析/1/42決策樹熵原理.mp4 \n",
      "\n",
      "https://www.youtube.com/watch?v=eR_ihrXLERk&list=PLhXu26RzZZTwus4cNbPTcgXXH6oavT6EB&index=43\n",
      "[MoviePy] >>>> Building video F:/youtube/分析/1/43決策樹構造實例.mp4\n",
      "[MoviePy] Writing audio in 43決策樹構造實例TEMP_MPY_wvf_snd.mp3\n"
     ]
    },
    {
     "name": "stderr",
     "output_type": "stream",
     "text": [
      "100%|███████████████████████████████████████████████████████████████████████████| 14566/14566 [00:28<00:00, 510.74it/s]\n"
     ]
    },
    {
     "name": "stdout",
     "output_type": "stream",
     "text": [
      "[MoviePy] Done.\n",
      "[MoviePy] Writing video F:/youtube/分析/1/43決策樹構造實例.mp4\n"
     ]
    },
    {
     "name": "stderr",
     "output_type": "stream",
     "text": [
      "100%|███████████████████████████████████████████████████████████████████████████▉| 16513/16514 [03:04<00:00, 89.47it/s]\n"
     ]
    },
    {
     "name": "stdout",
     "output_type": "stream",
     "text": [
      "[MoviePy] Done.\n",
      "[MoviePy] >>>> Video ready: F:/youtube/分析/1/43決策樹構造實例.mp4 \n",
      "\n",
      "https://www.youtube.com/watch?v=mY2lNbrVEdA&list=PLhXu26RzZZTwus4cNbPTcgXXH6oavT6EB&index=44\n",
      "[MoviePy] >>>> Building video F:/youtube/分析/1/44信息增益原理.mp4\n",
      "[MoviePy] Writing audio in 44信息增益原理TEMP_MPY_wvf_snd.mp3\n"
     ]
    },
    {
     "name": "stderr",
     "output_type": "stream",
     "text": [
      "100%|█████████████████████████████████████████████████████████████████████████████| 7206/7206 [00:14<00:00, 514.06it/s]\n"
     ]
    },
    {
     "name": "stdout",
     "output_type": "stream",
     "text": [
      "[MoviePy] Done.\n",
      "[MoviePy] Writing video F:/youtube/分析/1/44信息增益原理.mp4\n"
     ]
    },
    {
     "name": "stderr",
     "output_type": "stream",
     "text": [
      "100%|██████████████████████████████████████████████████████████████████████████████| 8169/8169 [01:30<00:00, 89.88it/s]\n"
     ]
    },
    {
     "name": "stdout",
     "output_type": "stream",
     "text": [
      "[MoviePy] Done.\n",
      "[MoviePy] >>>> Video ready: F:/youtube/分析/1/44信息增益原理.mp4 \n",
      "\n",
      "https://www.youtube.com/watch?v=OB3wM_JbZKs&list=PLhXu26RzZZTwus4cNbPTcgXXH6oavT6EB&index=45\n",
      "[MoviePy] >>>> Building video F:/youtube/分析/1/45信息增益率的作用.mp4\n",
      "[MoviePy] Writing audio in 45信息增益率的作用TEMP_MPY_wvf_snd.mp3\n"
     ]
    },
    {
     "name": "stderr",
     "output_type": "stream",
     "text": [
      "100%|███████████████████████████████████████████████████████████████████████████| 22024/22024 [00:42<00:00, 517.63it/s]\n"
     ]
    },
    {
     "name": "stdout",
     "output_type": "stream",
     "text": [
      "[MoviePy] Done.\n",
      "[MoviePy] Writing video F:/youtube/分析/1/45信息增益率的作用.mp4\n"
     ]
    },
    {
     "name": "stderr",
     "output_type": "stream",
     "text": [
      "100%|███████████████████████████████████████████████████████████████████████████▉| 24968/24969 [04:38<00:00, 89.61it/s]\n"
     ]
    },
    {
     "name": "stdout",
     "output_type": "stream",
     "text": [
      "[MoviePy] Done.\n",
      "[MoviePy] >>>> Video ready: F:/youtube/分析/1/45信息增益率的作用.mp4 \n",
      "\n",
      "https://www.youtube.com/watch?v=d6DEG-Fb67E&list=PLhXu26RzZZTwus4cNbPTcgXXH6oavT6EB&index=46\n",
      "[MoviePy] >>>> Building video F:/youtube/分析/1/46決策樹剪枝策略.mp4\n",
      "[MoviePy] Writing audio in 46決策樹剪枝策略TEMP_MPY_wvf_snd.mp3\n"
     ]
    },
    {
     "name": "stderr",
     "output_type": "stream",
     "text": [
      "100%|███████████████████████████████████████████████████████████████████████████| 16045/16045 [00:37<00:00, 433.24it/s]\n"
     ]
    },
    {
     "name": "stdout",
     "output_type": "stream",
     "text": [
      "[MoviePy] Done.\n",
      "[MoviePy] Writing video F:/youtube/分析/1/46決策樹剪枝策略.mp4\n"
     ]
    },
    {
     "name": "stderr",
     "output_type": "stream",
     "text": [
      "100%|███████████████████████████████████████████████████████████████████████████▉| 18189/18190 [03:23<00:00, 89.47it/s]\n"
     ]
    },
    {
     "name": "stdout",
     "output_type": "stream",
     "text": [
      "[MoviePy] Done.\n",
      "[MoviePy] >>>> Video ready: F:/youtube/分析/1/46決策樹剪枝策略.mp4 \n",
      "\n",
      "https://www.youtube.com/watch?v=gfvzU6wE-Zg&list=PLhXu26RzZZTwus4cNbPTcgXXH6oavT6EB&index=47\n",
      "47\n",
      "[MoviePy] >>>> Building video F:/youtube/分析/1/47隨機森林模型.mp4\n",
      "[MoviePy] Writing audio in 47隨機森林模型TEMP_MPY_wvf_snd.mp3\n"
     ]
    },
    {
     "name": "stderr",
     "output_type": "stream",
     "text": [
      "100%|███████████████████████████████████████████████████████████████████████████| 12232/12232 [00:24<00:00, 498.37it/s]\n"
     ]
    },
    {
     "name": "stdout",
     "output_type": "stream",
     "text": [
      "[MoviePy] Done.\n",
      "[MoviePy] Writing video F:/youtube/分析/1/47隨機森林模型.mp4\n"
     ]
    },
    {
     "name": "stderr",
     "output_type": "stream",
     "text": [
      "100%|███████████████████████████████████████████████████████████████████████████▉| 13866/13867 [02:38<00:00, 92.54it/s]\n"
     ]
    },
    {
     "name": "stdout",
     "output_type": "stream",
     "text": [
      "[MoviePy] Done.\n",
      "[MoviePy] >>>> Video ready: F:/youtube/分析/1/47隨機森林模型.mp4 \n",
      "\n",
      "https://www.youtube.com/watch?v=32K1mfuSC40&list=PLhXu26RzZZTwus4cNbPTcgXXH6oavT6EB&index=48\n",
      "[MoviePy] >>>> Building video F:/youtube/分析/1/48決策樹參數詳解.mp4\n",
      "[MoviePy] Writing audio in 48決策樹參數詳解TEMP_MPY_wvf_snd.mp3\n"
     ]
    },
    {
     "name": "stderr",
     "output_type": "stream",
     "text": [
      "100%|███████████████████████████████████████████████████████████████████████████| 23564/23564 [00:51<00:00, 458.73it/s]\n"
     ]
    },
    {
     "name": "stdout",
     "output_type": "stream",
     "text": [
      "[MoviePy] Done.\n",
      "[MoviePy] Writing video F:/youtube/分析/1/48決策樹參數詳解.mp4\n"
     ]
    },
    {
     "name": "stderr",
     "output_type": "stream",
     "text": [
      "100%|████████████████████████████████████████████████████████████████████████████| 26715/26715 [05:39<00:00, 78.78it/s]\n"
     ]
    },
    {
     "name": "stdout",
     "output_type": "stream",
     "text": [
      "[MoviePy] Done.\n",
      "[MoviePy] >>>> Video ready: F:/youtube/分析/1/48決策樹參數詳解.mp4 \n",
      "\n",
      "https://www.youtube.com/watch?v=artFW5By-Xw&list=PLhXu26RzZZTwus4cNbPTcgXXH6oavT6EB&index=49\n",
      "[MoviePy] >>>> Building video F:/youtube/分析/1/49貝葉斯算法概述.mp4\n",
      "[MoviePy] Writing audio in 49貝葉斯算法概述TEMP_MPY_wvf_snd.mp3\n"
     ]
    },
    {
     "name": "stderr",
     "output_type": "stream",
     "text": [
      "100%|█████████████████████████████████████████████████████████████████████████████| 9226/9226 [00:18<00:00, 536.38it/s]\n"
     ]
    },
    {
     "name": "stdout",
     "output_type": "stream",
     "text": [
      "[MoviePy] Done.\n",
      "[MoviePy] Writing video F:/youtube/分析/1/49貝葉斯算法概述.mp4\n"
     ]
    },
    {
     "name": "stderr",
     "output_type": "stream",
     "text": [
      "100%|██████████████████████████████████████████████████████████████████████████▉| 10458/10459 [01:41<00:00, 102.91it/s]\n"
     ]
    },
    {
     "name": "stdout",
     "output_type": "stream",
     "text": [
      "[MoviePy] Done.\n",
      "[MoviePy] >>>> Video ready: F:/youtube/分析/1/49貝葉斯算法概述.mp4 \n",
      "\n",
      "https://www.youtube.com/watch?v=cR7FYtIaCwQ&list=PLhXu26RzZZTwus4cNbPTcgXXH6oavT6EB&index=50\n",
      "[MoviePy] >>>> Building video F:/youtube/分析/1/50貝葉斯推導實例.mp4\n",
      "[MoviePy] Writing audio in 50貝葉斯推導實例TEMP_MPY_wvf_snd.mp3\n"
     ]
    },
    {
     "name": "stderr",
     "output_type": "stream",
     "text": [
      "100%|███████████████████████████████████████████████████████████████████████████| 10101/10101 [00:19<00:00, 518.45it/s]\n"
     ]
    },
    {
     "name": "stdout",
     "output_type": "stream",
     "text": [
      "[MoviePy] Done.\n",
      "[MoviePy] Writing video F:/youtube/分析/1/50貝葉斯推導實例.mp4\n"
     ]
    },
    {
     "name": "stderr",
     "output_type": "stream",
     "text": [
      "100%|██████████████████████████████████████████████████████████████████████████▉| 11450/11451 [01:43<00:00, 110.85it/s]\n"
     ]
    },
    {
     "name": "stdout",
     "output_type": "stream",
     "text": [
      "[MoviePy] Done.\n",
      "[MoviePy] >>>> Video ready: F:/youtube/分析/1/50貝葉斯推導實例.mp4 \n",
      "\n",
      "https://www.youtube.com/watch?v=eS5Y4_me3dI&list=PLhXu26RzZZTwus4cNbPTcgXXH6oavT6EB&index=51\n",
      "[MoviePy] >>>> Building video F:/youtube/分析/1/51貝葉斯拼寫糾錯實例.mp4\n",
      "[MoviePy] Writing audio in 51貝葉斯拼寫糾錯實例TEMP_MPY_wvf_snd.mp3\n"
     ]
    },
    {
     "name": "stderr",
     "output_type": "stream",
     "text": [
      "100%|███████████████████████████████████████████████████████████████████████████| 15572/15572 [00:29<00:00, 527.14it/s]\n"
     ]
    },
    {
     "name": "stdout",
     "output_type": "stream",
     "text": [
      "[MoviePy] Done.\n",
      "[MoviePy] Writing video F:/youtube/分析/1/51貝葉斯拼寫糾錯實例.mp4\n"
     ]
    },
    {
     "name": "stderr",
     "output_type": "stream",
     "text": [
      "100%|███████████████████████████████████████████████████████████████████████████▉| 17653/17654 [02:59<00:00, 98.11it/s]\n"
     ]
    },
    {
     "name": "stdout",
     "output_type": "stream",
     "text": [
      "[MoviePy] Done.\n",
      "[MoviePy] >>>> Video ready: F:/youtube/分析/1/51貝葉斯拼寫糾錯實例.mp4 \n",
      "\n",
      "https://www.youtube.com/watch?v=_gFcmfAT6og&list=PLhXu26RzZZTwus4cNbPTcgXXH6oavT6EB&index=52\n",
      "[MoviePy] >>>> Building video F:/youtube/分析/1/52垃圾郵件過濾實例.mp4\n",
      "[MoviePy] Writing audio in 52垃圾郵件過濾實例TEMP_MPY_wvf_snd.mp3\n"
     ]
    },
    {
     "name": "stderr",
     "output_type": "stream",
     "text": [
      "100%|███████████████████████████████████████████████████████████████████████████| 18737/18737 [00:41<00:00, 452.28it/s]\n"
     ]
    },
    {
     "name": "stdout",
     "output_type": "stream",
     "text": [
      "[MoviePy] Done.\n",
      "[MoviePy] Writing video F:/youtube/分析/1/52垃圾郵件過濾實例.mp4\n"
     ]
    },
    {
     "name": "stderr",
     "output_type": "stream",
     "text": [
      "100%|███████████████████████████████████████████████████████████████████████████▉| 21242/21243 [03:53<00:00, 91.05it/s]\n"
     ]
    },
    {
     "name": "stdout",
     "output_type": "stream",
     "text": [
      "[MoviePy] Done.\n",
      "[MoviePy] >>>> Video ready: F:/youtube/分析/1/52垃圾郵件過濾實例.mp4 \n",
      "\n",
      "https://www.youtube.com/watch?v=ammTFd4Tdto&list=PLhXu26RzZZTwus4cNbPTcgXXH6oavT6EB&index=53\n",
      "[MoviePy] >>>> Building video F:/youtube/分析/1/53貝葉斯實現拼寫檢查器.mp4\n",
      "[MoviePy] Writing audio in 53貝葉斯實現拼寫檢查器TEMP_MPY_wvf_snd.mp3\n"
     ]
    },
    {
     "name": "stderr",
     "output_type": "stream",
     "text": [
      "100%|███████████████████████████████████████████████████████████████████████████| 16336/16336 [00:34<00:00, 480.26it/s]\n"
     ]
    },
    {
     "name": "stdout",
     "output_type": "stream",
     "text": [
      "[MoviePy] Done.\n",
      "[MoviePy] Writing video F:/youtube/分析/1/53貝葉斯實現拼寫檢查器.mp4\n"
     ]
    },
    {
     "name": "stderr",
     "output_type": "stream",
     "text": [
      "100%|███████████████████████████████████████████████████████████████████████████▉| 18520/18521 [04:13<00:00, 73.04it/s]\n"
     ]
    },
    {
     "name": "stdout",
     "output_type": "stream",
     "text": [
      "[MoviePy] Done.\n",
      "[MoviePy] >>>> Video ready: F:/youtube/分析/1/53貝葉斯實現拼寫檢查器.mp4 \n",
      "\n",
      "https://www.youtube.com/watch?v=o3oRG9VpVXU&list=PLhXu26RzZZTwus4cNbPTcgXXH6oavT6EB&index=54\n",
      "[MoviePy] >>>> Building video F:/youtube/分析/1/54支持向量機要解決的問題.mp4\n",
      "[MoviePy] Writing audio in 54支持向量機要解決的問題TEMP_MPY_wvf_snd.mp3\n"
     ]
    },
    {
     "name": "stderr",
     "output_type": "stream",
     "text": [
      "100%|███████████████████████████████████████████████████████████████████████████| 15895/15895 [00:28<00:00, 549.59it/s]\n"
     ]
    },
    {
     "name": "stdout",
     "output_type": "stream",
     "text": [
      "[MoviePy] Done.\n",
      "[MoviePy] Writing video F:/youtube/分析/1/54支持向量機要解決的問題.mp4\n"
     ]
    },
    {
     "name": "stderr",
     "output_type": "stream",
     "text": [
      "100%|███████████████████████████████████████████████████████████████████████████▉| 18019/18020 [03:36<00:00, 83.13it/s]\n"
     ]
    },
    {
     "name": "stdout",
     "output_type": "stream",
     "text": [
      "[MoviePy] Done.\n",
      "[MoviePy] >>>> Video ready: F:/youtube/分析/1/54支持向量機要解決的問題.mp4 \n",
      "\n",
      "https://www.youtube.com/watch?v=jxSmpHYSVjI&list=PLhXu26RzZZTwus4cNbPTcgXXH6oavT6EB&index=55\n",
      "[MoviePy] >>>> Building video F:/youtube/分析/1/55支持向量機目標函數.mp4\n",
      "[MoviePy] Writing audio in 55支持向量機目標函數TEMP_MPY_wvf_snd.mp3\n"
     ]
    },
    {
     "name": "stderr",
     "output_type": "stream",
     "text": [
      "100%|███████████████████████████████████████████████████████████████████████████| 13254/13254 [00:25<00:00, 510.64it/s]\n"
     ]
    },
    {
     "name": "stdout",
     "output_type": "stream",
     "text": [
      "[MoviePy] Done.\n",
      "[MoviePy] Writing video F:/youtube/分析/1/55支持向量機目標函數.mp4\n"
     ]
    },
    {
     "name": "stderr",
     "output_type": "stream",
     "text": [
      "100%|███████████████████████████████████████████████████████████████████████████▉| 15025/15026 [02:49<00:00, 88.64it/s]\n"
     ]
    },
    {
     "name": "stdout",
     "output_type": "stream",
     "text": [
      "[MoviePy] Done.\n",
      "[MoviePy] >>>> Video ready: F:/youtube/分析/1/55支持向量機目標函數.mp4 \n",
      "\n",
      "https://www.youtube.com/watch?v=N5p-V0hdgzs&list=PLhXu26RzZZTwus4cNbPTcgXXH6oavT6EB&index=56\n",
      "[MoviePy] >>>> Building video F:/youtube/分析/1/56支持向量機目標函數求解.mp4\n",
      "[MoviePy] Writing audio in 56支持向量機目標函數求解TEMP_MPY_wvf_snd.mp3\n"
     ]
    },
    {
     "name": "stderr",
     "output_type": "stream",
     "text": [
      "100%|███████████████████████████████████████████████████████████████████████████| 13340/13340 [00:25<00:00, 521.57it/s]\n"
     ]
    },
    {
     "name": "stdout",
     "output_type": "stream",
     "text": [
      "[MoviePy] Done.\n",
      "[MoviePy] Writing video F:/youtube/分析/1/56支持向量機目標函數求解.mp4\n"
     ]
    },
    {
     "name": "stderr",
     "output_type": "stream",
     "text": [
      "100%|████████████████████████████████████████████████████████████████████████████| 15123/15123 [02:48<00:00, 89.75it/s]\n"
     ]
    },
    {
     "name": "stdout",
     "output_type": "stream",
     "text": [
      "[MoviePy] Done.\n",
      "[MoviePy] >>>> Video ready: F:/youtube/分析/1/56支持向量機目標函數求解.mp4 \n",
      "\n",
      "https://www.youtube.com/watch?v=YdOSQWTJhRw&list=PLhXu26RzZZTwus4cNbPTcgXXH6oavT6EB&index=57\n",
      "[MoviePy] >>>> Building video F:/youtube/分析/1/57支持向量機求解實例.mp4\n",
      "[MoviePy] Writing audio in 57支持向量機求解實例TEMP_MPY_wvf_snd.mp3\n"
     ]
    },
    {
     "name": "stderr",
     "output_type": "stream",
     "text": [
      "100%|███████████████████████████████████████████████████████████████████████████| 18917/18917 [00:37<00:00, 506.00it/s]\n"
     ]
    },
    {
     "name": "stdout",
     "output_type": "stream",
     "text": [
      "[MoviePy] Done.\n",
      "[MoviePy] Writing video F:/youtube/分析/1/57支持向量機求解實例.mp4\n"
     ]
    },
    {
     "name": "stderr",
     "output_type": "stream",
     "text": [
      "100%|███████████████████████████████████████████████████████████████████████████▉| 21446/21447 [04:17<00:00, 83.38it/s]\n"
     ]
    },
    {
     "name": "stdout",
     "output_type": "stream",
     "text": [
      "[MoviePy] Done.\n",
      "[MoviePy] >>>> Video ready: F:/youtube/分析/1/57支持向量機求解實例.mp4 \n",
      "\n",
      "https://www.youtube.com/watch?v=MR1rzdwNdTk&list=PLhXu26RzZZTwus4cNbPTcgXXH6oavT6EB&index=58\n",
      "[MoviePy] >>>> Building video F:/youtube/分析/1/58支持向量機軟間隔問題.mp4\n",
      "[MoviePy] Writing audio in 58支持向量機軟間隔問題TEMP_MPY_wvf_snd.mp3\n"
     ]
    },
    {
     "name": "stderr",
     "output_type": "stream",
     "text": [
      "100%|█████████████████████████████████████████████████████████████████████████████| 9158/9158 [00:16<00:00, 546.13it/s]\n"
     ]
    },
    {
     "name": "stdout",
     "output_type": "stream",
     "text": [
      "[MoviePy] Done.\n",
      "[MoviePy] Writing video F:/youtube/分析/1/58支持向量機軟間隔問題.mp4\n"
     ]
    },
    {
     "name": "stderr",
     "output_type": "stream",
     "text": [
      "100%|███████████████████████████████████████████████████████████████████████████▉| 10381/10382 [02:02<00:00, 85.07it/s]\n"
     ]
    },
    {
     "name": "stdout",
     "output_type": "stream",
     "text": [
      "[MoviePy] Done.\n",
      "[MoviePy] >>>> Video ready: F:/youtube/分析/1/58支持向量機軟間隔問題.mp4 \n",
      "\n",
      "https://www.youtube.com/watch?v=NpmFusBntQo&list=PLhXu26RzZZTwus4cNbPTcgXXH6oavT6EB&index=59\n",
      "[MoviePy] >>>> Building video F:/youtube/分析/1/59支持向量核變換.mp4\n",
      "[MoviePy] Writing audio in 59支持向量核變換TEMP_MPY_wvf_snd.mp3\n"
     ]
    },
    {
     "name": "stderr",
     "output_type": "stream",
     "text": [
      "100%|███████████████████████████████████████████████████████████████████████████| 13611/13611 [00:25<00:00, 529.59it/s]\n"
     ]
    },
    {
     "name": "stdout",
     "output_type": "stream",
     "text": [
      "[MoviePy] Done.\n",
      "[MoviePy] Writing video F:/youtube/分析/1/59支持向量核變換.mp4\n"
     ]
    },
    {
     "name": "stderr",
     "output_type": "stream",
     "text": [
      "100%|███████████████████████████████████████████████████████████████████████████▉| 15430/15431 [03:07<00:00, 82.30it/s]\n"
     ]
    },
    {
     "name": "stdout",
     "output_type": "stream",
     "text": [
      "[MoviePy] Done.\n",
      "[MoviePy] >>>> Video ready: F:/youtube/分析/1/59支持向量核變換.mp4 \n",
      "\n",
      "https://www.youtube.com/watch?v=bP0AhC3B6fY&list=PLhXu26RzZZTwus4cNbPTcgXXH6oavT6EB&index=60\n",
      "[MoviePy] >>>> Building video F:/youtube/分析/1/60SMO算法求解支持向量機.mp4\n",
      "[MoviePy] Writing audio in 60SMO算法求解支持向量機TEMP_MPY_wvf_snd.mp3\n"
     ]
    },
    {
     "name": "stderr",
     "output_type": "stream",
     "text": [
      "100%|███████████████████████████████████████████████████████████████████████████| 39011/39011 [01:07<00:00, 578.99it/s]\n"
     ]
    },
    {
     "name": "stdout",
     "output_type": "stream",
     "text": [
      "[MoviePy] Done.\n",
      "[MoviePy] Writing video F:/youtube/分析/1/60SMO算法求解支持向量機.mp4\n"
     ]
    },
    {
     "name": "stderr",
     "output_type": "stream",
     "text": [
      "100%|███████████████████████████████████████████████████████████████████████████▉| 44228/44229 [09:33<00:00, 77.14it/s]\n"
     ]
    },
    {
     "name": "stdout",
     "output_type": "stream",
     "text": [
      "[MoviePy] Done.\n",
      "[MoviePy] >>>> Video ready: F:/youtube/分析/1/60SMO算法求解支持向量機.mp4 \n",
      "\n",
      "https://www.youtube.com/watch?v=UAoa4gTMM44&list=PLhXu26RzZZTwus4cNbPTcgXXH6oavT6EB&index=61\n",
      "[MoviePy] >>>> Building video F:/youtube/分析/1/61初識神經網絡.mp4\n",
      "[MoviePy] Writing audio in 61初識神經網絡TEMP_MPY_wvf_snd.mp3\n"
     ]
    },
    {
     "name": "stderr",
     "output_type": "stream",
     "text": [
      "100%|███████████████████████████████████████████████████████████████████████████| 15166/15166 [00:28<00:00, 523.78it/s]\n"
     ]
    },
    {
     "name": "stdout",
     "output_type": "stream",
     "text": [
      "[MoviePy] Done.\n",
      "[MoviePy] Writing video F:/youtube/分析/1/61初識神經網絡.mp4\n"
     ]
    },
    {
     "name": "stderr",
     "output_type": "stream",
     "text": [
      "100%|██████████████████████████████████████████████████████████████████████████▉| 17193/17194 [03:46<00:00, 102.29it/s]\n"
     ]
    },
    {
     "name": "stdout",
     "output_type": "stream",
     "text": [
      "[MoviePy] Done.\n",
      "[MoviePy] >>>> Video ready: F:/youtube/分析/1/61初識神經網絡.mp4 \n",
      "\n",
      "https://www.youtube.com/watch?v=LHuyN9YTiwA&list=PLhXu26RzZZTwus4cNbPTcgXXH6oavT6EB&index=62\n",
      "[MoviePy] >>>> Building video F:/youtube/分析/1/62計算機視覺所面臨的挑戰.mp4\n",
      "[MoviePy] Writing audio in 62計算機視覺所面臨的挑戰TEMP_MPY_wvf_snd.mp3\n"
     ]
    },
    {
     "name": "stderr",
     "output_type": "stream",
     "text": [
      "100%|███████████████████████████████████████████████████████████████████████████| 12799/12799 [00:24<00:00, 526.92it/s]\n"
     ]
    },
    {
     "name": "stdout",
     "output_type": "stream",
     "text": [
      "[MoviePy] Done.\n",
      "[MoviePy] Writing video F:/youtube/分析/1/62計算機視覺所面臨的挑戰.mp4\n"
     ]
    },
    {
     "name": "stderr",
     "output_type": "stream",
     "text": [
      "100%|███████████████████████████████████████████████████████████████████████████▉| 14509/14510 [02:45<00:00, 81.89it/s]\n"
     ]
    },
    {
     "name": "stdout",
     "output_type": "stream",
     "text": [
      "[MoviePy] Done.\n",
      "[MoviePy] >>>> Video ready: F:/youtube/分析/1/62計算機視覺所面臨的挑戰.mp4 \n",
      "\n",
      "https://www.youtube.com/watch?v=EYNPTJ9AtrI&list=PLhXu26RzZZTwus4cNbPTcgXXH6oavT6EB&index=63\n",
      "[MoviePy] >>>> Building video F:/youtube/分析/1/63K近鄰嘗試圖像分類.mp4\n",
      "[MoviePy] Writing audio in 63K近鄰嘗試圖像分類TEMP_MPY_wvf_snd.mp3\n"
     ]
    },
    {
     "name": "stderr",
     "output_type": "stream",
     "text": [
      "100%|███████████████████████████████████████████████████████████████████████████| 13265/13265 [00:25<00:00, 515.44it/s]\n"
     ]
    },
    {
     "name": "stdout",
     "output_type": "stream",
     "text": [
      "[MoviePy] Done.\n",
      "[MoviePy] Writing video F:/youtube/分析/1/63K近鄰嘗試圖像分類.mp4\n"
     ]
    },
    {
     "name": "stderr",
     "output_type": "stream",
     "text": [
      "100%|███████████████████████████████████████████████████████████████████████████▉| 15038/15039 [02:32<00:00, 98.62it/s]\n"
     ]
    },
    {
     "name": "stdout",
     "output_type": "stream",
     "text": [
      "[MoviePy] Done.\n",
      "[MoviePy] >>>> Video ready: F:/youtube/分析/1/63K近鄰嘗試圖像分類.mp4 \n",
      "\n",
      "https://www.youtube.com/watch?v=NIEHxRovAdk&list=PLhXu26RzZZTwus4cNbPTcgXXH6oavT6EB&index=64\n",
      "[MoviePy] >>>> Building video F:/youtube/分析/1/64超參數的作用.mp4\n",
      "[MoviePy] Writing audio in 64超參數的作用TEMP_MPY_wvf_snd.mp3\n"
     ]
    },
    {
     "name": "stderr",
     "output_type": "stream",
     "text": [
      "100%|███████████████████████████████████████████████████████████████████████████| 13915/13915 [00:27<00:00, 507.46it/s]\n"
     ]
    },
    {
     "name": "stdout",
     "output_type": "stream",
     "text": [
      "[MoviePy] Done.\n",
      "[MoviePy] Writing video F:/youtube/分析/1/64超參數的作用.mp4\n"
     ]
    },
    {
     "name": "stderr",
     "output_type": "stream",
     "text": [
      "100%|███████████████████████████████████████████████████████████████████████████▉| 15775/15776 [02:45<00:00, 89.46it/s]\n"
     ]
    },
    {
     "name": "stdout",
     "output_type": "stream",
     "text": [
      "[MoviePy] Done.\n",
      "[MoviePy] >>>> Video ready: F:/youtube/分析/1/64超參數的作用.mp4 \n",
      "\n",
      "https://www.youtube.com/watch?v=2E2L4VhyFuY&list=PLhXu26RzZZTwus4cNbPTcgXXH6oavT6EB&index=65\n",
      "[MoviePy] >>>> Building video F:/youtube/分析/1/65線性分類原理.mp4\n",
      "[MoviePy] Writing audio in 65線性分類原理TEMP_MPY_wvf_snd.mp3\n"
     ]
    },
    {
     "name": "stderr",
     "output_type": "stream",
     "text": [
      "100%|███████████████████████████████████████████████████████████████████████████| 12674/12674 [00:24<00:00, 522.79it/s]\n"
     ]
    },
    {
     "name": "stdout",
     "output_type": "stream",
     "text": [
      "[MoviePy] Done.\n",
      "[MoviePy] Writing video F:/youtube/分析/1/65線性分類原理.mp4\n"
     ]
    },
    {
     "name": "stderr",
     "output_type": "stream",
     "text": [
      "100%|████████████████████████████████████████████████████████████████████████████| 14367/14367 [02:24<00:00, 99.46it/s]\n"
     ]
    },
    {
     "name": "stdout",
     "output_type": "stream",
     "text": [
      "[MoviePy] Done.\n",
      "[MoviePy] >>>> Video ready: F:/youtube/分析/1/65線性分類原理.mp4 \n",
      "\n",
      "https://www.youtube.com/watch?v=LkCCaKwwMoQ&list=PLhXu26RzZZTwus4cNbPTcgXXH6oavT6EB&index=66\n",
      "[MoviePy] >>>> Building video F:/youtube/分析/1/66神經網絡.mp4\n",
      "[MoviePy] Writing audio in 66神經網絡TEMP_MPY_wvf_snd.mp3\n"
     ]
    },
    {
     "name": "stderr",
     "output_type": "stream",
     "text": [
      "100%|███████████████████████████████████████████████████████████████████████████| 12304/12304 [00:23<00:00, 519.09it/s]\n"
     ]
    },
    {
     "name": "stdout",
     "output_type": "stream",
     "text": [
      "[MoviePy] Done.\n",
      "[MoviePy] Writing video F:/youtube/分析/1/66神經網絡.mp4\n"
     ]
    },
    {
     "name": "stderr",
     "output_type": "stream",
     "text": [
      "100%|████████████████████████████████████████████████████████████████████████████| 13948/13948 [02:22<00:00, 98.13it/s]\n"
     ]
    },
    {
     "name": "stdout",
     "output_type": "stream",
     "text": [
      "[MoviePy] Done.\n",
      "[MoviePy] >>>> Video ready: F:/youtube/分析/1/66神經網絡.mp4 \n",
      "\n",
      "https://www.youtube.com/watch?v=4dmHaNuKujk&list=PLhXu26RzZZTwus4cNbPTcgXXH6oavT6EB&index=67\n",
      "[MoviePy] >>>> Building video F:/youtube/分析/1/67神經網絡.mp4\n",
      "[MoviePy] Writing audio in 67神經網絡TEMP_MPY_wvf_snd.mp3\n"
     ]
    },
    {
     "name": "stderr",
     "output_type": "stream",
     "text": [
      "100%|█████████████████████████████████████████████████████████████████████████████| 9691/9691 [00:19<00:00, 497.93it/s]\n"
     ]
    },
    {
     "name": "stdout",
     "output_type": "stream",
     "text": [
      "[MoviePy] Done.\n",
      "[MoviePy] Writing video F:/youtube/分析/1/67神經網絡.mp4\n"
     ]
    },
    {
     "name": "stderr",
     "output_type": "stream",
     "text": [
      "100%|███████████████████████████████████████████████████████████████████████████▉| 10985/10986 [01:57<00:00, 93.65it/s]\n"
     ]
    },
    {
     "name": "stdout",
     "output_type": "stream",
     "text": [
      "[MoviePy] Done.\n",
      "[MoviePy] >>>> Video ready: F:/youtube/分析/1/67神經網絡.mp4 \n",
      "\n",
      "https://www.youtube.com/watch?v=c_kIkegld_0&list=PLhXu26RzZZTwus4cNbPTcgXXH6oavT6EB&index=68\n",
      "[MoviePy] >>>> Building video F:/youtube/分析/1/68神經網絡.mp4\n",
      "[MoviePy] Writing audio in 68神經網絡TEMP_MPY_wvf_snd.mp3\n"
     ]
    },
    {
     "name": "stderr",
     "output_type": "stream",
     "text": [
      "100%|███████████████████████████████████████████████████████████████████████████| 18055/18055 [00:35<00:00, 510.52it/s]\n"
     ]
    },
    {
     "name": "stdout",
     "output_type": "stream",
     "text": [
      "[MoviePy] Done.\n",
      "[MoviePy] Writing video F:/youtube/分析/1/68神經網絡.mp4\n"
     ]
    },
    {
     "name": "stderr",
     "output_type": "stream",
     "text": [
      "100%|███████████████████████████████████████████████████████████████████████████▉| 20468/20469 [03:39<00:00, 93.37it/s]\n"
     ]
    },
    {
     "name": "stdout",
     "output_type": "stream",
     "text": [
      "[MoviePy] Done.\n",
      "[MoviePy] >>>> Video ready: F:/youtube/分析/1/68神經網絡.mp4 \n",
      "\n",
      "https://www.youtube.com/watch?v=3ZVQY-MZaV8&list=PLhXu26RzZZTwus4cNbPTcgXXH6oavT6EB&index=69\n",
      "[MoviePy] >>>> Building video F:/youtube/分析/1/69神經網絡.mp4\n",
      "[MoviePy] Writing audio in 69神經網絡TEMP_MPY_wvf_snd.mp3\n"
     ]
    },
    {
     "name": "stderr",
     "output_type": "stream",
     "text": [
      "100%|█████████████████████████████████████████████████████████████████████████████| 8973/8973 [00:16<00:00, 532.73it/s]\n"
     ]
    },
    {
     "name": "stdout",
     "output_type": "stream",
     "text": [
      "[MoviePy] Done.\n",
      "[MoviePy] Writing video F:/youtube/分析/1/69神經網絡.mp4\n"
     ]
    },
    {
     "name": "stderr",
     "output_type": "stream",
     "text": [
      "100%|███████████████████████████████████████████████████████████████████████████▉| 10172/10173 [02:19<00:00, 72.75it/s]\n"
     ]
    },
    {
     "name": "stdout",
     "output_type": "stream",
     "text": [
      "[MoviePy] Done.\n",
      "[MoviePy] >>>> Video ready: F:/youtube/分析/1/69神經網絡.mp4 \n",
      "\n",
      "https://www.youtube.com/watch?v=lZp0Mc3Gano&list=PLhXu26RzZZTwus4cNbPTcgXXH6oavT6EB&index=70\n",
      "[MoviePy] >>>> Building video F:/youtube/分析/1/70神經網絡.mp4\n",
      "[MoviePy] Writing audio in 70神經網絡TEMP_MPY_wvf_snd.mp3\n"
     ]
    },
    {
     "name": "stderr",
     "output_type": "stream",
     "text": [
      "100%|███████████████████████████████████████████████████████████████████████████| 15626/15626 [00:32<00:00, 484.63it/s]\n"
     ]
    },
    {
     "name": "stdout",
     "output_type": "stream",
     "text": [
      "[MoviePy] Done.\n",
      "[MoviePy] Writing video F:/youtube/分析/1/70神經網絡.mp4\n"
     ]
    },
    {
     "name": "stderr",
     "output_type": "stream",
     "text": [
      "100%|███████████████████████████████████████████████████████████████████████████▉| 17715/17716 [03:26<00:00, 85.84it/s]\n"
     ]
    },
    {
     "name": "stdout",
     "output_type": "stream",
     "text": [
      "[MoviePy] Done.\n",
      "[MoviePy] >>>> Video ready: F:/youtube/分析/1/70神經網絡.mp4 \n",
      "\n",
      "https://www.youtube.com/watch?v=mPaSfZt6KQs&list=PLhXu26RzZZTwus4cNbPTcgXXH6oavT6EB&index=71\n",
      "[MoviePy] >>>> Building video F:/youtube/分析/1/71神經網絡.mp4\n",
      "[MoviePy] Writing audio in 71神經網絡TEMP_MPY_wvf_snd.mp3\n"
     ]
    },
    {
     "name": "stderr",
     "output_type": "stream",
     "text": [
      "100%|███████████████████████████████████████████████████████████████████████████| 20221/20221 [00:38<00:00, 521.64it/s]\n"
     ]
    },
    {
     "name": "stdout",
     "output_type": "stream",
     "text": [
      "[MoviePy] Done.\n",
      "[MoviePy] Writing video F:/youtube/分析/1/71神經網絡.mp4\n"
     ]
    },
    {
     "name": "stderr",
     "output_type": "stream",
     "text": [
      "100%|██████████████████████████████████████████████████████████████████████████▉| 22924/22925 [03:48<00:00, 100.39it/s]\n"
     ]
    },
    {
     "name": "stdout",
     "output_type": "stream",
     "text": [
      "[MoviePy] Done.\n",
      "[MoviePy] >>>> Video ready: F:/youtube/分析/1/71神經網絡.mp4 \n",
      "\n",
      "https://www.youtube.com/watch?v=3hTpfg9nx3E&list=PLhXu26RzZZTwus4cNbPTcgXXH6oavT6EB&index=72\n",
      "[MoviePy] >>>> Building video F:/youtube/分析/1/72神經網絡架構.mp4\n",
      "[MoviePy] Writing audio in 72神經網絡架構TEMP_MPY_wvf_snd.mp3\n"
     ]
    },
    {
     "name": "stderr",
     "output_type": "stream",
     "text": [
      "100%|███████████████████████████████████████████████████████████████████████████| 13483/13483 [00:24<00:00, 543.86it/s]\n"
     ]
    },
    {
     "name": "stdout",
     "output_type": "stream",
     "text": [
      "[MoviePy] Done.\n",
      "[MoviePy] Writing video F:/youtube/分析/1/72神經網絡架構.mp4\n"
     ]
    },
    {
     "name": "stderr",
     "output_type": "stream",
     "text": [
      "100%|███████████████████████████████████████████████████████████████████████████▉| 15285/15286 [02:35<00:00, 98.29it/s]\n"
     ]
    },
    {
     "name": "stdout",
     "output_type": "stream",
     "text": [
      "[MoviePy] Done.\n",
      "[MoviePy] >>>> Video ready: F:/youtube/分析/1/72神經網絡架構.mp4 \n",
      "\n",
      "https://www.youtube.com/watch?v=EgZ6BkAZzwU&list=PLhXu26RzZZTwus4cNbPTcgXXH6oavT6EB&index=73\n",
      "[MoviePy] >>>> Building video F:/youtube/分析/1/73神經網絡實例演示.mp4\n",
      "[MoviePy] Writing audio in 73神經網絡實例演示TEMP_MPY_wvf_snd.mp3\n"
     ]
    },
    {
     "name": "stderr",
     "output_type": "stream",
     "text": [
      "100%|███████████████████████████████████████████████████████████████████████████| 14082/14082 [00:29<00:00, 471.55it/s]\n"
     ]
    },
    {
     "name": "stdout",
     "output_type": "stream",
     "text": [
      "[MoviePy] Done.\n",
      "[MoviePy] Writing video F:/youtube/分析/1/73神經網絡實例演示.mp4\n"
     ]
    },
    {
     "name": "stderr",
     "output_type": "stream",
     "text": [
      "100%|████████████████████████████████████████████████████████████████████████████| 15964/15964 [03:04<00:00, 86.46it/s]\n"
     ]
    },
    {
     "name": "stdout",
     "output_type": "stream",
     "text": [
      "[MoviePy] Done.\n",
      "[MoviePy] >>>> Video ready: F:/youtube/分析/1/73神經網絡實例演示.mp4 \n",
      "\n",
      "https://www.youtube.com/watch?v=kDLzd8TZdHE&list=PLhXu26RzZZTwus4cNbPTcgXXH6oavT6EB&index=74\n",
      "[MoviePy] >>>> Building video F:/youtube/分析/1/74神經網絡過擬合解決方案.mp4\n",
      "[MoviePy] Writing audio in 74神經網絡過擬合解決方案TEMP_MPY_wvf_snd.mp3\n"
     ]
    },
    {
     "name": "stderr",
     "output_type": "stream",
     "text": [
      "100%|███████████████████████████████████████████████████████████████████████████| 21029/21029 [00:43<00:00, 482.18it/s]\n"
     ]
    },
    {
     "name": "stdout",
     "output_type": "stream",
     "text": [
      "[MoviePy] Done.\n",
      "[MoviePy] Writing video F:/youtube/分析/1/74神經網絡過擬合解決方案.mp4\n"
     ]
    },
    {
     "name": "stderr",
     "output_type": "stream",
     "text": [
      "100%|███████████████████████████████████████████████████████████████████████████▉| 23841/23842 [04:13<00:00, 94.19it/s]\n"
     ]
    },
    {
     "name": "stdout",
     "output_type": "stream",
     "text": [
      "[MoviePy] Done.\n",
      "[MoviePy] >>>> Video ready: F:/youtube/分析/1/74神經網絡過擬合解決方案.mp4 \n",
      "\n",
      "https://www.youtube.com/watch?v=FNuKtQ32bGY&list=PLhXu26RzZZTwus4cNbPTcgXXH6oavT6EB&index=75\n",
      "[MoviePy] >>>> Building video F:/youtube/分析/1/75感受神經網絡的強大.mp4\n",
      "[MoviePy] Writing audio in 75感受神經網絡的強大TEMP_MPY_wvf_snd.mp3\n"
     ]
    },
    {
     "name": "stderr",
     "output_type": "stream",
     "text": [
      "100%|███████████████████████████████████████████████████████████████████████████| 15219/15219 [00:32<00:00, 464.40it/s]\n"
     ]
    },
    {
     "name": "stdout",
     "output_type": "stream",
     "text": [
      "[MoviePy] Done.\n",
      "[MoviePy] Writing video F:/youtube/分析/1/75感受神經網絡的強大.mp4\n"
     ]
    },
    {
     "name": "stderr",
     "output_type": "stream",
     "text": [
      "100%|███████████████████████████████████████████████████████████████████████████▉| 17253/17254 [03:12<00:00, 89.70it/s]\n"
     ]
    },
    {
     "name": "stdout",
     "output_type": "stream",
     "text": [
      "[MoviePy] Done.\n",
      "[MoviePy] >>>> Video ready: F:/youtube/分析/1/75感受神經網絡的強大.mp4 \n",
      "\n",
      "https://www.youtube.com/watch?v=DY3_TLS5IOA&list=PLhXu26RzZZTwus4cNbPTcgXXH6oavT6EB&index=76\n",
      "[MoviePy] >>>> Building video F:/youtube/分析/1/76集成算法思想.mp4\n",
      "[MoviePy] Writing audio in 76集成算法思想TEMP_MPY_wvf_snd.mp3\n"
     ]
    },
    {
     "name": "stderr",
     "output_type": "stream",
     "text": [
      "100%|█████████████████████████████████████████████████████████████████████████████| 7400/7400 [00:14<00:00, 528.27it/s]\n"
     ]
    },
    {
     "name": "stdout",
     "output_type": "stream",
     "text": [
      "[MoviePy] Done.\n",
      "[MoviePy] Writing video F:/youtube/分析/1/76集成算法思想.mp4\n"
     ]
    },
    {
     "name": "stderr",
     "output_type": "stream",
     "text": [
      "100%|█████████████████████████████████████████████████████████████████████████████▉| 8388/8389 [01:25<00:00, 98.37it/s]\n"
     ]
    },
    {
     "name": "stdout",
     "output_type": "stream",
     "text": [
      "[MoviePy] Done.\n",
      "[MoviePy] >>>> Video ready: F:/youtube/分析/1/76集成算法思想.mp4 \n",
      "\n",
      "https://www.youtube.com/watch?v=qgHzU37ze00&list=PLhXu26RzZZTwus4cNbPTcgXXH6oavT6EB&index=77\n",
      "[MoviePy] >>>> Building video F:/youtube/分析/1/77xgboost基本原理.mp4\n",
      "[MoviePy] Writing audio in 77xgboost基本原理TEMP_MPY_wvf_snd.mp3\n"
     ]
    },
    {
     "name": "stderr",
     "output_type": "stream",
     "text": [
      "100%|███████████████████████████████████████████████████████████████████████████| 14714/14714 [00:32<00:00, 287.09it/s]\n"
     ]
    },
    {
     "name": "stdout",
     "output_type": "stream",
     "text": [
      "[MoviePy] Done.\n",
      "[MoviePy] Writing video F:/youtube/分析/1/77xgboost基本原理.mp4\n"
     ]
    },
    {
     "name": "stderr",
     "output_type": "stream",
     "text": [
      "100%|███████████████████████████████████████████████████████████████████████████▉| 16681/16682 [02:50<00:00, 97.67it/s]\n"
     ]
    },
    {
     "name": "stdout",
     "output_type": "stream",
     "text": [
      "[MoviePy] Done.\n",
      "[MoviePy] >>>> Video ready: F:/youtube/分析/1/77xgboost基本原理.mp4 \n",
      "\n",
      "https://www.youtube.com/watch?v=7TJzHSh1y8o&list=PLhXu26RzZZTwus4cNbPTcgXXH6oavT6EB&index=78\n",
      "[MoviePy] >>>> Building video F:/youtube/分析/1/78xgboost目標函數推導.mp4\n",
      "[MoviePy] Writing audio in 78xgboost目標函數推導TEMP_MPY_wvf_snd.mp3\n"
     ]
    },
    {
     "name": "stderr",
     "output_type": "stream",
     "text": [
      "100%|███████████████████████████████████████████████████████████████████████████| 16269/16269 [00:32<00:00, 505.61it/s]\n"
     ]
    },
    {
     "name": "stdout",
     "output_type": "stream",
     "text": [
      "[MoviePy] Done.\n",
      "[MoviePy] Writing video F:/youtube/分析/1/78xgboost目標函數推導.mp4\n"
     ]
    },
    {
     "name": "stderr",
     "output_type": "stream",
     "text": [
      "100%|███████████████████████████████████████████████████████████████████████████▉| 18444/18445 [03:28<00:00, 88.56it/s]\n"
     ]
    },
    {
     "name": "stdout",
     "output_type": "stream",
     "text": [
      "[MoviePy] Done.\n",
      "[MoviePy] >>>> Video ready: F:/youtube/分析/1/78xgboost目標函數推導.mp4 \n",
      "\n",
      "https://www.youtube.com/watch?v=5kXRnaybEuI&list=PLhXu26RzZZTwus4cNbPTcgXXH6oavT6EB&index=79\n",
      "[MoviePy] >>>> Building video F:/youtube/分析/1/79xgboost求解實例.mp4\n",
      "[MoviePy] Writing audio in 79xgboost求解實例TEMP_MPY_wvf_snd.mp3\n"
     ]
    },
    {
     "name": "stderr",
     "output_type": "stream",
     "text": [
      "100%|███████████████████████████████████████████████████████████████████████████| 15200/15200 [00:29<00:00, 517.27it/s]\n"
     ]
    },
    {
     "name": "stdout",
     "output_type": "stream",
     "text": [
      "[MoviePy] Done.\n",
      "[MoviePy] Writing video F:/youtube/分析/1/79xgboost求解實例.mp4\n"
     ]
    },
    {
     "name": "stderr",
     "output_type": "stream",
     "text": [
      "100%|███████████████████████████████████████████████████████████████████████████▉| 17232/17233 [03:30<00:00, 81.76it/s]\n"
     ]
    },
    {
     "name": "stdout",
     "output_type": "stream",
     "text": [
      "[MoviePy] Done.\n",
      "[MoviePy] >>>> Video ready: F:/youtube/分析/1/79xgboost求解實例.mp4 \n",
      "\n",
      "https://www.youtube.com/watch?v=ZrjhZUT3s54&list=PLhXu26RzZZTwus4cNbPTcgXXH6oavT6EB&index=80\n",
      "[MoviePy] >>>> Building video F:/youtube/分析/1/80xgboost安裝.mp4\n",
      "[MoviePy] Writing audio in 80xgboost安裝TEMP_MPY_wvf_snd.mp3\n"
     ]
    },
    {
     "name": "stderr",
     "output_type": "stream",
     "text": [
      "100%|█████████████████████████████████████████████████████████████████████████████| 4676/4676 [00:09<00:00, 482.96it/s]\n"
     ]
    },
    {
     "name": "stdout",
     "output_type": "stream",
     "text": [
      "[MoviePy] Done.\n",
      "[MoviePy] Writing video F:/youtube/分析/1/80xgboost安裝.mp4\n"
     ]
    },
    {
     "name": "stderr",
     "output_type": "stream",
     "text": [
      "100%|█████████████████████████████████████████████████████████████████████████████▉| 5299/5300 [01:19<00:00, 66.60it/s]\n"
     ]
    },
    {
     "name": "stdout",
     "output_type": "stream",
     "text": [
      "[MoviePy] Done.\n",
      "[MoviePy] >>>> Video ready: F:/youtube/分析/1/80xgboost安裝.mp4 \n",
      "\n",
      "https://www.youtube.com/watch?v=kppM3ZsICGM&list=PLhXu26RzZZTwus4cNbPTcgXXH6oavT6EB&index=81\n",
      "[MoviePy] >>>> Building video F:/youtube/分析/1/81xgboost實戰演示.mp4\n",
      "[MoviePy] Writing audio in 81xgboost實戰演示TEMP_MPY_wvf_snd.mp3\n"
     ]
    },
    {
     "name": "stderr",
     "output_type": "stream",
     "text": [
      "100%|███████████████████████████████████████████████████████████████████████████| 19491/19491 [00:41<00:00, 471.30it/s]\n"
     ]
    },
    {
     "name": "stdout",
     "output_type": "stream",
     "text": [
      "[MoviePy] Done.\n",
      "[MoviePy] Writing video F:/youtube/分析/1/81xgboost實戰演示.mp4\n"
     ]
    },
    {
     "name": "stderr",
     "output_type": "stream",
     "text": [
      "100%|███████████████████████████████████████████████████████████████████████████▉| 22097/22098 [04:06<00:00, 89.55it/s]\n"
     ]
    },
    {
     "name": "stdout",
     "output_type": "stream",
     "text": [
      "[MoviePy] Done.\n",
      "[MoviePy] >>>> Video ready: F:/youtube/分析/1/81xgboost實戰演示.mp4 \n",
      "\n",
      "https://www.youtube.com/watch?v=_DUZLv-Iqfk&list=PLhXu26RzZZTwus4cNbPTcgXXH6oavT6EB&index=82\n",
      "[MoviePy] >>>> Building video F:/youtube/分析/1/82Adaboost算法概述.mp4\n",
      "[MoviePy] Writing audio in 82Adaboost算法概述TEMP_MPY_wvf_snd.mp3\n"
     ]
    },
    {
     "name": "stderr",
     "output_type": "stream",
     "text": [
      "100%|███████████████████████████████████████████████████████████████████████████| 17215/17215 [00:36<00:00, 468.44it/s]\n"
     ]
    },
    {
     "name": "stdout",
     "output_type": "stream",
     "text": [
      "[MoviePy] Done.\n",
      "[MoviePy] Writing video F:/youtube/分析/1/82Adaboost算法概述.mp4\n"
     ]
    },
    {
     "name": "stderr",
     "output_type": "stream",
     "text": [
      "100%|██████████████████████████████████████████████████████████████████████████▉| 19516/19517 [03:09<00:00, 103.01it/s]\n"
     ]
    },
    {
     "name": "stdout",
     "output_type": "stream",
     "text": [
      "[MoviePy] Done.\n",
      "[MoviePy] >>>> Video ready: F:/youtube/分析/1/82Adaboost算法概述.mp4 \n",
      "\n",
      "https://www.youtube.com/watch?v=K6FFlX9RJBE&list=PLhXu26RzZZTwus4cNbPTcgXXH6oavT6EB&index=83\n",
      "[MoviePy] >>>> Building video F:/youtube/分析/1/83自然語言處理與深度學習.mp4\n",
      "[MoviePy] Writing audio in 83自然語言處理與深度學習TEMP_MPY_wvf_snd.mp3\n"
     ]
    },
    {
     "name": "stderr",
     "output_type": "stream",
     "text": [
      "100%|███████████████████████████████████████████████████████████████████████████| 15844/15844 [00:31<00:00, 498.92it/s]\n"
     ]
    },
    {
     "name": "stdout",
     "output_type": "stream",
     "text": [
      "[MoviePy] Done.\n",
      "[MoviePy] Writing video F:/youtube/分析/1/83自然語言處理與深度學習.mp4\n"
     ]
    },
    {
     "name": "stderr",
     "output_type": "stream",
     "text": [
      "100%|██████████████████████████████████████████████████████████████████████████▉| 17962/17963 [02:38<00:00, 113.12it/s]\n"
     ]
    },
    {
     "name": "stdout",
     "output_type": "stream",
     "text": [
      "[MoviePy] Done.\n",
      "[MoviePy] >>>> Video ready: F:/youtube/分析/1/83自然語言處理與深度學習.mp4 \n",
      "\n",
      "https://www.youtube.com/watch?v=IUSqW4AG66o&list=PLhXu26RzZZTwus4cNbPTcgXXH6oavT6EB&index=84\n",
      "[MoviePy] >>>> Building video F:/youtube/分析/1/84語言模型.mp4\n",
      "[MoviePy] Writing audio in 84語言模型TEMP_MPY_wvf_snd.mp3\n"
     ]
    },
    {
     "name": "stderr",
     "output_type": "stream",
     "text": [
      "100%|█████████████████████████████████████████████████████████████████████████████| 8291/8291 [00:15<00:00, 520.69it/s]\n"
     ]
    },
    {
     "name": "stdout",
     "output_type": "stream",
     "text": [
      "[MoviePy] Done.\n",
      "[MoviePy] Writing video F:/youtube/分析/1/84語言模型.mp4\n"
     ]
    },
    {
     "name": "stderr",
     "output_type": "stream",
     "text": [
      "100%|████████████████████████████████████████████████████████████████████████████▉| 9398/9399 [01:28<00:00, 106.55it/s]\n"
     ]
    },
    {
     "name": "stdout",
     "output_type": "stream",
     "text": [
      "[MoviePy] Done.\n",
      "[MoviePy] >>>> Video ready: F:/youtube/分析/1/84語言模型.mp4 \n",
      "\n",
      "https://www.youtube.com/watch?v=xDcqKUCK9uU&list=PLhXu26RzZZTwus4cNbPTcgXXH6oavT6EB&index=85\n",
      "[MoviePy] >>>> Building video F:/youtube/分析/1/85-N.mp4\n",
      "[MoviePy] Writing audio in 85-NTEMP_MPY_wvf_snd.mp3\n"
     ]
    },
    {
     "name": "stderr",
     "output_type": "stream",
     "text": [
      "100%|███████████████████████████████████████████████████████████████████████████| 11300/11300 [00:22<00:00, 508.85it/s]\n"
     ]
    },
    {
     "name": "stdout",
     "output_type": "stream",
     "text": [
      "[MoviePy] Done.\n",
      "[MoviePy] Writing video F:/youtube/分析/1/85-N.mp4\n"
     ]
    },
    {
     "name": "stderr",
     "output_type": "stream",
     "text": [
      "100%|███████████████████████████████████████████████████████████████████████████▉| 12810/12811 [02:16<00:00, 94.05it/s]\n"
     ]
    },
    {
     "name": "stdout",
     "output_type": "stream",
     "text": [
      "[MoviePy] Done.\n",
      "[MoviePy] >>>> Video ready: F:/youtube/分析/1/85-N.mp4 \n",
      "\n",
      "https://www.youtube.com/watch?v=2HkWMDfFgj8&list=PLhXu26RzZZTwus4cNbPTcgXXH6oavT6EB&index=86\n",
      "[MoviePy] >>>> Building video F:/youtube/分析/1/86詞向量.mp4\n",
      "[MoviePy] Writing audio in 86詞向量TEMP_MPY_wvf_snd.mp3\n"
     ]
    },
    {
     "name": "stderr",
     "output_type": "stream",
     "text": [
      "100%|███████████████████████████████████████████████████████████████████████████| 12517/12517 [00:23<00:00, 525.17it/s]\n"
     ]
    },
    {
     "name": "stdout",
     "output_type": "stream",
     "text": [
      "[MoviePy] Done.\n",
      "[MoviePy] Writing video F:/youtube/分析/1/86詞向量.mp4\n"
     ]
    },
    {
     "name": "stderr",
     "output_type": "stream",
     "text": [
      "100%|███████████████████████████████████████████████████████████████████████████▉| 14190/14191 [02:41<00:00, 88.02it/s]\n"
     ]
    },
    {
     "name": "stdout",
     "output_type": "stream",
     "text": [
      "[MoviePy] Done.\n",
      "[MoviePy] >>>> Video ready: F:/youtube/分析/1/86詞向量.mp4 \n",
      "\n",
      "https://www.youtube.com/watch?v=C1mcaTtuVvQ&list=PLhXu26RzZZTwus4cNbPTcgXXH6oavT6EB&index=87\n",
      "[MoviePy] >>>> Building video F:/youtube/分析/1/87神經網絡模型.mp4\n",
      "[MoviePy] Writing audio in 87神經網絡模型TEMP_MPY_wvf_snd.mp3\n"
     ]
    },
    {
     "name": "stderr",
     "output_type": "stream",
     "text": [
      "100%|███████████████████████████████████████████████████████████████████████████| 13290/13290 [00:28<00:00, 472.89it/s]\n"
     ]
    },
    {
     "name": "stdout",
     "output_type": "stream",
     "text": [
      "[MoviePy] Done.\n",
      "[MoviePy] Writing video F:/youtube/分析/1/87神經網絡模型.mp4\n"
     ]
    },
    {
     "name": "stderr",
     "output_type": "stream",
     "text": [
      "100%|██████████████████████████████████████████████████████████████████████████▉| 15066/15067 [02:30<00:00, 100.23it/s]\n"
     ]
    },
    {
     "name": "stdout",
     "output_type": "stream",
     "text": [
      "[MoviePy] Done.\n",
      "[MoviePy] >>>> Video ready: F:/youtube/分析/1/87神經網絡模型.mp4 \n",
      "\n",
      "https://www.youtube.com/watch?v=Hi9mDWLUFHU&list=PLhXu26RzZZTwus4cNbPTcgXXH6oavT6EB&index=88\n",
      "[MoviePy] >>>> Building video F:/youtube/分析/1/88Hierarchical.mp4\n",
      "[MoviePy] Writing audio in 88HierarchicalTEMP_MPY_wvf_snd.mp3\n"
     ]
    },
    {
     "name": "stderr",
     "output_type": "stream",
     "text": [
      "100%|███████████████████████████████████████████████████████████████████████████| 13257/13257 [00:26<00:00, 503.83it/s]\n"
     ]
    },
    {
     "name": "stdout",
     "output_type": "stream",
     "text": [
      "[MoviePy] Done.\n",
      "[MoviePy] Writing video F:/youtube/分析/1/88Hierarchical.mp4\n"
     ]
    },
    {
     "name": "stderr",
     "output_type": "stream",
     "text": [
      "100%|███████████████████████████████████████████████████████████████████████████▉| 15028/15029 [02:50<00:00, 88.17it/s]\n"
     ]
    },
    {
     "name": "stdout",
     "output_type": "stream",
     "text": [
      "[MoviePy] Done.\n",
      "[MoviePy] >>>> Video ready: F:/youtube/分析/1/88Hierarchical.mp4 \n",
      "\n",
      "https://www.youtube.com/watch?v=nzcE9jdg2gk&list=PLhXu26RzZZTwus4cNbPTcgXXH6oavT6EB&index=89\n",
      "[MoviePy] >>>> Building video F:/youtube/分析/1/89CBOW模型實例.mp4\n",
      "[MoviePy] Writing audio in 89CBOW模型實例TEMP_MPY_wvf_snd.mp3\n"
     ]
    },
    {
     "name": "stderr",
     "output_type": "stream",
     "text": [
      "100%|███████████████████████████████████████████████████████████████████████████| 15013/15013 [00:27<00:00, 554.39it/s]\n"
     ]
    },
    {
     "name": "stdout",
     "output_type": "stream",
     "text": [
      "[MoviePy] Done.\n",
      "[MoviePy] Writing video F:/youtube/分析/1/89CBOW模型實例.mp4\n"
     ]
    },
    {
     "name": "stderr",
     "output_type": "stream",
     "text": [
      "100%|███████████████████████████████████████████████████████████████████████████▉| 17020/17021 [03:02<00:00, 93.42it/s]\n"
     ]
    },
    {
     "name": "stdout",
     "output_type": "stream",
     "text": [
      "[MoviePy] Done.\n",
      "[MoviePy] >>>> Video ready: F:/youtube/分析/1/89CBOW模型實例.mp4 \n",
      "\n",
      "https://www.youtube.com/watch?v=BhFdQ87IXys&list=PLhXu26RzZZTwus4cNbPTcgXXH6oavT6EB&index=90\n",
      "[MoviePy] >>>> Building video F:/youtube/分析/1/90CBOW求解目標.mp4\n",
      "[MoviePy] Writing audio in 90CBOW求解目標TEMP_MPY_wvf_snd.mp3\n"
     ]
    },
    {
     "name": "stderr",
     "output_type": "stream",
     "text": [
      "100%|█████████████████████████████████████████████████████████████████████████████| 7479/7479 [00:14<00:00, 519.24it/s]\n"
     ]
    },
    {
     "name": "stdout",
     "output_type": "stream",
     "text": [
      "[MoviePy] Done.\n",
      "[MoviePy] Writing video F:/youtube/分析/1/90CBOW求解目標.mp4\n"
     ]
    },
    {
     "name": "stderr",
     "output_type": "stream",
     "text": [
      "100%|█████████████████████████████████████████████████████████████████████████████▉| 8478/8479 [01:16<00:00, 98.10it/s]\n"
     ]
    },
    {
     "name": "stdout",
     "output_type": "stream",
     "text": [
      "[MoviePy] Done.\n",
      "[MoviePy] >>>> Video ready: F:/youtube/分析/1/90CBOW求解目標.mp4 \n",
      "\n",
      "https://www.youtube.com/watch?v=ov8lNhv33fw&list=PLhXu26RzZZTwus4cNbPTcgXXH6oavT6EB&index=91\n",
      "91\n",
      "[MoviePy] >>>> Building video F:/youtube/分析/1/91梯度上升求解.mp4\n",
      "[MoviePy] Writing audio in 91梯度上升求解TEMP_MPY_wvf_snd.mp3\n"
     ]
    },
    {
     "name": "stderr",
     "output_type": "stream",
     "text": [
      "100%|███████████████████████████████████████████████████████████████████████████| 13464/13464 [00:26<00:00, 507.89it/s]\n"
     ]
    },
    {
     "name": "stdout",
     "output_type": "stream",
     "text": [
      "[MoviePy] Done.\n",
      "[MoviePy] Writing video F:/youtube/分析/1/91梯度上升求解.mp4\n"
     ]
    },
    {
     "name": "stderr",
     "output_type": "stream",
     "text": [
      "100%|███████████████████████████████████████████████████████████████████████████▉| 15263/15264 [02:36<00:00, 97.44it/s]\n"
     ]
    },
    {
     "name": "stdout",
     "output_type": "stream",
     "text": [
      "[MoviePy] Done.\n",
      "[MoviePy] >>>> Video ready: F:/youtube/分析/1/91梯度上升求解.mp4 \n",
      "\n",
      "https://www.youtube.com/watch?v=V4a_3FyzUuA&list=PLhXu26RzZZTwus4cNbPTcgXXH6oavT6EB&index=92\n",
      "[MoviePy] >>>> Building video F:/youtube/分析/1/92負採樣模型.mp4\n",
      "[MoviePy] Writing audio in 92負採樣模型TEMP_MPY_wvf_snd.mp3\n"
     ]
    },
    {
     "name": "stderr",
     "output_type": "stream",
     "text": [
      "100%|█████████████████████████████████████████████████████████████████████████████| 9598/9598 [00:18<00:00, 524.61it/s]\n"
     ]
    },
    {
     "name": "stdout",
     "output_type": "stream",
     "text": [
      "[MoviePy] Done.\n",
      "[MoviePy] Writing video F:/youtube/分析/1/92負採樣模型.mp4\n"
     ]
    },
    {
     "name": "stderr",
     "output_type": "stream",
     "text": [
      "100%|███████████████████████████████████████████████████████████████████████████▉| 10880/10881 [01:57<00:00, 92.66it/s]\n"
     ]
    },
    {
     "name": "stdout",
     "output_type": "stream",
     "text": [
      "[MoviePy] Done.\n",
      "[MoviePy] >>>> Video ready: F:/youtube/分析/1/92負採樣模型.mp4 \n",
      "\n",
      "https://www.youtube.com/watch?v=BODPCVBMQgk&list=PLhXu26RzZZTwus4cNbPTcgXXH6oavT6EB&index=93\n",
      "[MoviePy] >>>> Building video F:/youtube/分析/1/93無監督聚類問題.mp4\n",
      "[MoviePy] Writing audio in 93無監督聚類問題TEMP_MPY_wvf_snd.mp3\n"
     ]
    },
    {
     "name": "stderr",
     "output_type": "stream",
     "text": [
      "100%|███████████████████████████████████████████████████████████████████████████| 21261/21261 [00:39<00:00, 533.98it/s]\n"
     ]
    },
    {
     "name": "stdout",
     "output_type": "stream",
     "text": [
      "[MoviePy] Done.\n",
      "[MoviePy] Writing video F:/youtube/分析/1/93無監督聚類問題.mp4\n"
     ]
    },
    {
     "name": "stderr",
     "output_type": "stream",
     "text": [
      "100%|███████████████████████████████████████████████████████████████████████████▉| 24103/24104 [05:33<00:00, 56.91it/s]\n"
     ]
    },
    {
     "name": "stdout",
     "output_type": "stream",
     "text": [
      "[MoviePy] Done.\n",
      "[MoviePy] >>>> Video ready: F:/youtube/分析/1/93無監督聚類問題.mp4 \n",
      "\n",
      "https://www.youtube.com/watch?v=k7Ss2s7-QHo&list=PLhXu26RzZZTwus4cNbPTcgXXH6oavT6EB&index=94\n",
      "[MoviePy] >>>> Building video F:/youtube/分析/1/94聚類結果與離群點分析.mp4\n",
      "[MoviePy] Writing audio in 94聚類結果與離群點分析TEMP_MPY_wvf_snd.mp3\n"
     ]
    },
    {
     "name": "stderr",
     "output_type": "stream",
     "text": [
      "100%|███████████████████████████████████████████████████████████████████████████| 17096/17096 [00:31<00:00, 535.69it/s]\n"
     ]
    },
    {
     "name": "stdout",
     "output_type": "stream",
     "text": [
      "[MoviePy] Done.\n",
      "[MoviePy] Writing video F:/youtube/分析/1/94聚類結果與離群點分析.mp4\n"
     ]
    },
    {
     "name": "stderr",
     "output_type": "stream",
     "text": [
      "100%|███████████████████████████████████████████████████████████████████████████▉| 19381/19382 [04:24<00:00, 55.77it/s]\n"
     ]
    },
    {
     "name": "stdout",
     "output_type": "stream",
     "text": [
      "[MoviePy] Done.\n",
      "[MoviePy] >>>> Video ready: F:/youtube/分析/1/94聚類結果與離群點分析.mp4 \n",
      "\n",
      "https://www.youtube.com/watch?v=v4SKXPt_qVM&list=PLhXu26RzZZTwus4cNbPTcgXXH6oavT6EB&index=95\n",
      "[MoviePy] >>>> Building video F:/youtube/分析/1/95K.mp4\n",
      "[MoviePy] Writing audio in 95KTEMP_MPY_wvf_snd.mp3\n"
     ]
    },
    {
     "name": "stderr",
     "output_type": "stream",
     "text": [
      "100%|███████████████████████████████████████████████████████████████████████████| 19036/19036 [00:36<00:00, 527.53it/s]\n"
     ]
    },
    {
     "name": "stdout",
     "output_type": "stream",
     "text": [
      "[MoviePy] Done.\n",
      "[MoviePy] Writing video F:/youtube/分析/1/95K.mp4\n"
     ]
    },
    {
     "name": "stderr",
     "output_type": "stream",
     "text": [
      "100%|███████████████████████████████████████████████████████████████████████████▉| 21581/21582 [04:58<00:00, 72.40it/s]\n"
     ]
    },
    {
     "name": "stdout",
     "output_type": "stream",
     "text": [
      "[MoviePy] Done.\n",
      "[MoviePy] >>>> Video ready: F:/youtube/分析/1/95K.mp4 \n",
      "\n",
      "https://www.youtube.com/watch?v=13VCA6G-rQ4&list=PLhXu26RzZZTwus4cNbPTcgXXH6oavT6EB&index=96\n",
      "[MoviePy] >>>> Building video F:/youtube/分析/1/96使用Kmeans進行圖像壓縮.mp4\n",
      "[MoviePy] Writing audio in 96使用Kmeans進行圖像壓縮TEMP_MPY_wvf_snd.mp3\n"
     ]
    },
    {
     "name": "stderr",
     "output_type": "stream",
     "text": [
      "100%|███████████████████████████████████████████████████████████████████████████| 10546/10546 [00:21<00:00, 497.70it/s]\n"
     ]
    },
    {
     "name": "stdout",
     "output_type": "stream",
     "text": [
      "[MoviePy] Done.\n",
      "[MoviePy] Writing video F:/youtube/分析/1/96使用Kmeans進行圖像壓縮.mp4\n"
     ]
    },
    {
     "name": "stderr",
     "output_type": "stream",
     "text": [
      "100%|███████████████████████████████████████████████████████████████████████████▉| 11955/11956 [02:36<00:00, 76.55it/s]\n"
     ]
    },
    {
     "name": "stdout",
     "output_type": "stream",
     "text": [
      "[MoviePy] Done.\n",
      "[MoviePy] >>>> Video ready: F:/youtube/分析/1/96使用Kmeans進行圖像壓縮.mp4 \n",
      "\n",
      "https://www.youtube.com/watch?v=Luhqq1PP_G8&list=PLhXu26RzZZTwus4cNbPTcgXXH6oavT6EB&index=97\n",
      "[MoviePy] >>>> Building video F:/youtube/分析/1/97K近鄰算法原理.mp4\n",
      "[MoviePy] Writing audio in 97K近鄰算法原理TEMP_MPY_wvf_snd.mp3\n"
     ]
    },
    {
     "name": "stderr",
     "output_type": "stream",
     "text": [
      "100%|███████████████████████████████████████████████████████████████████████████| 16618/16618 [00:28<00:00, 573.70it/s]\n"
     ]
    },
    {
     "name": "stdout",
     "output_type": "stream",
     "text": [
      "[MoviePy] Done.\n",
      "[MoviePy] Writing video F:/youtube/分析/1/97K近鄰算法原理.mp4\n"
     ]
    },
    {
     "name": "stderr",
     "output_type": "stream",
     "text": [
      "100%|███████████████████████████████████████████████████████████████████████████▉| 18840/18841 [03:41<00:00, 85.01it/s]\n"
     ]
    },
    {
     "name": "stdout",
     "output_type": "stream",
     "text": [
      "[MoviePy] Done.\n",
      "[MoviePy] >>>> Video ready: F:/youtube/分析/1/97K近鄰算法原理.mp4 \n",
      "\n",
      "https://www.youtube.com/watch?v=ZHkP06bLqMk&list=PLhXu26RzZZTwus4cNbPTcgXXH6oavT6EB&index=98\n",
      "[MoviePy] >>>> Building video F:/youtube/分析/1/98K近鄰算法代碼實現.mp4\n",
      "[MoviePy] Writing audio in 98K近鄰算法代碼實現TEMP_MPY_wvf_snd.mp3\n"
     ]
    },
    {
     "name": "stderr",
     "output_type": "stream",
     "text": [
      "100%|███████████████████████████████████████████████████████████████████████████| 24778/24778 [00:42<00:00, 580.57it/s]\n"
     ]
    },
    {
     "name": "stdout",
     "output_type": "stream",
     "text": [
      "[MoviePy] Done.\n",
      "[MoviePy] Writing video F:/youtube/分析/1/98K近鄰算法代碼實現.mp4\n"
     ]
    },
    {
     "name": "stderr",
     "output_type": "stream",
     "text": [
      "100%|████████████████████████████████████████████████████████████████████████████| 28092/28092 [05:42<00:00, 82.13it/s]\n"
     ]
    },
    {
     "name": "stdout",
     "output_type": "stream",
     "text": [
      "[MoviePy] Done.\n",
      "[MoviePy] >>>> Video ready: F:/youtube/分析/1/98K近鄰算法代碼實現.mp4 \n",
      "\n",
      "https://www.youtube.com/watch?v=O-mQUOcdkSI&list=PLhXu26RzZZTwus4cNbPTcgXXH6oavT6EB&index=99\n",
      "[MoviePy] >>>> Building video F:/youtube/分析/1/99PCA基本原理.mp4\n",
      "[MoviePy] Writing audio in 99PCA基本原理TEMP_MPY_wvf_snd.mp3\n"
     ]
    },
    {
     "name": "stderr",
     "output_type": "stream",
     "text": [
      "100%|███████████████████████████████████████████████████████████████████████████| 14298/14298 [00:28<00:00, 506.76it/s]\n"
     ]
    },
    {
     "name": "stdout",
     "output_type": "stream",
     "text": [
      "[MoviePy] Done.\n",
      "[MoviePy] Writing video F:/youtube/分析/1/99PCA基本原理.mp4\n"
     ]
    },
    {
     "name": "stderr",
     "output_type": "stream",
     "text": [
      "100%|███████████████████████████████████████████████████████████████████████████▉| 16209/16210 [03:30<00:00, 77.17it/s]\n"
     ]
    },
    {
     "name": "stdout",
     "output_type": "stream",
     "text": [
      "[MoviePy] Done.\n",
      "[MoviePy] >>>> Video ready: F:/youtube/分析/1/99PCA基本原理.mp4 \n",
      "\n",
      "https://www.youtube.com/watch?v=PfhLyTjMeTQ&list=PLhXu26RzZZTwus4cNbPTcgXXH6oavT6EB&index=100\n",
      "[MoviePy] >>>> Building video F:/youtube/分析/1/100PCA實例.mp4\n",
      "[MoviePy] Writing audio in 100PCA實例TEMP_MPY_wvf_snd.mp3\n"
     ]
    },
    {
     "name": "stderr",
     "output_type": "stream",
     "text": [
      "100%|███████████████████████████████████████████████████████████████████████████| 11332/11332 [00:21<00:00, 515.16it/s]\n"
     ]
    },
    {
     "name": "stdout",
     "output_type": "stream",
     "text": [
      "[MoviePy] Done.\n",
      "[MoviePy] Writing video F:/youtube/分析/1/100PCA實例.mp4\n"
     ]
    },
    {
     "name": "stderr",
     "output_type": "stream",
     "text": [
      "100%|███████████████████████████████████████████████████████████████████████████▉| 12846/12847 [02:46<00:00, 77.28it/s]\n"
     ]
    },
    {
     "name": "stdout",
     "output_type": "stream",
     "text": [
      "[MoviePy] Done.\n",
      "[MoviePy] >>>> Video ready: F:/youtube/分析/1/100PCA實例.mp4 \n",
      "\n",
      "https://www.youtube.com/watch?v=v-VmHfa9DI8&list=PLhXu26RzZZTwus4cNbPTcgXXH6oavT6EB&index=101\n",
      "[MoviePy] >>>> Building video F:/youtube/分析/1/101SVD奇異值分解原理.mp4\n",
      "[MoviePy] Writing audio in 101SVD奇異值分解原理TEMP_MPY_wvf_snd.mp3\n"
     ]
    },
    {
     "name": "stderr",
     "output_type": "stream",
     "text": [
      "100%|███████████████████████████████████████████████████████████████████████████| 13417/13417 [00:25<00:00, 531.13it/s]\n"
     ]
    },
    {
     "name": "stdout",
     "output_type": "stream",
     "text": [
      "[MoviePy] Done.\n",
      "[MoviePy] Writing video F:/youtube/分析/1/101SVD奇異值分解原理.mp4\n"
     ]
    },
    {
     "name": "stderr",
     "output_type": "stream",
     "text": [
      "100%|███████████████████████████████████████████████████████████████████████████▉| 15210/15211 [03:20<00:00, 75.79it/s]\n"
     ]
    },
    {
     "name": "stdout",
     "output_type": "stream",
     "text": [
      "[MoviePy] Done.\n",
      "[MoviePy] >>>> Video ready: F:/youtube/分析/1/101SVD奇異值分解原理.mp4 \n",
      "\n",
      "https://www.youtube.com/watch?v=BlDGwNqfJUU&list=PLhXu26RzZZTwus4cNbPTcgXXH6oavT6EB&index=102\n",
      "[MoviePy] >>>> Building video F:/youtube/分析/1/102SVD推薦系統應用實例.mp4\n",
      "[MoviePy] Writing audio in 102SVD推薦系統應用實例TEMP_MPY_wvf_snd.mp3\n"
     ]
    },
    {
     "name": "stderr",
     "output_type": "stream",
     "text": [
      "100%|███████████████████████████████████████████████████████████████████████████| 17888/17888 [00:30<00:00, 588.02it/s]\n"
     ]
    },
    {
     "name": "stdout",
     "output_type": "stream",
     "text": [
      "[MoviePy] Done.\n",
      "[MoviePy] Writing video F:/youtube/分析/1/102SVD推薦系統應用實例.mp4\n"
     ]
    },
    {
     "name": "stderr",
     "output_type": "stream",
     "text": [
      "100%|███████████████████████████████████████████████████████████████████████████▉| 20279/20280 [04:06<00:00, 82.15it/s]\n"
     ]
    },
    {
     "name": "stdout",
     "output_type": "stream",
     "text": [
      "[MoviePy] Done.\n",
      "[MoviePy] >>>> Video ready: F:/youtube/分析/1/102SVD推薦系統應用實例.mp4 \n",
      "\n",
      "https://www.youtube.com/watch?v=kvHGHjuxYx0&list=PLhXu26RzZZTwus4cNbPTcgXXH6oavT6EB&index=103\n",
      "[MoviePy] >>>> Building video F:/youtube/分析/1/103使用python庫分析汽車油耗效率.mp4\n",
      "[MoviePy] Writing audio in 103使用python庫分析汽車油耗效率TEMP_MPY_wvf_snd.mp3\n"
     ]
    },
    {
     "name": "stderr",
     "output_type": "stream",
     "text": [
      "100%|███████████████████████████████████████████████████████████████████████████| 20036/20036 [00:37<00:00, 540.08it/s]\n"
     ]
    },
    {
     "name": "stdout",
     "output_type": "stream",
     "text": [
      "[MoviePy] Done.\n",
      "[MoviePy] Writing video F:/youtube/分析/1/103使用python庫分析汽車油耗效率.mp4\n"
     ]
    },
    {
     "name": "stderr",
     "output_type": "stream",
     "text": [
      "100%|███████████████████████████████████████████████████████████████████████████▉| 22714/22715 [05:23<00:00, 70.14it/s]\n"
     ]
    },
    {
     "name": "stdout",
     "output_type": "stream",
     "text": [
      "[MoviePy] Done.\n",
      "[MoviePy] >>>> Video ready: F:/youtube/分析/1/103使用python庫分析汽車油耗效率.mp4 \n",
      "\n",
      "https://www.youtube.com/watch?v=RO73xGnVflM&list=PLhXu26RzZZTwus4cNbPTcgXXH6oavT6EB&index=104\n",
      "[MoviePy] >>>> Building video F:/youtube/分析/1/104使用scikit.mp4\n",
      "[MoviePy] Writing audio in 104使用scikitTEMP_MPY_wvf_snd.mp3\n"
     ]
    },
    {
     "name": "stderr",
     "output_type": "stream",
     "text": [
      "100%|███████████████████████████████████████████████████████████████████████████| 18577/18577 [00:35<00:00, 521.06it/s]\n"
     ]
    },
    {
     "name": "stdout",
     "output_type": "stream",
     "text": [
      "[MoviePy] Done.\n",
      "[MoviePy] Writing video F:/youtube/分析/1/104使用scikit.mp4\n"
     ]
    },
    {
     "name": "stderr",
     "output_type": "stream",
     "text": [
      "100%|███████████████████████████████████████████████████████████████████████████▉| 21061/21062 [06:42<00:00, 52.35it/s]\n"
     ]
    },
    {
     "name": "stdout",
     "output_type": "stream",
     "text": [
      "[MoviePy] Done.\n",
      "[MoviePy] >>>> Video ready: F:/youtube/分析/1/104使用scikit.mp4 \n",
      "\n",
      "https://www.youtube.com/watch?v=u7IPXwQLeAs&list=PLhXu26RzZZTwus4cNbPTcgXXH6oavT6EB&index=105\n",
      "[MoviePy] >>>> Building video F:/youtube/分析/1/105使用邏輯回歸改進模型效果.mp4\n",
      "[MoviePy] Writing audio in 105使用邏輯回歸改進模型效果TEMP_MPY_wvf_snd.mp3\n"
     ]
    },
    {
     "name": "stderr",
     "output_type": "stream",
     "text": [
      "100%|███████████████████████████████████████████████████████████████████████████| 17474/17474 [00:31<00:00, 550.55it/s]\n"
     ]
    },
    {
     "name": "stdout",
     "output_type": "stream",
     "text": [
      "[MoviePy] Done.\n",
      "[MoviePy] Writing video F:/youtube/分析/1/105使用邏輯回歸改進模型效果.mp4\n"
     ]
    },
    {
     "name": "stderr",
     "output_type": "stream",
     "text": [
      "100%|███████████████████████████████████████████████████████████████████████████▉| 19809/19810 [04:02<00:00, 81.60it/s]\n"
     ]
    },
    {
     "name": "stdout",
     "output_type": "stream",
     "text": [
      "[MoviePy] Done.\n",
      "[MoviePy] >>>> Video ready: F:/youtube/分析/1/105使用邏輯回歸改進模型效果.mp4 \n",
      "\n",
      "https://www.youtube.com/watch?v=fcUeG3ez3_c&list=PLhXu26RzZZTwus4cNbPTcgXXH6oavT6EB&index=106\n",
      "[MoviePy] >>>> Building video F:/youtube/分析/1/106模型效果衡量標準.mp4\n",
      "[MoviePy] Writing audio in 106模型效果衡量標準TEMP_MPY_wvf_snd.mp3\n"
     ]
    },
    {
     "name": "stderr",
     "output_type": "stream",
     "text": [
      "100%|███████████████████████████████████████████████████████████████████████████| 26659/26659 [00:44<00:00, 594.06it/s]\n"
     ]
    },
    {
     "name": "stdout",
     "output_type": "stream",
     "text": [
      "[MoviePy] Done.\n",
      "[MoviePy] Writing video F:/youtube/分析/1/106模型效果衡量標準.mp4\n"
     ]
    },
    {
     "name": "stderr",
     "output_type": "stream",
     "text": [
      "100%|███████████████████████████████████████████████████████████████████████████▉| 30223/30224 [05:26<00:00, 88.23it/s]\n"
     ]
    },
    {
     "name": "stdout",
     "output_type": "stream",
     "text": [
      "[MoviePy] Done.\n",
      "[MoviePy] >>>> Video ready: F:/youtube/分析/1/106模型效果衡量標準.mp4 \n",
      "\n",
      "https://www.youtube.com/watch?v=l8IKkHRed6E&list=PLhXu26RzZZTwus4cNbPTcgXXH6oavT6EB&index=107\n",
      "[MoviePy] >>>> Building video F:/youtube/分析/1/107ROC指標與測試集的價值.mp4\n",
      "[MoviePy] Writing audio in 107ROC指標與測試集的價值TEMP_MPY_wvf_snd.mp3\n"
     ]
    },
    {
     "name": "stderr",
     "output_type": "stream",
     "text": [
      "100%|███████████████████████████████████████████████████████████████████████████| 19217/19217 [00:32<00:00, 590.62it/s]\n"
     ]
    },
    {
     "name": "stdout",
     "output_type": "stream",
     "text": [
      "[MoviePy] Done.\n",
      "[MoviePy] Writing video F:/youtube/分析/1/107ROC指標與測試集的價值.mp4\n"
     ]
    },
    {
     "name": "stderr",
     "output_type": "stream",
     "text": [
      "100%|███████████████████████████████████████████████████████████████████████████▉| 21786/21787 [03:57<00:00, 91.90it/s]\n"
     ]
    },
    {
     "name": "stdout",
     "output_type": "stream",
     "text": [
      "[MoviePy] Done.\n",
      "[MoviePy] >>>> Video ready: F:/youtube/分析/1/107ROC指標與測試集的價值.mp4 \n",
      "\n",
      "https://www.youtube.com/watch?v=Np6l-hJbFDY&list=PLhXu26RzZZTwus4cNbPTcgXXH6oavT6EB&index=108\n",
      "[MoviePy] >>>> Building video F:/youtube/分析/1/108交叉驗證.mp4\n",
      "[MoviePy] Writing audio in 108交叉驗證TEMP_MPY_wvf_snd.mp3\n"
     ]
    },
    {
     "name": "stderr",
     "output_type": "stream",
     "text": [
      "100%|███████████████████████████████████████████████████████████████████████████| 20188/20188 [00:33<00:00, 609.52it/s]\n"
     ]
    },
    {
     "name": "stdout",
     "output_type": "stream",
     "text": [
      "[MoviePy] Done.\n",
      "[MoviePy] Writing video F:/youtube/分析/1/108交叉驗證.mp4\n"
     ]
    },
    {
     "name": "stderr",
     "output_type": "stream",
     "text": [
      "100%|███████████████████████████████████████████████████████████████████████████▉| 22887/22888 [04:08<00:00, 91.97it/s]\n"
     ]
    },
    {
     "name": "stdout",
     "output_type": "stream",
     "text": [
      "[MoviePy] Done.\n",
      "[MoviePy] >>>> Video ready: F:/youtube/分析/1/108交叉驗證.mp4 \n",
      "\n",
      "https://www.youtube.com/watch?v=rMyX8tv_KEA&list=PLhXu26RzZZTwus4cNbPTcgXXH6oavT6EB&index=109\n",
      "[MoviePy] >>>> Building video F:/youtube/分析/1/109多類別問題.mp4\n",
      "[MoviePy] Writing audio in 109多類別問題TEMP_MPY_wvf_snd.mp3\n"
     ]
    },
    {
     "name": "stderr",
     "output_type": "stream",
     "text": [
      "100%|███████████████████████████████████████████████████████████████████████████| 20993/20993 [00:37<00:00, 561.17it/s]\n"
     ]
    },
    {
     "name": "stdout",
     "output_type": "stream",
     "text": [
      "[MoviePy] Done.\n",
      "[MoviePy] Writing video F:/youtube/分析/1/109多類別問題.mp4\n"
     ]
    },
    {
     "name": "stderr",
     "output_type": "stream",
     "text": [
      "100%|██████████████████████████████████████████████████████████████████████████▉| 23799/23800 [03:42<00:00, 107.03it/s]\n"
     ]
    },
    {
     "name": "stdout",
     "output_type": "stream",
     "text": [
      "[MoviePy] Done.\n",
      "[MoviePy] >>>> Video ready: F:/youtube/分析/1/109多類別問題.mp4 \n",
      "\n",
      "https://www.youtube.com/watch?v=LPUODekDSTg&list=PLhXu26RzZZTwus4cNbPTcgXXH6oavT6EB&index=110\n",
      "[MoviePy] >>>> Building video F:/youtube/分析/1/110Kobe.mp4\n",
      "[MoviePy] Writing audio in 110KobeTEMP_MPY_wvf_snd.mp3\n"
     ]
    },
    {
     "name": "stderr",
     "output_type": "stream",
     "text": [
      "100%|███████████████████████████████████████████████████████████████████████████| 10259/10259 [00:19<00:00, 513.58it/s]\n"
     ]
    },
    {
     "name": "stdout",
     "output_type": "stream",
     "text": [
      "[MoviePy] Done.\n",
      "[MoviePy] Writing video F:/youtube/分析/1/110Kobe.mp4\n"
     ]
    },
    {
     "name": "stderr",
     "output_type": "stream",
     "text": [
      "100%|███████████████████████████████████████████████████████████████████████████▉| 11630/11631 [01:57<00:00, 98.69it/s]\n"
     ]
    },
    {
     "name": "stdout",
     "output_type": "stream",
     "text": [
      "[MoviePy] Done.\n",
      "[MoviePy] >>>> Video ready: F:/youtube/分析/1/110Kobe.mp4 \n",
      "\n",
      "https://www.youtube.com/watch?v=ArqE3xsVYT4&list=PLhXu26RzZZTwus4cNbPTcgXXH6oavT6EB&index=111\n",
      "[MoviePy] >>>> Building video F:/youtube/分析/1/111特征數據可視化展示.mp4\n",
      "[MoviePy] Writing audio in 111特征數據可視化展示TEMP_MPY_wvf_snd.mp3\n"
     ]
    },
    {
     "name": "stderr",
     "output_type": "stream",
     "text": [
      "100%|███████████████████████████████████████████████████████████████████████████| 15459/15459 [00:29<00:00, 523.76it/s]\n"
     ]
    },
    {
     "name": "stdout",
     "output_type": "stream",
     "text": [
      "[MoviePy] Done.\n",
      "[MoviePy] Writing video F:/youtube/分析/1/111特征數據可視化展示.mp4\n"
     ]
    },
    {
     "name": "stderr",
     "output_type": "stream",
     "text": [
      "100%|███████████████████████████████████████████████████████████████████████████▉| 17525/17526 [02:56<00:00, 99.14it/s]\n"
     ]
    },
    {
     "name": "stdout",
     "output_type": "stream",
     "text": [
      "[MoviePy] Done.\n",
      "[MoviePy] >>>> Video ready: F:/youtube/分析/1/111特征數據可視化展示.mp4 \n",
      "\n",
      "https://www.youtube.com/watch?v=7iqYb95yOPI&list=PLhXu26RzZZTwus4cNbPTcgXXH6oavT6EB&index=112\n",
      "[MoviePy] >>>> Building video F:/youtube/分析/1/112數據預處理.mp4\n",
      "[MoviePy] Writing audio in 112數據預處理TEMP_MPY_wvf_snd.mp3\n"
     ]
    },
    {
     "name": "stderr",
     "output_type": "stream",
     "text": [
      "100%|███████████████████████████████████████████████████████████████████████████| 16577/16577 [00:34<00:00, 480.40it/s]\n"
     ]
    },
    {
     "name": "stdout",
     "output_type": "stream",
     "text": [
      "[MoviePy] Done.\n",
      "[MoviePy] Writing video F:/youtube/分析/1/112數據預處理.mp4\n"
     ]
    },
    {
     "name": "stderr",
     "output_type": "stream",
     "text": [
      "100%|██████████████████████████████████████████████████████████████████████████▉| 18793/18794 [03:03<00:00, 102.20it/s]\n"
     ]
    },
    {
     "name": "stdout",
     "output_type": "stream",
     "text": [
      "[MoviePy] Done.\n",
      "[MoviePy] >>>> Video ready: F:/youtube/分析/1/112數據預處理.mp4 \n",
      "\n",
      "https://www.youtube.com/watch?v=ap2dZvWuqFg&list=PLhXu26RzZZTwus4cNbPTcgXXH6oavT6EB&index=113\n",
      "[MoviePy] >>>> Building video F:/youtube/分析/1/113使用Scikit.mp4\n",
      "[MoviePy] Writing audio in 113使用ScikitTEMP_MPY_wvf_snd.mp3\n"
     ]
    },
    {
     "name": "stderr",
     "output_type": "stream",
     "text": [
      "100%|███████████████████████████████████████████████████████████████████████████| 13492/13492 [00:25<00:00, 524.53it/s]\n"
     ]
    },
    {
     "name": "stdout",
     "output_type": "stream",
     "text": [
      "[MoviePy] Done.\n",
      "[MoviePy] Writing video F:/youtube/分析/1/113使用Scikit.mp4\n"
     ]
    },
    {
     "name": "stderr",
     "output_type": "stream",
     "text": [
      "100%|████████████████████████████████████████████████████████████████████████████| 15295/15295 [02:43<00:00, 47.54it/s]\n"
     ]
    },
    {
     "name": "stdout",
     "output_type": "stream",
     "text": [
      "[MoviePy] Done.\n",
      "[MoviePy] >>>> Video ready: F:/youtube/分析/1/113使用Scikit.mp4 \n",
      "\n",
      "https://www.youtube.com/watch?v=4c3l7X94XEU&list=PLhXu26RzZZTwus4cNbPTcgXXH6oavT6EB&index=114\n",
      "[MoviePy] >>>> Building video F:/youtube/分析/1/114船員數據分析.mp4\n",
      "[MoviePy] Writing audio in 114船員數據分析TEMP_MPY_wvf_snd.mp3\n"
     ]
    },
    {
     "name": "stderr",
     "output_type": "stream",
     "text": [
      "100%|███████████████████████████████████████████████████████████████████████████| 14603/14603 [00:26<00:00, 551.92it/s]\n"
     ]
    },
    {
     "name": "stdout",
     "output_type": "stream",
     "text": [
      "[MoviePy] Done.\n",
      "[MoviePy] Writing video F:/youtube/分析/1/114船員數據分析.mp4\n"
     ]
    },
    {
     "name": "stderr",
     "output_type": "stream",
     "text": [
      "100%|███████████████████████████████████████████████████████████████████████████▉| 16555/16556 [04:12<00:00, 65.57it/s]\n"
     ]
    },
    {
     "name": "stdout",
     "output_type": "stream",
     "text": [
      "[MoviePy] Done.\n",
      "[MoviePy] >>>> Video ready: F:/youtube/分析/1/114船員數據分析.mp4 \n",
      "\n",
      "https://www.youtube.com/watch?v=vfXoF6rVqcg&list=PLhXu26RzZZTwus4cNbPTcgXXH6oavT6EB&index=115\n",
      "[MoviePy] >>>> Building video F:/youtube/分析/1/115數據預處理.mp4\n",
      "[MoviePy] Writing audio in 115數據預處理TEMP_MPY_wvf_snd.mp3\n"
     ]
    },
    {
     "name": "stderr",
     "output_type": "stream",
     "text": [
      "100%|███████████████████████████████████████████████████████████████████████████| 15414/15414 [00:28<00:00, 548.12it/s]\n"
     ]
    },
    {
     "name": "stdout",
     "output_type": "stream",
     "text": [
      "[MoviePy] Done.\n",
      "[MoviePy] Writing video F:/youtube/分析/1/115數據預處理.mp4\n"
     ]
    },
    {
     "name": "stderr",
     "output_type": "stream",
     "text": [
      "100%|███████████████████████████████████████████████████████████████████████████▉| 17474/17475 [04:08<00:00, 70.19it/s]\n"
     ]
    },
    {
     "name": "stdout",
     "output_type": "stream",
     "text": [
      "[MoviePy] Done.\n",
      "[MoviePy] >>>> Video ready: F:/youtube/分析/1/115數據預處理.mp4 \n",
      "\n",
      "https://www.youtube.com/watch?v=bGd8auw6MC0&list=PLhXu26RzZZTwus4cNbPTcgXXH6oavT6EB&index=116\n",
      "[MoviePy] >>>> Building video F:/youtube/分析/1/116使用回歸算法進行預測.mp4\n",
      "[MoviePy] Writing audio in 116使用回歸算法進行預測TEMP_MPY_wvf_snd.mp3\n"
     ]
    },
    {
     "name": "stderr",
     "output_type": "stream",
     "text": [
      "100%|███████████████████████████████████████████████████████████████████████████| 16163/16163 [00:28<00:00, 561.32it/s]\n"
     ]
    },
    {
     "name": "stdout",
     "output_type": "stream",
     "text": [
      "[MoviePy] Done.\n",
      "[MoviePy] Writing video F:/youtube/分析/1/116使用回歸算法進行預測.mp4\n"
     ]
    },
    {
     "name": "stderr",
     "output_type": "stream",
     "text": [
      "100%|███████████████████████████████████████████████████████████████████████████▉| 18323/18324 [04:50<00:00, 63.06it/s]\n"
     ]
    },
    {
     "name": "stdout",
     "output_type": "stream",
     "text": [
      "[MoviePy] Done.\n",
      "[MoviePy] >>>> Video ready: F:/youtube/分析/1/116使用回歸算法進行預測.mp4 \n",
      "\n",
      "https://www.youtube.com/watch?v=_BZSbdXnyRY&list=PLhXu26RzZZTwus4cNbPTcgXXH6oavT6EB&index=117\n",
      "[MoviePy] >>>> Building video F:/youtube/分析/1/117使用隨機森林改進模型.mp4\n",
      "[MoviePy] Writing audio in 117使用隨機森林改進模型TEMP_MPY_wvf_snd.mp3\n"
     ]
    },
    {
     "name": "stderr",
     "output_type": "stream",
     "text": [
      "100%|███████████████████████████████████████████████████████████████████████████| 17744/17744 [00:34<00:00, 517.64it/s]\n"
     ]
    },
    {
     "name": "stdout",
     "output_type": "stream",
     "text": [
      "[MoviePy] Done.\n",
      "[MoviePy] Writing video F:/youtube/分析/1/117使用隨機森林改進模型.mp4\n"
     ]
    },
    {
     "name": "stderr",
     "output_type": "stream",
     "text": [
      "100%|███████████████████████████████████████████████████████████████████████████▉| 20116/20117 [04:56<00:00, 67.84it/s]\n"
     ]
    },
    {
     "name": "stdout",
     "output_type": "stream",
     "text": [
      "[MoviePy] Done.\n",
      "[MoviePy] >>>> Video ready: F:/youtube/分析/1/117使用隨機森林改進模型.mp4 \n",
      "\n",
      "https://www.youtube.com/watch?v=Gt0mJt-VMow&list=PLhXu26RzZZTwus4cNbPTcgXXH6oavT6EB&index=118\n",
      "[MoviePy] >>>> Building video F:/youtube/分析/1/118隨機森林特征重要性分析.mp4\n",
      "[MoviePy] Writing audio in 118隨機森林特征重要性分析TEMP_MPY_wvf_snd.mp3\n"
     ]
    },
    {
     "name": "stderr",
     "output_type": "stream",
     "text": [
      "100%|███████████████████████████████████████████████████████████████████████████| 21053/21053 [00:36<00:00, 578.09it/s]\n"
     ]
    },
    {
     "name": "stdout",
     "output_type": "stream",
     "text": [
      "[MoviePy] Done.\n",
      "[MoviePy] Writing video F:/youtube/分析/1/118隨機森林特征重要性分析.mp4\n"
     ]
    },
    {
     "name": "stderr",
     "output_type": "stream",
     "text": [
      "100%|███████████████████████████████████████████████████████████████████████████▉| 23868/23869 [04:40<00:00, 85.23it/s]\n"
     ]
    },
    {
     "name": "stdout",
     "output_type": "stream",
     "text": [
      "[MoviePy] Done.\n",
      "[MoviePy] >>>> Video ready: F:/youtube/分析/1/118隨機森林特征重要性分析.mp4 \n",
      "\n",
      "https://www.youtube.com/watch?v=LBEsct0QvXE&list=PLhXu26RzZZTwus4cNbPTcgXXH6oavT6EB&index=119\n",
      "[MoviePy] >>>> Building video F:/youtube/分析/1/119案例背景和目標.mp4\n",
      "[MoviePy] Writing audio in 119案例背景和目標TEMP_MPY_wvf_snd.mp3\n"
     ]
    },
    {
     "name": "stderr",
     "output_type": "stream",
     "text": [
      "100%|███████████████████████████████████████████████████████████████████████████| 11291/11291 [00:21<00:00, 521.23it/s]\n"
     ]
    },
    {
     "name": "stdout",
     "output_type": "stream",
     "text": [
      "[MoviePy] Done.\n",
      "[MoviePy] Writing video F:/youtube/分析/1/119案例背景和目標.mp4\n"
     ]
    },
    {
     "name": "stderr",
     "output_type": "stream",
     "text": [
      "100%|███████████████████████████████████████████████████████████████████████████▉| 12800/12801 [02:30<00:00, 79.40it/s]\n"
     ]
    },
    {
     "name": "stdout",
     "output_type": "stream",
     "text": [
      "[MoviePy] Done.\n",
      "[MoviePy] >>>> Video ready: F:/youtube/分析/1/119案例背景和目標.mp4 \n",
      "\n",
      "https://www.youtube.com/watch?v=i0uj_Prx4ZQ&list=PLhXu26RzZZTwus4cNbPTcgXXH6oavT6EB&index=120\n",
      "[MoviePy] >>>> Building video F:/youtube/分析/1/120樣本不均衡解決方案.mp4\n",
      "[MoviePy] Writing audio in 120樣本不均衡解決方案TEMP_MPY_wvf_snd.mp3\n"
     ]
    },
    {
     "name": "stderr",
     "output_type": "stream",
     "text": [
      "100%|███████████████████████████████████████████████████████████████████████████| 13625/13625 [00:25<00:00, 527.32it/s]\n"
     ]
    },
    {
     "name": "stdout",
     "output_type": "stream",
     "text": [
      "[MoviePy] Done.\n",
      "[MoviePy] Writing video F:/youtube/分析/1/120樣本不均衡解決方案.mp4\n"
     ]
    },
    {
     "name": "stderr",
     "output_type": "stream",
     "text": [
      "100%|███████████████████████████████████████████████████████████████████████████▉| 15446/15447 [02:51<00:00, 90.25it/s]\n"
     ]
    },
    {
     "name": "stdout",
     "output_type": "stream",
     "text": [
      "[MoviePy] Done.\n",
      "[MoviePy] >>>> Video ready: F:/youtube/分析/1/120樣本不均衡解決方案.mp4 \n",
      "\n",
      "https://www.youtube.com/watch?v=6KZl82ZR8w8&list=PLhXu26RzZZTwus4cNbPTcgXXH6oavT6EB&index=121\n",
      "[MoviePy] >>>> Building video F:/youtube/分析/1/121下採樣策略.mp4\n",
      "[MoviePy] Writing audio in 121下採樣策略TEMP_MPY_wvf_snd.mp3\n"
     ]
    },
    {
     "name": "stderr",
     "output_type": "stream",
     "text": [
      "100%|█████████████████████████████████████████████████████████████████████████████| 8732/8732 [00:16<00:00, 543.21it/s]\n"
     ]
    },
    {
     "name": "stdout",
     "output_type": "stream",
     "text": [
      "[MoviePy] Done.\n",
      "[MoviePy] Writing video F:/youtube/分析/1/121下採樣策略.mp4\n"
     ]
    },
    {
     "name": "stderr",
     "output_type": "stream",
     "text": [
      "100%|█████████████████████████████████████████████████████████████████████████████▉| 9898/9899 [01:53<00:00, 87.58it/s]\n"
     ]
    },
    {
     "name": "stdout",
     "output_type": "stream",
     "text": [
      "[MoviePy] Done.\n",
      "[MoviePy] >>>> Video ready: F:/youtube/分析/1/121下採樣策略.mp4 \n",
      "\n",
      "https://www.youtube.com/watch?v=62ZodlHyDEk&list=PLhXu26RzZZTwus4cNbPTcgXXH6oavT6EB&index=122\n",
      "[MoviePy] >>>> Building video F:/youtube/分析/1/122交叉驗證.mp4\n",
      "[MoviePy] Writing audio in 122交叉驗證TEMP_MPY_wvf_snd.mp3\n"
     ]
    },
    {
     "name": "stderr",
     "output_type": "stream",
     "text": [
      "100%|███████████████████████████████████████████████████████████████████████████| 17261/17261 [00:32<00:00, 523.42it/s]\n"
     ]
    },
    {
     "name": "stdout",
     "output_type": "stream",
     "text": [
      "[MoviePy] Done.\n",
      "[MoviePy] Writing video F:/youtube/分析/1/122交叉驗證.mp4\n"
     ]
    },
    {
     "name": "stderr",
     "output_type": "stream",
     "text": [
      "100%|███████████████████████████████████████████████████████████████████████████▉| 19569/19570 [03:28<00:00, 86.22it/s]\n"
     ]
    },
    {
     "name": "stdout",
     "output_type": "stream",
     "text": [
      "[MoviePy] Done.\n",
      "[MoviePy] >>>> Video ready: F:/youtube/分析/1/122交叉驗證.mp4 \n",
      "\n",
      "https://www.youtube.com/watch?v=PwFpMdneKG4&list=PLhXu26RzZZTwus4cNbPTcgXXH6oavT6EB&index=123\n",
      "[MoviePy] >>>> Building video F:/youtube/分析/1/123模型評估方法.mp4\n",
      "[MoviePy] Writing audio in 123模型評估方法TEMP_MPY_wvf_snd.mp3\n"
     ]
    },
    {
     "name": "stderr",
     "output_type": "stream",
     "text": [
      "100%|███████████████████████████████████████████████████████████████████████████| 17327/17327 [00:32<00:00, 529.43it/s]\n"
     ]
    },
    {
     "name": "stdout",
     "output_type": "stream",
     "text": [
      "[MoviePy] Done.\n",
      "[MoviePy] Writing video F:/youtube/分析/1/123模型評估方法.mp4\n"
     ]
    },
    {
     "name": "stderr",
     "output_type": "stream",
     "text": [
      "100%|███████████████████████████████████████████████████████████████████████████▉| 19643/19644 [03:24<00:00, 96.13it/s]\n"
     ]
    },
    {
     "name": "stdout",
     "output_type": "stream",
     "text": [
      "[MoviePy] Done.\n",
      "[MoviePy] >>>> Video ready: F:/youtube/分析/1/123模型評估方法.mp4 \n",
      "\n",
      "https://www.youtube.com/watch?v=wxWzu7JM9wE&list=PLhXu26RzZZTwus4cNbPTcgXXH6oavT6EB&index=124\n",
      "[MoviePy] >>>> Building video F:/youtube/分析/1/124正則化懲罰.mp4\n",
      "[MoviePy] Writing audio in 124正則化懲罰TEMP_MPY_wvf_snd.mp3\n"
     ]
    },
    {
     "name": "stderr",
     "output_type": "stream",
     "text": [
      "100%|███████████████████████████████████████████████████████████████████████████| 10787/10787 [00:20<00:00, 528.11it/s]\n"
     ]
    },
    {
     "name": "stdout",
     "output_type": "stream",
     "text": [
      "[MoviePy] Done.\n",
      "[MoviePy] Writing video F:/youtube/分析/1/124正則化懲罰.mp4\n"
     ]
    },
    {
     "name": "stderr",
     "output_type": "stream",
     "text": [
      "100%|███████████████████████████████████████████████████████████████████████████▉| 12228/12229 [02:14<00:00, 90.97it/s]\n"
     ]
    },
    {
     "name": "stdout",
     "output_type": "stream",
     "text": [
      "[MoviePy] Done.\n",
      "[MoviePy] >>>> Video ready: F:/youtube/分析/1/124正則化懲罰.mp4 \n",
      "\n",
      "https://www.youtube.com/watch?v=RPymqq_kMc0&list=PLhXu26RzZZTwus4cNbPTcgXXH6oavT6EB&index=125\n",
      "[MoviePy] >>>> Building video F:/youtube/分析/1/125邏輯回歸模型.mp4\n",
      "[MoviePy] Writing audio in 125邏輯回歸模型TEMP_MPY_wvf_snd.mp3\n"
     ]
    },
    {
     "name": "stderr",
     "output_type": "stream",
     "text": [
      "100%|███████████████████████████████████████████████████████████████████████████| 10090/10090 [00:19<00:00, 526.83it/s]\n"
     ]
    },
    {
     "name": "stdout",
     "output_type": "stream",
     "text": [
      "[MoviePy] Done.\n",
      "[MoviePy] Writing video F:/youtube/分析/1/125邏輯回歸模型.mp4\n"
     ]
    },
    {
     "name": "stderr",
     "output_type": "stream",
     "text": [
      "100%|███████████████████████████████████████████████████████████████████████████▉| 11438/11439 [02:10<00:00, 87.64it/s]\n"
     ]
    },
    {
     "name": "stdout",
     "output_type": "stream",
     "text": [
      "[MoviePy] Done.\n",
      "[MoviePy] >>>> Video ready: F:/youtube/分析/1/125邏輯回歸模型.mp4 \n",
      "\n",
      "https://www.youtube.com/watch?v=ZJiPm9Xfz1k&list=PLhXu26RzZZTwus4cNbPTcgXXH6oavT6EB&index=126\n",
      "126\n",
      "[MoviePy] >>>> Building video F:/youtube/分析/1/126混淆矩陣.mp4\n",
      "[MoviePy] Writing audio in 126混淆矩陣TEMP_MPY_wvf_snd.mp3\n"
     ]
    },
    {
     "name": "stderr",
     "output_type": "stream",
     "text": [
      "100%|███████████████████████████████████████████████████████████████████████████| 11748/11748 [00:21<00:00, 540.84it/s]\n"
     ]
    },
    {
     "name": "stdout",
     "output_type": "stream",
     "text": [
      "[MoviePy] Done.\n",
      "[MoviePy] Writing video F:/youtube/分析/1/126混淆矩陣.mp4\n"
     ]
    },
    {
     "name": "stderr",
     "output_type": "stream",
     "text": [
      "100%|███████████████████████████████████████████████████████████████████████████▉| 13318/13319 [02:27<00:00, 90.03it/s]\n"
     ]
    },
    {
     "name": "stdout",
     "output_type": "stream",
     "text": [
      "[MoviePy] Done.\n",
      "[MoviePy] >>>> Video ready: F:/youtube/分析/1/126混淆矩陣.mp4 \n",
      "\n",
      "https://www.youtube.com/watch?v=fmlaYUJTQ0E&list=PLhXu26RzZZTwus4cNbPTcgXXH6oavT6EB&index=127\n",
      "[MoviePy] >>>> Building video F:/youtube/分析/1/127邏輯回歸閾值對結果的影響.mp4\n",
      "[MoviePy] Writing audio in 127邏輯回歸閾值對結果的影響TEMP_MPY_wvf_snd.mp3\n"
     ]
    },
    {
     "name": "stderr",
     "output_type": "stream",
     "text": [
      "100%|███████████████████████████████████████████████████████████████████████████| 13256/13256 [00:24<00:00, 549.67it/s]\n"
     ]
    },
    {
     "name": "stdout",
     "output_type": "stream",
     "text": [
      "[MoviePy] Done.\n",
      "[MoviePy] Writing video F:/youtube/分析/1/127邏輯回歸閾值對結果的影響.mp4\n"
     ]
    },
    {
     "name": "stderr",
     "output_type": "stream",
     "text": [
      "100%|███████████████████████████████████████████████████████████████████████████▉| 15027/15028 [02:47<00:00, 93.31it/s]\n"
     ]
    },
    {
     "name": "stdout",
     "output_type": "stream",
     "text": [
      "[MoviePy] Done.\n",
      "[MoviePy] >>>> Video ready: F:/youtube/分析/1/127邏輯回歸閾值對結果的影響.mp4 \n",
      "\n",
      "https://www.youtube.com/watch?v=oCIW-TPfeEk&list=PLhXu26RzZZTwus4cNbPTcgXXH6oavT6EB&index=128\n",
      "[MoviePy] >>>> Building video F:/youtube/分析/1/128SMOTE樣本生成策略.mp4\n",
      "[MoviePy] Writing audio in 128SMOTE樣本生成策略TEMP_MPY_wvf_snd.mp3\n"
     ]
    },
    {
     "name": "stderr",
     "output_type": "stream",
     "text": [
      "100%|███████████████████████████████████████████████████████████████████████████| 20969/20969 [00:40<00:00, 518.47it/s]\n"
     ]
    },
    {
     "name": "stdout",
     "output_type": "stream",
     "text": [
      "[MoviePy] Done.\n",
      "[MoviePy] Writing video F:/youtube/分析/1/128SMOTE樣本生成策略.mp4\n"
     ]
    },
    {
     "name": "stderr",
     "output_type": "stream",
     "text": [
      "100%|███████████████████████████████████████████████████████████████████████████▉| 23773/23774 [04:38<00:00, 85.28it/s]\n"
     ]
    },
    {
     "name": "stdout",
     "output_type": "stream",
     "text": [
      "[MoviePy] Done.\n",
      "[MoviePy] >>>> Video ready: F:/youtube/分析/1/128SMOTE樣本生成策略.mp4 \n",
      "\n",
      "https://www.youtube.com/watch?v=dLAm7xDm2Go&list=PLhXu26RzZZTwus4cNbPTcgXXH6oavT6EB&index=129\n",
      "[MoviePy] >>>> Building video F:/youtube/分析/1/129文本分析與關鍵詞提取.mp4\n",
      "[MoviePy] Writing audio in 129文本分析與關鍵詞提取TEMP_MPY_wvf_snd.mp3\n"
     ]
    },
    {
     "name": "stderr",
     "output_type": "stream",
     "text": [
      "100%|███████████████████████████████████████████████████████████████████████████| 16127/16127 [00:30<00:00, 527.32it/s]\n"
     ]
    },
    {
     "name": "stdout",
     "output_type": "stream",
     "text": [
      "[MoviePy] Done.\n",
      "[MoviePy] Writing video F:/youtube/分析/1/129文本分析與關鍵詞提取.mp4\n"
     ]
    },
    {
     "name": "stderr",
     "output_type": "stream",
     "text": [
      "100%|███████████████████████████████████████████████████████████████████████████▉| 18282/18283 [03:09<00:00, 96.22it/s]\n"
     ]
    },
    {
     "name": "stdout",
     "output_type": "stream",
     "text": [
      "[MoviePy] Done.\n",
      "[MoviePy] >>>> Video ready: F:/youtube/分析/1/129文本分析與關鍵詞提取.mp4 \n",
      "\n",
      "https://www.youtube.com/watch?v=XsPQ0xgrdJU&list=PLhXu26RzZZTwus4cNbPTcgXXH6oavT6EB&index=130\n",
      "[MoviePy] >>>> Building video F:/youtube/分析/1/130相似度計算.mp4\n",
      "[MoviePy] Writing audio in 130相似度計算TEMP_MPY_wvf_snd.mp3\n"
     ]
    },
    {
     "name": "stderr",
     "output_type": "stream",
     "text": [
      "100%|███████████████████████████████████████████████████████████████████████████| 15522/15522 [00:30<00:00, 505.26it/s]\n"
     ]
    },
    {
     "name": "stdout",
     "output_type": "stream",
     "text": [
      "[MoviePy] Done.\n",
      "[MoviePy] Writing video F:/youtube/分析/1/130相似度計算.mp4\n"
     ]
    },
    {
     "name": "stderr",
     "output_type": "stream",
     "text": [
      "100%|███████████████████████████████████████████████████████████████████████████▉| 17597/17598 [03:13<00:00, 91.09it/s]\n"
     ]
    },
    {
     "name": "stdout",
     "output_type": "stream",
     "text": [
      "[MoviePy] Done.\n",
      "[MoviePy] >>>> Video ready: F:/youtube/分析/1/130相似度計算.mp4 \n",
      "\n",
      "https://www.youtube.com/watch?v=2t9LKH12x-I&list=PLhXu26RzZZTwus4cNbPTcgXXH6oavT6EB&index=131\n",
      "[MoviePy] >>>> Building video F:/youtube/分析/1/131新聞數據與任務簡介.mp4\n",
      "[MoviePy] Writing audio in 131新聞數據與任務簡介TEMP_MPY_wvf_snd.mp3\n"
     ]
    },
    {
     "name": "stderr",
     "output_type": "stream",
     "text": [
      "100%|███████████████████████████████████████████████████████████████████████████| 13667/13667 [00:25<00:00, 531.33it/s]\n"
     ]
    },
    {
     "name": "stdout",
     "output_type": "stream",
     "text": [
      "[MoviePy] Done.\n",
      "[MoviePy] Writing video F:/youtube/分析/1/131新聞數據與任務簡介.mp4\n"
     ]
    },
    {
     "name": "stderr",
     "output_type": "stream",
     "text": [
      "100%|███████████████████████████████████████████████████████████████████████████▉| 15493/15494 [03:29<00:00, 73.96it/s]\n"
     ]
    },
    {
     "name": "stdout",
     "output_type": "stream",
     "text": [
      "[MoviePy] Done.\n",
      "[MoviePy] >>>> Video ready: F:/youtube/分析/1/131新聞數據與任務簡介.mp4 \n",
      "\n",
      "https://www.youtube.com/watch?v=ZOYYrTDN6N0&list=PLhXu26RzZZTwus4cNbPTcgXXH6oavT6EB&index=132\n",
      "[MoviePy] >>>> Building video F:/youtube/分析/1/132TF.mp4\n",
      "[MoviePy] Writing audio in 132TFTEMP_MPY_wvf_snd.mp3\n"
     ]
    },
    {
     "name": "stderr",
     "output_type": "stream",
     "text": [
      "100%|███████████████████████████████████████████████████████████████████████████| 17824/17824 [00:36<00:00, 488.99it/s]\n"
     ]
    },
    {
     "name": "stdout",
     "output_type": "stream",
     "text": [
      "[MoviePy] Done.\n",
      "[MoviePy] Writing video F:/youtube/分析/1/132TF.mp4\n"
     ]
    },
    {
     "name": "stderr",
     "output_type": "stream",
     "text": [
      "100%|███████████████████████████████████████████████████████████████████████████▉| 20207/20208 [05:00<00:00, 67.19it/s]\n"
     ]
    },
    {
     "name": "stdout",
     "output_type": "stream",
     "text": [
      "[MoviePy] Done.\n",
      "[MoviePy] >>>> Video ready: F:/youtube/分析/1/132TF.mp4 \n",
      "\n",
      "https://www.youtube.com/watch?v=wMhpnk2xW6c&list=PLhXu26RzZZTwus4cNbPTcgXXH6oavT6EB&index=133\n",
      "[MoviePy] >>>> Building video F:/youtube/分析/1/133LDA建模.mp4\n",
      "[MoviePy] Writing audio in 133LDA建模TEMP_MPY_wvf_snd.mp3\n"
     ]
    },
    {
     "name": "stderr",
     "output_type": "stream",
     "text": [
      "100%|███████████████████████████████████████████████████████████████████████████| 12130/12130 [00:22<00:00, 528.44it/s]\n"
     ]
    },
    {
     "name": "stdout",
     "output_type": "stream",
     "text": [
      "[MoviePy] Done.\n",
      "[MoviePy] Writing video F:/youtube/分析/1/133LDA建模.mp4\n"
     ]
    },
    {
     "name": "stderr",
     "output_type": "stream",
     "text": [
      "100%|███████████████████████████████████████████████████████████████████████████▉| 13751/13752 [03:15<00:00, 70.37it/s]\n"
     ]
    },
    {
     "name": "stdout",
     "output_type": "stream",
     "text": [
      "[MoviePy] Done.\n",
      "[MoviePy] >>>> Video ready: F:/youtube/分析/1/133LDA建模.mp4 \n",
      "\n",
      "https://www.youtube.com/watch?v=_dGArVBMHic&list=PLhXu26RzZZTwus4cNbPTcgXXH6oavT6EB&index=134\n",
      "[MoviePy] >>>> Building video F:/youtube/分析/1/134基於貝葉斯算法進行新聞分類.mp4\n",
      "[MoviePy] Writing audio in 134基於貝葉斯算法進行新聞分類TEMP_MPY_wvf_snd.mp3\n"
     ]
    },
    {
     "name": "stderr",
     "output_type": "stream",
     "text": [
      "100%|███████████████████████████████████████████████████████████████████████████| 19695/19695 [00:44<00:00, 440.01it/s]\n"
     ]
    },
    {
     "name": "stdout",
     "output_type": "stream",
     "text": [
      "[MoviePy] Done.\n",
      "[MoviePy] Writing video F:/youtube/分析/1/134基於貝葉斯算法進行新聞分類.mp4\n"
     ]
    },
    {
     "name": "stderr",
     "output_type": "stream",
     "text": [
      "100%|███████████████████████████████████████████████████████████████████████████▉| 22328/22329 [06:37<00:00, 56.23it/s]\n"
     ]
    },
    {
     "name": "stdout",
     "output_type": "stream",
     "text": [
      "[MoviePy] Done.\n",
      "[MoviePy] >>>> Video ready: F:/youtube/分析/1/134基於貝葉斯算法進行新聞分類.mp4 \n",
      "\n",
      "https://www.youtube.com/watch?v=YOJ9vtZ_oLY&list=PLhXu26RzZZTwus4cNbPTcgXXH6oavT6EB&index=135\n",
      "[MoviePy] >>>> Building video F:/youtube/分析/1/135章節簡介.mp4\n",
      "[MoviePy] Writing audio in 135章節簡介TEMP_MPY_wvf_snd.mp3\n"
     ]
    },
    {
     "name": "stderr",
     "output_type": "stream",
     "text": [
      "100%|█████████████████████████████████████████████████████████████████████████████| 1381/1381 [00:02<00:00, 489.79it/s]\n"
     ]
    },
    {
     "name": "stdout",
     "output_type": "stream",
     "text": [
      "[MoviePy] Done.\n",
      "[MoviePy] Writing video F:/youtube/分析/1/135章節簡介.mp4\n"
     ]
    },
    {
     "name": "stderr",
     "output_type": "stream",
     "text": [
      "100%|█████████████████████████████████████████████████████████████████████████████▉| 1564/1565 [00:16<00:00, 92.51it/s]\n"
     ]
    },
    {
     "name": "stdout",
     "output_type": "stream",
     "text": [
      "[MoviePy] Done.\n",
      "[MoviePy] >>>> Video ready: F:/youtube/分析/1/135章節簡介.mp4 \n",
      "\n",
      "https://www.youtube.com/watch?v=kyJGghus-BQ&list=PLhXu26RzZZTwus4cNbPTcgXXH6oavT6EB&index=136\n",
      "[MoviePy] >>>> Building video F:/youtube/分析/1/136Pandas生成時間序列.mp4\n",
      "[MoviePy] Writing audio in 136Pandas生成時間序列TEMP_MPY_wvf_snd.mp3\n"
     ]
    },
    {
     "name": "stderr",
     "output_type": "stream",
     "text": [
      "100%|███████████████████████████████████████████████████████████████████████████| 15170/15170 [00:28<00:00, 526.75it/s]\n"
     ]
    },
    {
     "name": "stdout",
     "output_type": "stream",
     "text": [
      "[MoviePy] Done.\n",
      "[MoviePy] Writing video F:/youtube/分析/1/136Pandas生成時間序列.mp4\n"
     ]
    },
    {
     "name": "stderr",
     "output_type": "stream",
     "text": [
      "100%|███████████████████████████████████████████████████████████████████████████▉| 17197/17198 [03:54<00:00, 73.35it/s]\n"
     ]
    },
    {
     "name": "stdout",
     "output_type": "stream",
     "text": [
      "[MoviePy] Done.\n",
      "[MoviePy] >>>> Video ready: F:/youtube/分析/1/136Pandas生成時間序列.mp4 \n",
      "\n",
      "https://www.youtube.com/watch?v=S9nQCTmR8s8&list=PLhXu26RzZZTwus4cNbPTcgXXH6oavT6EB&index=137\n",
      "[MoviePy] >>>> Building video F:/youtube/分析/1/137Pandas數據重採樣.mp4\n",
      "[MoviePy] Writing audio in 137Pandas數據重採樣TEMP_MPY_wvf_snd.mp3\n"
     ]
    },
    {
     "name": "stderr",
     "output_type": "stream",
     "text": [
      "100%|███████████████████████████████████████████████████████████████████████████| 12395/12395 [00:23<00:00, 521.40it/s]\n"
     ]
    },
    {
     "name": "stdout",
     "output_type": "stream",
     "text": [
      "[MoviePy] Done.\n",
      "[MoviePy] Writing video F:/youtube/分析/1/137Pandas數據重採樣.mp4\n"
     ]
    },
    {
     "name": "stderr",
     "output_type": "stream",
     "text": [
      "100%|███████████████████████████████████████████████████████████████████████████▉| 14052/14053 [03:41<00:00, 57.85it/s]\n"
     ]
    },
    {
     "name": "stdout",
     "output_type": "stream",
     "text": [
      "[MoviePy] Done.\n",
      "[MoviePy] >>>> Video ready: F:/youtube/分析/1/137Pandas數據重採樣.mp4 \n",
      "\n",
      "https://www.youtube.com/watch?v=erLJUbZQ8KU&list=PLhXu26RzZZTwus4cNbPTcgXXH6oavT6EB&index=138\n",
      "[MoviePy] >>>> Building video F:/youtube/分析/1/138Pandas滑動窗口.mp4\n",
      "[MoviePy] Writing audio in 138Pandas滑動窗口TEMP_MPY_wvf_snd.mp3\n"
     ]
    },
    {
     "name": "stderr",
     "output_type": "stream",
     "text": [
      "100%|███████████████████████████████████████████████████████████████████████████| 10302/10302 [00:22<00:00, 464.85it/s]\n"
     ]
    },
    {
     "name": "stdout",
     "output_type": "stream",
     "text": [
      "[MoviePy] Done.\n",
      "[MoviePy] Writing video F:/youtube/分析/1/138Pandas滑動窗口.mp4\n"
     ]
    },
    {
     "name": "stderr",
     "output_type": "stream",
     "text": [
      "100%|███████████████████████████████████████████████████████████████████████████▉| 11678/11679 [02:34<00:00, 75.59it/s]\n"
     ]
    },
    {
     "name": "stdout",
     "output_type": "stream",
     "text": [
      "[MoviePy] Done.\n",
      "[MoviePy] >>>> Video ready: F:/youtube/分析/1/138Pandas滑動窗口.mp4 \n",
      "\n",
      "https://www.youtube.com/watch?v=hwk56n4gNiE&list=PLhXu26RzZZTwus4cNbPTcgXXH6oavT6EB&index=139\n",
      "[MoviePy] >>>> Building video F:/youtube/分析/1/139數據平穩性與差分法.mp4\n",
      "[MoviePy] Writing audio in 139數據平穩性與差分法TEMP_MPY_wvf_snd.mp3\n"
     ]
    },
    {
     "name": "stderr",
     "output_type": "stream",
     "text": [
      "100%|███████████████████████████████████████████████████████████████████████████| 14774/14774 [00:30<00:00, 477.98it/s]\n"
     ]
    },
    {
     "name": "stdout",
     "output_type": "stream",
     "text": [
      "[MoviePy] Done.\n",
      "[MoviePy] Writing video F:/youtube/分析/1/139數據平穩性與差分法.mp4\n"
     ]
    },
    {
     "name": "stderr",
     "output_type": "stream",
     "text": [
      "100%|███████████████████████████████████████████████████████████████████████████▉| 16748/16749 [04:11<00:00, 66.47it/s]\n"
     ]
    },
    {
     "name": "stdout",
     "output_type": "stream",
     "text": [
      "[MoviePy] Done.\n",
      "[MoviePy] >>>> Video ready: F:/youtube/分析/1/139數據平穩性與差分法.mp4 \n",
      "\n",
      "https://www.youtube.com/watch?v=Ikg5G5oqZP4&list=PLhXu26RzZZTwus4cNbPTcgXXH6oavT6EB&index=140\n",
      "[MoviePy] >>>> Building video F:/youtube/分析/1/140ARIMA模型.mp4\n",
      "[MoviePy] Writing audio in 140ARIMA模型TEMP_MPY_wvf_snd.mp3\n"
     ]
    },
    {
     "name": "stderr",
     "output_type": "stream",
     "text": [
      "100%|███████████████████████████████████████████████████████████████████████████| 13979/13979 [00:29<00:00, 475.92it/s]\n"
     ]
    },
    {
     "name": "stdout",
     "output_type": "stream",
     "text": [
      "[MoviePy] Done.\n",
      "[MoviePy] Writing video F:/youtube/分析/1/140ARIMA模型.mp4\n"
     ]
    },
    {
     "name": "stderr",
     "output_type": "stream",
     "text": [
      "100%|███████████████████████████████████████████████████████████████████████████▉| 15847/15848 [03:19<00:00, 78.38it/s]\n"
     ]
    },
    {
     "name": "stdout",
     "output_type": "stream",
     "text": [
      "[MoviePy] Done.\n",
      "[MoviePy] >>>> Video ready: F:/youtube/分析/1/140ARIMA模型.mp4 \n",
      "\n",
      "https://www.youtube.com/watch?v=cHkTSYwR-Wg&list=PLhXu26RzZZTwus4cNbPTcgXXH6oavT6EB&index=141\n",
      "[MoviePy] >>>> Building video F:/youtube/分析/1/141相關函數評估方法.mp4\n",
      "[MoviePy] Writing audio in 141相關函數評估方法TEMP_MPY_wvf_snd.mp3\n"
     ]
    },
    {
     "name": "stderr",
     "output_type": "stream",
     "text": [
      "100%|███████████████████████████████████████████████████████████████████████████| 14255/14255 [00:29<00:00, 481.57it/s]\n"
     ]
    },
    {
     "name": "stdout",
     "output_type": "stream",
     "text": [
      "[MoviePy] Done.\n",
      "[MoviePy] Writing video F:/youtube/分析/1/141相關函數評估方法.mp4\n"
     ]
    },
    {
     "name": "stderr",
     "output_type": "stream",
     "text": [
      "100%|███████████████████████████████████████████████████████████████████████████▉| 16160/16161 [02:56<00:00, 91.54it/s]\n"
     ]
    },
    {
     "name": "stdout",
     "output_type": "stream",
     "text": [
      "[MoviePy] Done.\n",
      "[MoviePy] >>>> Video ready: F:/youtube/分析/1/141相關函數評估方法.mp4 \n",
      "\n",
      "https://www.youtube.com/watch?v=LhZx00wh6hA&list=PLhXu26RzZZTwus4cNbPTcgXXH6oavT6EB&index=142\n",
      "[MoviePy] >>>> Building video F:/youtube/分析/1/142建立ARIMA模型.mp4\n",
      "[MoviePy] Writing audio in 142建立ARIMA模型TEMP_MPY_wvf_snd.mp3\n"
     ]
    },
    {
     "name": "stderr",
     "output_type": "stream",
     "text": [
      "100%|███████████████████████████████████████████████████████████████████████████| 10328/10328 [00:20<00:00, 498.37it/s]\n"
     ]
    },
    {
     "name": "stdout",
     "output_type": "stream",
     "text": [
      "[MoviePy] Done.\n",
      "[MoviePy] Writing video F:/youtube/分析/1/142建立ARIMA模型.mp4\n"
     ]
    },
    {
     "name": "stderr",
     "output_type": "stream",
     "text": [
      "100%|███████████████████████████████████████████████████████████████████████████▉| 11707/11708 [02:10<00:00, 89.78it/s]\n"
     ]
    },
    {
     "name": "stdout",
     "output_type": "stream",
     "text": [
      "[MoviePy] Done.\n",
      "[MoviePy] >>>> Video ready: F:/youtube/分析/1/142建立ARIMA模型.mp4 \n",
      "\n",
      "https://www.youtube.com/watch?v=CXJsfsSC2y0&list=PLhXu26RzZZTwus4cNbPTcgXXH6oavT6EB&index=143\n",
      "[MoviePy] >>>> Building video F:/youtube/分析/1/143參數選擇.mp4\n",
      "[MoviePy] Writing audio in 143參數選擇TEMP_MPY_wvf_snd.mp3\n"
     ]
    },
    {
     "name": "stderr",
     "output_type": "stream",
     "text": [
      "100%|███████████████████████████████████████████████████████████████████████████| 16770/16770 [00:32<00:00, 508.23it/s]\n"
     ]
    },
    {
     "name": "stdout",
     "output_type": "stream",
     "text": [
      "[MoviePy] Done.\n",
      "[MoviePy] Writing video F:/youtube/分析/1/143參數選擇.mp4\n"
     ]
    },
    {
     "name": "stderr",
     "output_type": "stream",
     "text": [
      "100%|███████████████████████████████████████████████████████████████████████████▉| 19011/19012 [03:39<00:00, 86.49it/s]\n"
     ]
    },
    {
     "name": "stdout",
     "output_type": "stream",
     "text": [
      "[MoviePy] Done.\n",
      "[MoviePy] >>>> Video ready: F:/youtube/分析/1/143參數選擇.mp4 \n",
      "\n",
      "https://www.youtube.com/watch?v=PgyZVAFM4vc&list=PLhXu26RzZZTwus4cNbPTcgXXH6oavT6EB&index=144\n",
      "[MoviePy] >>>> Building video F:/youtube/分析/1/144股票預測案例.mp4\n",
      "[MoviePy] Writing audio in 144股票預測案例TEMP_MPY_wvf_snd.mp3\n"
     ]
    },
    {
     "name": "stderr",
     "output_type": "stream",
     "text": [
      "100%|███████████████████████████████████████████████████████████████████████████| 13168/13168 [00:26<00:00, 502.51it/s]\n"
     ]
    },
    {
     "name": "stdout",
     "output_type": "stream",
     "text": [
      "[MoviePy] Done.\n",
      "[MoviePy] Writing video F:/youtube/分析/1/144股票預測案例.mp4\n"
     ]
    },
    {
     "name": "stderr",
     "output_type": "stream",
     "text": [
      "100%|███████████████████████████████████████████████████████████████████████████▉| 14928/14929 [03:17<00:00, 75.69it/s]\n"
     ]
    },
    {
     "name": "stdout",
     "output_type": "stream",
     "text": [
      "[MoviePy] Done.\n",
      "[MoviePy] >>>> Video ready: F:/youtube/分析/1/144股票預測案例.mp4 \n",
      "\n",
      "https://www.youtube.com/watch?v=SpMORY68ZYs&list=PLhXu26RzZZTwus4cNbPTcgXXH6oavT6EB&index=145\n",
      "[MoviePy] >>>> Building video F:/youtube/分析/1/145使用tsfresh庫進行分類任務.mp4\n",
      "[MoviePy] Writing audio in 145使用tsfresh庫進行分類任務TEMP_MPY_wvf_snd.mp3\n"
     ]
    },
    {
     "name": "stderr",
     "output_type": "stream",
     "text": [
      "100%|███████████████████████████████████████████████████████████████████████████| 15957/15957 [00:32<00:00, 493.13it/s]\n"
     ]
    },
    {
     "name": "stdout",
     "output_type": "stream",
     "text": [
      "[MoviePy] Done.\n",
      "[MoviePy] Writing video F:/youtube/分析/1/145使用tsfresh庫進行分類任務.mp4\n"
     ]
    },
    {
     "name": "stderr",
     "output_type": "stream",
     "text": [
      "100%|███████████████████████████████████████████████████████████████████████████▉| 18089/18090 [04:28<00:00, 67.46it/s]\n"
     ]
    },
    {
     "name": "stdout",
     "output_type": "stream",
     "text": [
      "[MoviePy] Done.\n",
      "[MoviePy] >>>> Video ready: F:/youtube/分析/1/145使用tsfresh庫進行分類任務.mp4 \n",
      "\n",
      "https://www.youtube.com/watch?v=NbOJR-hv-6Y&list=PLhXu26RzZZTwus4cNbPTcgXXH6oavT6EB&index=146\n",
      "[MoviePy] >>>> Building video F:/youtube/分析/1/146維基百科詞條EDA.mp4\n",
      "[MoviePy] Writing audio in 146維基百科詞條EDATEMP_MPY_wvf_snd.mp3\n"
     ]
    },
    {
     "name": "stderr",
     "output_type": "stream",
     "text": [
      "100%|███████████████████████████████████████████████████████████████████████████| 19184/19184 [00:36<00:00, 518.89it/s]\n"
     ]
    },
    {
     "name": "stdout",
     "output_type": "stream",
     "text": [
      "[MoviePy] Done.\n",
      "[MoviePy] Writing video F:/youtube/分析/1/146維基百科詞條EDA.mp4\n"
     ]
    },
    {
     "name": "stderr",
     "output_type": "stream",
     "text": [
      "100%|███████████████████████████████████████████████████████████████████████████▉| 21748/21749 [05:01<00:00, 72.17it/s]\n"
     ]
    },
    {
     "name": "stdout",
     "output_type": "stream",
     "text": [
      "[MoviePy] Done.\n",
      "[MoviePy] >>>> Video ready: F:/youtube/分析/1/146維基百科詞條EDA.mp4 \n",
      "\n",
      "https://www.youtube.com/watch?v=QuEyYCAuf2w&list=PLhXu26RzZZTwus4cNbPTcgXXH6oavT6EB&index=147\n",
      "[MoviePy] >>>> Building video F:/youtube/分析/1/147使用Gensim庫構造詞向量.mp4\n",
      "[MoviePy] Writing audio in 147使用Gensim庫構造詞向量TEMP_MPY_wvf_snd.mp3\n"
     ]
    },
    {
     "name": "stderr",
     "output_type": "stream",
     "text": [
      "100%|█████████████████████████████████████████████████████████████████████████████| 8419/8419 [00:16<00:00, 505.06it/s]\n"
     ]
    },
    {
     "name": "stdout",
     "output_type": "stream",
     "text": [
      "[MoviePy] Done.\n",
      "[MoviePy] Writing video F:/youtube/分析/1/147使用Gensim庫構造詞向量.mp4\n"
     ]
    },
    {
     "name": "stderr",
     "output_type": "stream",
     "text": [
      "100%|█████████████████████████████████████████████████████████████████████████████▉| 9543/9544 [02:07<00:00, 74.63it/s]\n"
     ]
    },
    {
     "name": "stdout",
     "output_type": "stream",
     "text": [
      "[MoviePy] Done.\n",
      "[MoviePy] >>>> Video ready: F:/youtube/分析/1/147使用Gensim庫構造詞向量.mp4 \n",
      "\n",
      "https://www.youtube.com/watch?v=hGOhA1eDtuU&list=PLhXu26RzZZTwus4cNbPTcgXXH6oavT6EB&index=148\n",
      "[MoviePy] >>>> Building video F:/youtube/分析/1/148維基百科中文數據處理.mp4\n",
      "[MoviePy] Writing audio in 148維基百科中文數據處理TEMP_MPY_wvf_snd.mp3\n"
     ]
    },
    {
     "name": "stderr",
     "output_type": "stream",
     "text": [
      "100%|███████████████████████████████████████████████████████████████████████████| 13823/13823 [00:27<00:00, 509.01it/s]\n"
     ]
    },
    {
     "name": "stdout",
     "output_type": "stream",
     "text": [
      "[MoviePy] Done.\n",
      "[MoviePy] Writing video F:/youtube/分析/1/148維基百科中文數據處理.mp4\n"
     ]
    },
    {
     "name": "stderr",
     "output_type": "stream",
     "text": [
      "100%|████████████████████████████████████████████████████████████████████████████| 15670/15670 [03:23<00:00, 77.14it/s]\n"
     ]
    },
    {
     "name": "stdout",
     "output_type": "stream",
     "text": [
      "[MoviePy] Done.\n",
      "[MoviePy] >>>> Video ready: F:/youtube/分析/1/148維基百科中文數據處理.mp4 \n",
      "\n",
      "https://www.youtube.com/watch?v=3vlm-nPIDhk&list=PLhXu26RzZZTwus4cNbPTcgXXH6oavT6EB&index=149\n",
      "[MoviePy] >>>> Building video F:/youtube/分析/1/149Gensim構造word2vec模型.mp4\n",
      "[MoviePy] Writing audio in 149Gensim構造word2vec模型TEMP_MPY_wvf_snd.mp3\n"
     ]
    },
    {
     "name": "stderr",
     "output_type": "stream",
     "text": [
      "100%|███████████████████████████████████████████████████████████████████████████| 11731/11731 [00:23<00:00, 507.13it/s]\n"
     ]
    },
    {
     "name": "stdout",
     "output_type": "stream",
     "text": [
      "[MoviePy] Done.\n",
      "[MoviePy] Writing video F:/youtube/分析/1/149Gensim構造word2vec模型.mp4\n"
     ]
    },
    {
     "name": "stderr",
     "output_type": "stream",
     "text": [
      "100%|████████████████████████████████████████████████████████████████████████████| 13298/13298 [02:48<00:00, 79.00it/s]\n"
     ]
    },
    {
     "name": "stdout",
     "output_type": "stream",
     "text": [
      "[MoviePy] Done.\n",
      "[MoviePy] >>>> Video ready: F:/youtube/分析/1/149Gensim構造word2vec模型.mp4 \n",
      "\n",
      "https://www.youtube.com/watch?v=6d_FVmPuTdI&list=PLhXu26RzZZTwus4cNbPTcgXXH6oavT6EB&index=150\n",
      "[MoviePy] >>>> Building video F:/youtube/分析/1/150測試模型相似度結果.mp4\n",
      "[MoviePy] Writing audio in 150測試模型相似度結果TEMP_MPY_wvf_snd.mp3\n"
     ]
    },
    {
     "name": "stderr",
     "output_type": "stream",
     "text": [
      "100%|███████████████████████████████████████████████████████████████████████████| 10201/10201 [00:20<00:00, 500.69it/s]\n"
     ]
    },
    {
     "name": "stdout",
     "output_type": "stream",
     "text": [
      "[MoviePy] Done.\n",
      "[MoviePy] Writing video F:/youtube/分析/1/150測試模型相似度結果.mp4\n"
     ]
    },
    {
     "name": "stderr",
     "output_type": "stream",
     "text": [
      "100%|███████████████████████████████████████████████████████████████████████████▉| 11563/11564 [02:32<00:00, 73.17it/s]\n"
     ]
    },
    {
     "name": "stdout",
     "output_type": "stream",
     "text": [
      "[MoviePy] Done.\n",
      "[MoviePy] >>>> Video ready: F:/youtube/分析/1/150測試模型相似度結果.mp4 \n",
      "\n",
      "https://www.youtube.com/watch?v=2So_hZ0IzjA&list=PLhXu26RzZZTwus4cNbPTcgXXH6oavT6EB&index=151\n",
      "[MoviePy] >>>> Building video F:/youtube/分析/1/151數據清洗過濾無用特征.mp4\n",
      "[MoviePy] Writing audio in 151數據清洗過濾無用特征TEMP_MPY_wvf_snd.mp3\n"
     ]
    },
    {
     "name": "stderr",
     "output_type": "stream",
     "text": [
      "100%|███████████████████████████████████████████████████████████████████████████| 16047/16047 [00:33<00:00, 485.14it/s]\n"
     ]
    },
    {
     "name": "stdout",
     "output_type": "stream",
     "text": [
      "[MoviePy] Done.\n",
      "[MoviePy] Writing video F:/youtube/分析/1/151數據清洗過濾無用特征.mp4\n"
     ]
    },
    {
     "name": "stderr",
     "output_type": "stream",
     "text": [
      "100%|███████████████████████████████████████████████████████████████████████████▉| 18192/18193 [04:13<00:00, 71.70it/s]\n"
     ]
    },
    {
     "name": "stdout",
     "output_type": "stream",
     "text": [
      "[MoviePy] Done.\n",
      "[MoviePy] >>>> Video ready: F:/youtube/分析/1/151數據清洗過濾無用特征.mp4 \n",
      "\n",
      "https://www.youtube.com/watch?v=nH06YdjQ-9I&list=PLhXu26RzZZTwus4cNbPTcgXXH6oavT6EB&index=152\n",
      "[MoviePy] >>>> Building video F:/youtube/分析/1/152數據預處理.mp4\n",
      "[MoviePy] Writing audio in 152數據預處理TEMP_MPY_wvf_snd.mp3\n"
     ]
    },
    {
     "name": "stderr",
     "output_type": "stream",
     "text": [
      "100%|███████████████████████████████████████████████████████████████████████████| 13499/13499 [00:27<00:00, 493.21it/s]\n"
     ]
    },
    {
     "name": "stdout",
     "output_type": "stream",
     "text": [
      "[MoviePy] Done.\n",
      "[MoviePy] Writing video F:/youtube/分析/1/152數據預處理.mp4\n"
     ]
    },
    {
     "name": "stderr",
     "output_type": "stream",
     "text": [
      "100%|███████████████████████████████████████████████████████████████████████████▉| 15303/15304 [03:39<00:00, 69.83it/s]\n"
     ]
    },
    {
     "name": "stdout",
     "output_type": "stream",
     "text": [
      "[MoviePy] Done.\n",
      "[MoviePy] >>>> Video ready: F:/youtube/分析/1/152數據預處理.mp4 \n",
      "\n",
      "https://www.youtube.com/watch?v=Z4ABer_P2hE&list=PLhXu26RzZZTwus4cNbPTcgXXH6oavT6EB&index=153\n",
      "[MoviePy] >>>> Building video F:/youtube/分析/1/153獲得最大利潤的條件與做法.mp4\n",
      "[MoviePy] Writing audio in 153獲得最大利潤的條件與做法TEMP_MPY_wvf_snd.mp3\n"
     ]
    },
    {
     "name": "stderr",
     "output_type": "stream",
     "text": [
      "100%|███████████████████████████████████████████████████████████████████████████| 17764/17764 [00:37<00:00, 473.01it/s]\n"
     ]
    },
    {
     "name": "stdout",
     "output_type": "stream",
     "text": [
      "[MoviePy] Done.\n",
      "[MoviePy] Writing video F:/youtube/分析/1/153獲得最大利潤的條件與做法.mp4\n"
     ]
    },
    {
     "name": "stderr",
     "output_type": "stream",
     "text": [
      "100%|███████████████████████████████████████████████████████████████████████████▉| 20138/20139 [04:11<00:00, 80.09it/s]\n"
     ]
    },
    {
     "name": "stdout",
     "output_type": "stream",
     "text": [
      "[MoviePy] Done.\n",
      "[MoviePy] >>>> Video ready: F:/youtube/分析/1/153獲得最大利潤的條件與做法.mp4 \n",
      "\n",
      "https://www.youtube.com/watch?v=np6cRPJuhGo&list=PLhXu26RzZZTwus4cNbPTcgXXH6oavT6EB&index=154\n",
      "[MoviePy] >>>> Building video F:/youtube/分析/1/154預測結果並解決樣本不均衡問題.mp4\n",
      "[MoviePy] Writing audio in 154預測結果並解決樣本不均衡問題TEMP_MPY_wvf_snd.mp3\n"
     ]
    },
    {
     "name": "stderr",
     "output_type": "stream",
     "text": [
      "100%|███████████████████████████████████████████████████████████████████████████| 16915/16915 [00:32<00:00, 517.52it/s]\n"
     ]
    },
    {
     "name": "stdout",
     "output_type": "stream",
     "text": [
      "[MoviePy] Done.\n",
      "[MoviePy] Writing video F:/youtube/分析/1/154預測結果並解決樣本不均衡問題.mp4\n"
     ]
    },
    {
     "name": "stderr",
     "output_type": "stream",
     "text": [
      "100%|███████████████████████████████████████████████████████████████████████████▉| 19176/19177 [03:55<00:00, 81.48it/s]\n"
     ]
    },
    {
     "name": "stdout",
     "output_type": "stream",
     "text": [
      "[MoviePy] Done.\n",
      "[MoviePy] >>>> Video ready: F:/youtube/分析/1/154預測結果並解決樣本不均衡問題.mp4 \n",
      "\n",
      "https://www.youtube.com/watch?v=bl2Y3zeG8CE&list=PLhXu26RzZZTwus4cNbPTcgXXH6oavT6EB&index=155\n",
      "[MoviePy] >>>> Building video F:/youtube/分析/1/155數據背景介紹.mp4\n",
      "[MoviePy] Writing audio in 155數據背景介紹TEMP_MPY_wvf_snd.mp3\n"
     ]
    },
    {
     "name": "stderr",
     "output_type": "stream",
     "text": [
      "100%|█████████████████████████████████████████████████████████████████████████████| 8719/8719 [00:16<00:00, 526.07it/s]\n"
     ]
    },
    {
     "name": "stdout",
     "output_type": "stream",
     "text": [
      "[MoviePy] Done.\n",
      "[MoviePy] Writing video F:/youtube/分析/1/155數據背景介紹.mp4\n"
     ]
    },
    {
     "name": "stderr",
     "output_type": "stream",
     "text": [
      "100%|█████████████████████████████████████████████████████████████████████████████▉| 9883/9884 [02:40<00:00, 61.50it/s]\n"
     ]
    },
    {
     "name": "stdout",
     "output_type": "stream",
     "text": [
      "[MoviePy] Done.\n",
      "[MoviePy] >>>> Video ready: F:/youtube/分析/1/155數據背景介紹.mp4 \n",
      "\n",
      "https://www.youtube.com/watch?v=-MNUyLgD9hQ&list=PLhXu26RzZZTwus4cNbPTcgXXH6oavT6EB&index=156\n",
      "[MoviePy] >>>> Building video F:/youtube/分析/1/156數據預處理.mp4\n",
      "[MoviePy] Writing audio in 156數據預處理TEMP_MPY_wvf_snd.mp3\n"
     ]
    },
    {
     "name": "stderr",
     "output_type": "stream",
     "text": [
      "100%|███████████████████████████████████████████████████████████████████████████| 13340/13340 [00:23<00:00, 557.67it/s]\n"
     ]
    },
    {
     "name": "stdout",
     "output_type": "stream",
     "text": [
      "[MoviePy] Done.\n",
      "[MoviePy] Writing video F:/youtube/分析/1/156數據預處理.mp4\n"
     ]
    },
    {
     "name": "stderr",
     "output_type": "stream",
     "text": [
      "100%|████████████████████████████████████████████████████████████████████████████| 15123/15123 [03:16<00:00, 76.88it/s]\n"
     ]
    },
    {
     "name": "stdout",
     "output_type": "stream",
     "text": [
      "[MoviePy] Done.\n",
      "[MoviePy] >>>> Video ready: F:/youtube/分析/1/156數據預處理.mp4 \n",
      "\n",
      "https://www.youtube.com/watch?v=z5aiF20WgXA&list=PLhXu26RzZZTwus4cNbPTcgXXH6oavT6EB&index=157\n",
      "[MoviePy] >>>> Building video F:/youtube/分析/1/157嘗試多種分類器效果.mp4\n",
      "[MoviePy] Writing audio in 157嘗試多種分類器效果TEMP_MPY_wvf_snd.mp3\n"
     ]
    },
    {
     "name": "stderr",
     "output_type": "stream",
     "text": [
      "100%|███████████████████████████████████████████████████████████████████████████| 11296/11296 [00:20<00:00, 559.21it/s]\n"
     ]
    },
    {
     "name": "stdout",
     "output_type": "stream",
     "text": [
      "[MoviePy] Done.\n",
      "[MoviePy] Writing video F:/youtube/分析/1/157嘗試多種分類器效果.mp4\n"
     ]
    },
    {
     "name": "stderr",
     "output_type": "stream",
     "text": [
      "100%|███████████████████████████████████████████████████████████████████████████▉| 12805/12806 [02:32<00:00, 83.83it/s]\n"
     ]
    },
    {
     "name": "stdout",
     "output_type": "stream",
     "text": [
      "[MoviePy] Done.\n",
      "[MoviePy] >>>> Video ready: F:/youtube/分析/1/157嘗試多種分類器效果.mp4 \n",
      "\n",
      "https://www.youtube.com/watch?v=6uRfMw4LlNk&list=PLhXu26RzZZTwus4cNbPTcgXXH6oavT6EB&index=158\n",
      "[MoviePy] >>>> Building video F:/youtube/分析/1/158結果衡量指標的意義.mp4\n",
      "[MoviePy] Writing audio in 158結果衡量指標的意義TEMP_MPY_wvf_snd.mp3\n"
     ]
    },
    {
     "name": "stderr",
     "output_type": "stream",
     "text": [
      "100%|███████████████████████████████████████████████████████████████████████████| 26245/26245 [00:46<00:00, 564.89it/s]\n"
     ]
    },
    {
     "name": "stdout",
     "output_type": "stream",
     "text": [
      "[MoviePy] Done.\n",
      "[MoviePy] Writing video F:/youtube/分析/1/158結果衡量指標的意義.mp4\n"
     ]
    },
    {
     "name": "stderr",
     "output_type": "stream",
     "text": [
      "100%|███████████████████████████████████████████████████████████████████████████▉| 29754/29755 [05:40<00:00, 87.45it/s]\n"
     ]
    },
    {
     "name": "stdout",
     "output_type": "stream",
     "text": [
      "[MoviePy] Done.\n",
      "[MoviePy] >>>> Video ready: F:/youtube/分析/1/158結果衡量指標的意義.mp4 \n",
      "\n",
      "https://www.youtube.com/watch?v=_xRxwZRON4g&list=PLhXu26RzZZTwus4cNbPTcgXXH6oavT6EB&index=159\n",
      "[MoviePy] >>>> Building video F:/youtube/分析/1/159應用閾值得出結果.mp4\n",
      "[MoviePy] Writing audio in 159應用閾值得出結果TEMP_MPY_wvf_snd.mp3\n"
     ]
    },
    {
     "name": "stderr",
     "output_type": "stream",
     "text": [
      "100%|█████████████████████████████████████████████████████████████████████████████| 8525/8525 [00:15<00:00, 556.12it/s]\n"
     ]
    },
    {
     "name": "stdout",
     "output_type": "stream",
     "text": [
      "[MoviePy] Done.\n",
      "[MoviePy] Writing video F:/youtube/分析/1/159應用閾值得出結果.mp4\n"
     ]
    },
    {
     "name": "stderr",
     "output_type": "stream",
     "text": [
      "100%|█████████████████████████████████████████████████████████████████████████████▉| 9663/9664 [01:56<00:00, 94.25it/s]\n"
     ]
    },
    {
     "name": "stdout",
     "output_type": "stream",
     "text": [
      "[MoviePy] Done.\n",
      "[MoviePy] >>>> Video ready: F:/youtube/分析/1/159應用閾值得出結果.mp4 \n",
      "\n",
      "https://www.youtube.com/watch?v=5GY_lBnXo8g&list=PLhXu26RzZZTwus4cNbPTcgXXH6oavT6EB&index=160\n",
      "[MoviePy] >>>> Building video F:/youtube/分析/1/160內容簡介.mp4\n",
      "[MoviePy] Writing audio in 160內容簡介TEMP_MPY_wvf_snd.mp3\n"
     ]
    },
    {
     "name": "stderr",
     "output_type": "stream",
     "text": [
      "100%|█████████████████████████████████████████████████████████████████████████████| 2939/2939 [00:05<00:00, 508.49it/s]\n"
     ]
    },
    {
     "name": "stdout",
     "output_type": "stream",
     "text": [
      "[MoviePy] Done.\n",
      "[MoviePy] Writing video F:/youtube/分析/1/160內容簡介.mp4\n"
     ]
    },
    {
     "name": "stderr",
     "output_type": "stream",
     "text": [
      "100%|██████████████████████████████████████████████████████████████████████████████| 3330/3330 [00:40<00:00, 81.95it/s]\n"
     ]
    },
    {
     "name": "stdout",
     "output_type": "stream",
     "text": [
      "[MoviePy] Done.\n",
      "[MoviePy] >>>> Video ready: F:/youtube/分析/1/160內容簡介.mp4 \n",
      "\n",
      "https://www.youtube.com/watch?v=YAmGg3A0EQ0&list=PLhXu26RzZZTwus4cNbPTcgXXH6oavT6EB&index=161\n",
      "[MoviePy] >>>> Building video F:/youtube/分析/1/161數據背景介紹.mp4\n",
      "[MoviePy] Writing audio in 161數據背景介紹TEMP_MPY_wvf_snd.mp3\n"
     ]
    },
    {
     "name": "stderr",
     "output_type": "stream",
     "text": [
      "100%|███████████████████████████████████████████████████████████████████████████| 13899/13899 [00:27<00:00, 504.84it/s]\n"
     ]
    },
    {
     "name": "stdout",
     "output_type": "stream",
     "text": [
      "[MoviePy] Done.\n",
      "[MoviePy] Writing video F:/youtube/分析/1/161數據背景介紹.mp4\n"
     ]
    },
    {
     "name": "stderr",
     "output_type": "stream",
     "text": [
      "100%|███████████████████████████████████████████████████████████████████████████▉| 15757/15758 [03:34<00:00, 73.57it/s]\n"
     ]
    },
    {
     "name": "stdout",
     "output_type": "stream",
     "text": [
      "[MoviePy] Done.\n",
      "[MoviePy] >>>> Video ready: F:/youtube/分析/1/161數據背景介紹.mp4 \n",
      "\n",
      "https://www.youtube.com/watch?v=Mqdn4zfrhQM&list=PLhXu26RzZZTwus4cNbPTcgXXH6oavT6EB&index=162\n",
      "[MoviePy] >>>> Building video F:/youtube/分析/1/162數據讀取與預處理.mp4\n",
      "[MoviePy] Writing audio in 162數據讀取與預處理TEMP_MPY_wvf_snd.mp3\n"
     ]
    },
    {
     "name": "stderr",
     "output_type": "stream",
     "text": [
      "100%|███████████████████████████████████████████████████████████████████████████| 17397/17397 [00:48<00:00, 361.31it/s]\n"
     ]
    },
    {
     "name": "stdout",
     "output_type": "stream",
     "text": [
      "[MoviePy] Done.\n",
      "[MoviePy] Writing video F:/youtube/分析/1/162數據讀取與預處理.mp4\n"
     ]
    },
    {
     "name": "stderr",
     "output_type": "stream",
     "text": [
      "100%|███████████████████████████████████████████████████████████████████████████▉| 19723/19724 [05:01<00:00, 65.31it/s]\n"
     ]
    },
    {
     "name": "stdout",
     "output_type": "stream",
     "text": [
      "[MoviePy] Done.\n",
      "[MoviePy] >>>> Video ready: F:/youtube/分析/1/162數據讀取與預處理.mp4 \n",
      "\n",
      "https://www.youtube.com/watch?v=iq0h-IsA3W8&list=PLhXu26RzZZTwus4cNbPTcgXXH6oavT6EB&index=163\n",
      "[MoviePy] >>>> Building video F:/youtube/分析/1/163數據切分模塊.mp4\n",
      "[MoviePy] Writing audio in 163數據切分模塊TEMP_MPY_wvf_snd.mp3\n"
     ]
    },
    {
     "name": "stderr",
     "output_type": "stream",
     "text": [
      "100%|███████████████████████████████████████████████████████████████████████████| 19461/19461 [00:39<00:00, 491.50it/s]\n"
     ]
    },
    {
     "name": "stdout",
     "output_type": "stream",
     "text": [
      "[MoviePy] Done.\n",
      "[MoviePy] Writing video F:/youtube/分析/1/163數據切分模塊.mp4\n"
     ]
    },
    {
     "name": "stderr",
     "output_type": "stream",
     "text": [
      "100%|███████████████████████████████████████████████████████████████████████████▉| 22062/22063 [05:11<00:00, 70.77it/s]\n"
     ]
    },
    {
     "name": "stdout",
     "output_type": "stream",
     "text": [
      "[MoviePy] Done.\n",
      "[MoviePy] >>>> Video ready: F:/youtube/分析/1/163數據切分模塊.mp4 \n",
      "\n",
      "https://www.youtube.com/watch?v=fiv8fKMvg7o&list=PLhXu26RzZZTwus4cNbPTcgXXH6oavT6EB&index=164\n",
      "[MoviePy] >>>> Building video F:/youtube/分析/1/164缺失值可視化分析.mp4\n",
      "[MoviePy] Writing audio in 164缺失值可視化分析TEMP_MPY_wvf_snd.mp3\n"
     ]
    },
    {
     "name": "stderr",
     "output_type": "stream",
     "text": [
      "100%|███████████████████████████████████████████████████████████████████████████| 17799/17799 [00:35<00:00, 506.32it/s]\n"
     ]
    },
    {
     "name": "stdout",
     "output_type": "stream",
     "text": [
      "[MoviePy] Done.\n",
      "[MoviePy] Writing video F:/youtube/分析/1/164缺失值可視化分析.mp4\n"
     ]
    },
    {
     "name": "stderr",
     "output_type": "stream",
     "text": [
      "100%|███████████████████████████████████████████████████████████████████████████▉| 20178/20179 [04:50<00:00, 69.34it/s]\n"
     ]
    },
    {
     "name": "stdout",
     "output_type": "stream",
     "text": [
      "[MoviePy] Done.\n",
      "[MoviePy] >>>> Video ready: F:/youtube/分析/1/164缺失值可視化分析.mp4 \n",
      "\n",
      "https://www.youtube.com/watch?v=zfre4C8LrMg&list=PLhXu26RzZZTwus4cNbPTcgXXH6oavT6EB&index=165\n",
      "[MoviePy] >>>> Building video F:/youtube/分析/1/165特征可視化展示.mp4\n",
      "[MoviePy] Writing audio in 165特征可視化展示TEMP_MPY_wvf_snd.mp3\n"
     ]
    },
    {
     "name": "stderr",
     "output_type": "stream",
     "text": [
      "100%|███████████████████████████████████████████████████████████████████████████| 16391/16391 [00:31<00:00, 519.75it/s]\n"
     ]
    },
    {
     "name": "stdout",
     "output_type": "stream",
     "text": [
      "[MoviePy] Done.\n",
      "[MoviePy] Writing video F:/youtube/分析/1/165特征可視化展示.mp4\n"
     ]
    },
    {
     "name": "stderr",
     "output_type": "stream",
     "text": [
      "100%|███████████████████████████████████████████████████████████████████████████▉| 18582/18583 [04:02<00:00, 76.56it/s]\n"
     ]
    },
    {
     "name": "stdout",
     "output_type": "stream",
     "text": [
      "[MoviePy] Done.\n",
      "[MoviePy] >>>> Video ready: F:/youtube/分析/1/165特征可視化展示.mp4 \n",
      "\n",
      "https://www.youtube.com/watch?v=AR1L8tfLu4w&list=PLhXu26RzZZTwus4cNbPTcgXXH6oavT6EB&index=166\n",
      "[MoviePy] >>>> Building video F:/youtube/分析/1/166多特征之間關係分析.mp4\n",
      "[MoviePy] Writing audio in 166多特征之間關係分析TEMP_MPY_wvf_snd.mp3\n"
     ]
    },
    {
     "name": "stderr",
     "output_type": "stream",
     "text": [
      "100%|███████████████████████████████████████████████████████████████████████████| 15026/15026 [00:28<00:00, 526.01it/s]\n"
     ]
    },
    {
     "name": "stdout",
     "output_type": "stream",
     "text": [
      "[MoviePy] Done.\n",
      "[MoviePy] Writing video F:/youtube/分析/1/166多特征之間關係分析.mp4\n"
     ]
    },
    {
     "name": "stderr",
     "output_type": "stream",
     "text": [
      "100%|███████████████████████████████████████████████████████████████████████████▉| 17034/17035 [04:28<00:00, 69.45it/s]\n"
     ]
    },
    {
     "name": "stdout",
     "output_type": "stream",
     "text": [
      "[MoviePy] Done.\n",
      "[MoviePy] >>>> Video ready: F:/youtube/分析/1/166多特征之間關係分析.mp4 \n",
      "\n",
      "https://www.youtube.com/watch?v=XC-MDYlHdU0&list=PLhXu26RzZZTwus4cNbPTcgXXH6oavT6EB&index=167\n",
      "167\n",
      "[MoviePy] >>>> Building video F:/youtube/分析/1/167報表可視化分析.mp4\n",
      "[MoviePy] Writing audio in 167報表可視化分析TEMP_MPY_wvf_snd.mp3\n"
     ]
    },
    {
     "name": "stderr",
     "output_type": "stream",
     "text": [
      "100%|███████████████████████████████████████████████████████████████████████████| 14061/14061 [00:28<00:00, 494.87it/s]\n"
     ]
    },
    {
     "name": "stdout",
     "output_type": "stream",
     "text": [
      "[MoviePy] Done.\n",
      "[MoviePy] Writing video F:/youtube/分析/1/167報表可視化分析.mp4\n"
     ]
    },
    {
     "name": "stderr",
     "output_type": "stream",
     "text": [
      "100%|███████████████████████████████████████████████████████████████████████████▉| 15940/15941 [03:30<00:00, 75.57it/s]\n"
     ]
    },
    {
     "name": "stdout",
     "output_type": "stream",
     "text": [
      "[MoviePy] Done.\n",
      "[MoviePy] >>>> Video ready: F:/youtube/分析/1/167報表可視化分析.mp4 \n",
      "\n",
      "https://www.youtube.com/watch?v=VKSFsILSOb0&list=PLhXu26RzZZTwus4cNbPTcgXXH6oavT6EB&index=168\n",
      "[MoviePy] >>>> Building video F:/youtube/分析/1/168紅牌和膚色的關係.mp4\n",
      "[MoviePy] Writing audio in 168紅牌和膚色的關係TEMP_MPY_wvf_snd.mp3\n"
     ]
    },
    {
     "name": "stderr",
     "output_type": "stream",
     "text": [
      "100%|███████████████████████████████████████████████████████████████████████████| 22845/22845 [00:46<00:00, 493.34it/s]\n"
     ]
    },
    {
     "name": "stdout",
     "output_type": "stream",
     "text": [
      "[MoviePy] Done.\n",
      "[MoviePy] Writing video F:/youtube/分析/1/168紅牌和膚色的關係.mp4\n"
     ]
    },
    {
     "name": "stderr",
     "output_type": "stream",
     "text": [
      "100%|███████████████████████████████████████████████████████████████████████████▉| 25900/25901 [06:02<00:00, 71.35it/s]\n"
     ]
    },
    {
     "name": "stdout",
     "output_type": "stream",
     "text": [
      "[MoviePy] Done.\n",
      "[MoviePy] >>>> Video ready: F:/youtube/分析/1/168紅牌和膚色的關係.mp4 \n",
      "\n",
      "https://www.youtube.com/watch?v=ShJA7ivZn_Y&list=PLhXu26RzZZTwus4cNbPTcgXXH6oavT6EB&index=169\n",
      "[MoviePy] >>>> Building video F:/youtube/分析/1/169數據背景簡介.mp4\n",
      "[MoviePy] Writing audio in 169數據背景簡介TEMP_MPY_wvf_snd.mp3\n"
     ]
    },
    {
     "name": "stderr",
     "output_type": "stream",
     "text": [
      "100%|███████████████████████████████████████████████████████████████████████████| 14677/14677 [00:31<00:00, 470.08it/s]\n"
     ]
    },
    {
     "name": "stdout",
     "output_type": "stream",
     "text": [
      "[MoviePy] Done.\n",
      "[MoviePy] Writing video F:/youtube/分析/1/169數據背景簡介.mp4\n"
     ]
    },
    {
     "name": "stderr",
     "output_type": "stream",
     "text": [
      "100%|███████████████████████████████████████████████████████████████████████████▉| 16638/16639 [04:01<00:00, 84.85it/s]\n"
     ]
    },
    {
     "name": "stdout",
     "output_type": "stream",
     "text": [
      "[MoviePy] Done.\n",
      "[MoviePy] >>>> Video ready: F:/youtube/分析/1/169數據背景簡介.mp4 \n",
      "\n",
      "https://www.youtube.com/watch?v=oenPs6gNQuM&list=PLhXu26RzZZTwus4cNbPTcgXXH6oavT6EB&index=170\n",
      "[MoviePy] >>>> Building video F:/youtube/分析/1/170數據切片分析.mp4\n",
      "[MoviePy] Writing audio in 170數據切片分析TEMP_MPY_wvf_snd.mp3\n"
     ]
    },
    {
     "name": "stderr",
     "output_type": "stream",
     "text": [
      "100%|███████████████████████████████████████████████████████████████████████████| 23074/23074 [00:45<00:00, 506.12it/s]\n"
     ]
    },
    {
     "name": "stdout",
     "output_type": "stream",
     "text": [
      "[MoviePy] Done.\n",
      "[MoviePy] Writing video F:/youtube/分析/1/170數據切片分析.mp4\n"
     ]
    },
    {
     "name": "stderr",
     "output_type": "stream",
     "text": [
      "100%|████████████████████████████████████████████████████████████████████████████| 26159/26159 [05:08<00:00, 84.69it/s]\n"
     ]
    },
    {
     "name": "stdout",
     "output_type": "stream",
     "text": [
      "[MoviePy] Done.\n",
      "[MoviePy] >>>> Video ready: F:/youtube/分析/1/170數據切片分析.mp4 \n",
      "\n",
      "https://www.youtube.com/watch?v=bEzIQYVsz1k&list=PLhXu26RzZZTwus4cNbPTcgXXH6oavT6EB&index=171\n",
      "[MoviePy] >>>> Building video F:/youtube/分析/1/171單變量分析.mp4\n",
      "[MoviePy] Writing audio in 171單變量分析TEMP_MPY_wvf_snd.mp3\n"
     ]
    },
    {
     "name": "stderr",
     "output_type": "stream",
     "text": [
      "100%|███████████████████████████████████████████████████████████████████████████| 20312/20312 [00:38<00:00, 524.72it/s]\n"
     ]
    },
    {
     "name": "stdout",
     "output_type": "stream",
     "text": [
      "[MoviePy] Done.\n",
      "[MoviePy] Writing video F:/youtube/分析/1/171單變量分析.mp4\n"
     ]
    },
    {
     "name": "stderr",
     "output_type": "stream",
     "text": [
      "100%|███████████████████████████████████████████████████████████████████████████▉| 23027/23028 [05:26<00:00, 70.62it/s]\n"
     ]
    },
    {
     "name": "stdout",
     "output_type": "stream",
     "text": [
      "[MoviePy] Done.\n",
      "[MoviePy] >>>> Video ready: F:/youtube/分析/1/171單變量分析.mp4 \n",
      "\n",
      "https://www.youtube.com/watch?v=0A2Bn3itP8c&list=PLhXu26RzZZTwus4cNbPTcgXXH6oavT6EB&index=172\n",
      "[MoviePy] >>>> Building video F:/youtube/分析/1/172峰度與偏度.mp4\n",
      "[MoviePy] Writing audio in 172峰度與偏度TEMP_MPY_wvf_snd.mp3\n"
     ]
    },
    {
     "name": "stderr",
     "output_type": "stream",
     "text": [
      "100%|███████████████████████████████████████████████████████████████████████████| 15378/15378 [00:32<00:00, 478.37it/s]\n"
     ]
    },
    {
     "name": "stdout",
     "output_type": "stream",
     "text": [
      "[MoviePy] Done.\n",
      "[MoviePy] Writing video F:/youtube/分析/1/172峰度與偏度.mp4\n"
     ]
    },
    {
     "name": "stderr",
     "output_type": "stream",
     "text": [
      "100%|███████████████████████████████████████████████████████████████████████████▉| 17433/17434 [04:08<00:00, 70.12it/s]\n"
     ]
    },
    {
     "name": "stdout",
     "output_type": "stream",
     "text": [
      "[MoviePy] Done.\n",
      "[MoviePy] >>>> Video ready: F:/youtube/分析/1/172峰度與偏度.mp4 \n",
      "\n",
      "https://www.youtube.com/watch?v=tQ0XF4In96k&list=PLhXu26RzZZTwus4cNbPTcgXXH6oavT6EB&index=173\n",
      "[MoviePy] >>>> Building video F:/youtube/分析/1/173數據對數變換.mp4\n",
      "[MoviePy] Writing audio in 173數據對數變換TEMP_MPY_wvf_snd.mp3\n"
     ]
    },
    {
     "name": "stderr",
     "output_type": "stream",
     "text": [
      "100%|███████████████████████████████████████████████████████████████████████████| 12859/12859 [00:26<00:00, 485.42it/s]\n"
     ]
    },
    {
     "name": "stdout",
     "output_type": "stream",
     "text": [
      "[MoviePy] Done.\n",
      "[MoviePy] Writing video F:/youtube/分析/1/173數據對數變換.mp4\n"
     ]
    },
    {
     "name": "stderr",
     "output_type": "stream",
     "text": [
      "100%|███████████████████████████████████████████████████████████████████████████▉| 14578/14579 [03:15<00:00, 74.58it/s]\n"
     ]
    },
    {
     "name": "stdout",
     "output_type": "stream",
     "text": [
      "[MoviePy] Done.\n",
      "[MoviePy] >>>> Video ready: F:/youtube/分析/1/173數據對數變換.mp4 \n",
      "\n",
      "https://www.youtube.com/watch?v=c6M6Ma-GZEg&list=PLhXu26RzZZTwus4cNbPTcgXXH6oavT6EB&index=174\n",
      "[MoviePy] >>>> Building video F:/youtube/分析/1/174數據分析維度.mp4\n",
      "[MoviePy] Writing audio in 174數據分析維度TEMP_MPY_wvf_snd.mp3\n"
     ]
    },
    {
     "name": "stderr",
     "output_type": "stream",
     "text": [
      "100%|█████████████████████████████████████████████████████████████████████████████| 9160/9160 [00:17<00:00, 514.26it/s]\n"
     ]
    },
    {
     "name": "stdout",
     "output_type": "stream",
     "text": [
      "[MoviePy] Done.\n",
      "[MoviePy] Writing video F:/youtube/分析/1/174數據分析維度.mp4\n"
     ]
    },
    {
     "name": "stderr",
     "output_type": "stream",
     "text": [
      "100%|███████████████████████████████████████████████████████████████████████████▉| 10383/10384 [02:22<00:00, 72.90it/s]\n"
     ]
    },
    {
     "name": "stdout",
     "output_type": "stream",
     "text": [
      "[MoviePy] Done.\n",
      "[MoviePy] >>>> Video ready: F:/youtube/分析/1/174數據分析維度.mp4 \n",
      "\n",
      "https://www.youtube.com/watch?v=rGNUWRFm9YU&list=PLhXu26RzZZTwus4cNbPTcgXXH6oavT6EB&index=175\n",
      "[MoviePy] >>>> Building video F:/youtube/分析/1/175變量關係可視化展示.mp4\n",
      "[MoviePy] Writing audio in 175變量關係可視化展示TEMP_MPY_wvf_snd.mp3\n"
     ]
    },
    {
     "name": "stderr",
     "output_type": "stream",
     "text": [
      "100%|███████████████████████████████████████████████████████████████████████████| 16364/16364 [00:37<00:00, 435.90it/s]\n"
     ]
    },
    {
     "name": "stdout",
     "output_type": "stream",
     "text": [
      "[MoviePy] Done.\n",
      "[MoviePy] Writing video F:/youtube/分析/1/175變量關係可視化展示.mp4\n"
     ]
    },
    {
     "name": "stderr",
     "output_type": "stream",
     "text": [
      "100%|███████████████████████████████████████████████████████████████████████████▉| 18552/18553 [04:46<00:00, 76.77it/s]\n"
     ]
    },
    {
     "name": "stdout",
     "output_type": "stream",
     "text": [
      "[MoviePy] Done.\n",
      "[MoviePy] >>>> Video ready: F:/youtube/分析/1/175變量關係可視化展示.mp4 \n",
      "\n",
      "https://www.youtube.com/watch?v=q5qLHw65NtA&list=PLhXu26RzZZTwus4cNbPTcgXXH6oavT6EB&index=176\n",
      "[MoviePy] >>>> Building video F:/youtube/分析/1/176建立特征工程.mp4\n",
      "[MoviePy] Writing audio in 176建立特征工程TEMP_MPY_wvf_snd.mp3\n"
     ]
    },
    {
     "name": "stderr",
     "output_type": "stream",
     "text": [
      "100%|███████████████████████████████████████████████████████████████████████████| 23039/23039 [00:41<00:00, 556.43it/s]\n"
     ]
    },
    {
     "name": "stdout",
     "output_type": "stream",
     "text": [
      "[MoviePy] Done.\n",
      "[MoviePy] Writing video F:/youtube/分析/1/176建立特征工程.mp4\n"
     ]
    },
    {
     "name": "stderr",
     "output_type": "stream",
     "text": [
      "100%|███████████████████████████████████████████████████████████████████████████▉| 26120/26121 [05:37<00:00, 77.41it/s]\n"
     ]
    },
    {
     "name": "stdout",
     "output_type": "stream",
     "text": [
      "[MoviePy] Done.\n",
      "[MoviePy] >>>> Video ready: F:/youtube/分析/1/176建立特征工程.mp4 \n",
      "\n",
      "https://www.youtube.com/watch?v=D4sP8kau91E&list=PLhXu26RzZZTwus4cNbPTcgXXH6oavT6EB&index=177\n",
      "[MoviePy] >>>> Building video F:/youtube/分析/1/177特征數據預處理.mp4\n",
      "[MoviePy] Writing audio in 177特征數據預處理TEMP_MPY_wvf_snd.mp3\n"
     ]
    },
    {
     "name": "stderr",
     "output_type": "stream",
     "text": [
      "100%|███████████████████████████████████████████████████████████████████████████| 13974/13974 [00:27<00:00, 516.89it/s]\n"
     ]
    },
    {
     "name": "stdout",
     "output_type": "stream",
     "text": [
      "[MoviePy] Done.\n",
      "[MoviePy] Writing video F:/youtube/分析/1/177特征數據預處理.mp4\n"
     ]
    },
    {
     "name": "stderr",
     "output_type": "stream",
     "text": [
      "100%|███████████████████████████████████████████████████████████████████████████▉| 15841/15842 [03:50<00:00, 68.82it/s]\n"
     ]
    },
    {
     "name": "stdout",
     "output_type": "stream",
     "text": [
      "[MoviePy] Done.\n",
      "[MoviePy] >>>> Video ready: F:/youtube/分析/1/177特征數據預處理.mp4 \n",
      "\n",
      "https://www.youtube.com/watch?v=FZftPWMYjKQ&list=PLhXu26RzZZTwus4cNbPTcgXXH6oavT6EB&index=178\n",
      "[MoviePy] >>>> Building video F:/youtube/分析/1/178應用聚類算法得出異常IP點.mp4\n",
      "[MoviePy] Writing audio in 178應用聚類算法得出異常IP點TEMP_MPY_wvf_snd.mp3\n"
     ]
    },
    {
     "name": "stderr",
     "output_type": "stream",
     "text": [
      "100%|███████████████████████████████████████████████████████████████████████████| 23802/23802 [00:42<00:00, 561.75it/s]\n"
     ]
    },
    {
     "name": "stdout",
     "output_type": "stream",
     "text": [
      "[MoviePy] Done.\n",
      "[MoviePy] Writing video F:/youtube/分析/1/178應用聚類算法得出異常IP點.mp4\n"
     ]
    },
    {
     "name": "stderr",
     "output_type": "stream",
     "text": [
      "100%|███████████████████████████████████████████████████████████████████████████▉| 26985/26986 [05:41<00:00, 79.00it/s]\n"
     ]
    },
    {
     "name": "stdout",
     "output_type": "stream",
     "text": [
      "[MoviePy] Done.\n",
      "[MoviePy] >>>> Video ready: F:/youtube/分析/1/178應用聚類算法得出異常IP點.mp4 \n",
      "\n"
     ]
    }
   ],
   "source": [
    "j = 1\n",
    "err = []\n",
    "for link in hreflist[:]:\n",
    "    k = 1\n",
    "    print(link)\n",
    "    while k!=0:\n",
    "        try:\n",
    "            yt = YouTube(link)\n",
    "            k = 0\n",
    "        except KeyError:\n",
    "            print(j)\n",
    "    title = yt.title\n",
    "    path = r'F:/youtube/分析/%sa.mp4' % str(j)\n",
    "\n",
    "    clip1 = VideoFileClip(path)\n",
    "    audioclip1 = clip1.audio\n",
    "    path = r'F:/youtube/分析/%sv.mp4' % str(j)\n",
    "    clip2 = VideoFileClip(path)\n",
    "\n",
    "    new_video = clip2.set_audio(audioclip1)\n",
    "    # audioclip1.write_audiofile(\"twice_jelly_jelly.mp3\")  # 如果想要輸出 mp3\n",
    "    a = re.findall(r'课时\\d+\\W+\\w+',title)[0][2:].replace('.','')+'.mp4'\n",
    "    filename = Converter('zh-hant').convert(a)\n",
    "    filepath = r'F:/youtube/分析/1/%s' % filename\n",
    "    try:\n",
    "        new_video.write_videofile(filepath)\n",
    "    except :\n",
    "        err.append(link)\n",
    "    j += 1\n",
    "    clip1.close()\n",
    "    clip2.close()"
   ]
  }
 ],
 "metadata": {
  "kernelspec": {
   "display_name": "Python 3",
   "language": "python",
   "name": "python3"
  },
  "language_info": {
   "codemirror_mode": {
    "name": "ipython",
    "version": 3
   },
   "file_extension": ".py",
   "mimetype": "text/x-python",
   "name": "python",
   "nbconvert_exporter": "python",
   "pygments_lexer": "ipython3",
   "version": "3.6.5"
  }
 },
 "nbformat": 4,
 "nbformat_minor": 2
}
