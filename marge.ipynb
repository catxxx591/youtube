{
 "cells": [
  {
   "cell_type": "code",
   "execution_count": 1,
   "metadata": {},
   "outputs": [],
   "source": [
    "import requests\n",
    "from bs4 import BeautifulSoup\n",
    "import re\n",
    "from zhtools.langconv import Converter"
   ]
  },
  {
   "cell_type": "code",
   "execution_count": 2,
   "metadata": {},
   "outputs": [],
   "source": [
    "url1 = 'https://www.youtube.com/watch?v=U87NYhOL8as&list=PLhXu26RzZZTwus4cNbPTcgXXH6oavT6EB&index=1'\n",
    "res1 = requests.get(url1)\n",
    "soup = BeautifulSoup(res1.text,'html5lib')"
   ]
  },
  {
   "cell_type": "code",
   "execution_count": 3,
   "metadata": {},
   "outputs": [
    {
     "data": {
      "text/plain": [
       "['https://www.youtube.com/watch?v=U87NYhOL8as&list=PLhXu26RzZZTwus4cNbPTcgXXH6oavT6EB&index=1',\n",
       " 'https://www.youtube.com/watch?v=wbGPmMDHUag&list=PLhXu26RzZZTwus4cNbPTcgXXH6oavT6EB&index=2',\n",
       " 'https://www.youtube.com/watch?v=2OygBkQ06oI&list=PLhXu26RzZZTwus4cNbPTcgXXH6oavT6EB&index=3']"
      ]
     },
     "execution_count": 3,
     "metadata": {},
     "output_type": "execute_result"
    }
   ],
   "source": [
    "hreflist = ['https://www.youtube.com'+a['href'] for a in soup.find_all('a',{'class':' spf-link playlist-video clearfix yt-uix-sessionlink spf-link '})]\n",
    "hreflist[:3]"
   ]
  },
  {
   "cell_type": "code",
   "execution_count": 4,
   "metadata": {},
   "outputs": [],
   "source": [
    "from pytube import Playlist\n",
    "from pytube import YouTube\n",
    "from pprint import pprint\n",
    "from moviepy.editor import VideoFileClip"
   ]
  },
  {
   "cell_type": "code",
   "execution_count": null,
   "metadata": {},
   "outputs": [
    {
     "name": "stdout",
     "output_type": "stream",
     "text": [
      "https://www.youtube.com/watch?v=U87NYhOL8as&list=PLhXu26RzZZTwus4cNbPTcgXXH6oavT6EB&index=1\n",
      "[MoviePy] >>>> Building video F:/youtube/分析/1/01課程介紹.mp4\n",
      "[MoviePy] Writing audio in 01課程介紹TEMP_MPY_wvf_snd.mp3\n"
     ]
    },
    {
     "name": "stderr",
     "output_type": "stream",
     "text": [
      " 89%|███████████████████████████████████████████████████████████████████        | 12736/14241 [00:25<00:02, 515.25it/s]"
     ]
    }
   ],
   "source": [
    "j = 1\n",
    "err = []\n",
    "for link in hreflist[:3]:\n",
    "    k = 1\n",
    "    print(link)\n",
    "    while k!=0:\n",
    "        try:\n",
    "            yt = YouTube(link)\n",
    "            k = 0\n",
    "        except KeyError:\n",
    "            print(j)\n",
    "    title = yt.title\n",
    "    path = r'F:/youtube/分析/%sa.mp4' % str(j)\n",
    "\n",
    "    clip1 = VideoFileClip(path)\n",
    "    audioclip1 = clip1.audio\n",
    "    path = r'F:/youtube/分析/%sv.mp4' % str(j)\n",
    "    clip2 = VideoFileClip(path)\n",
    "\n",
    "    new_video = clip2.set_audio(audioclip1)\n",
    "    # audioclip1.write_audiofile(\"twice_jelly_jelly.mp3\")  # 如果想要輸出 mp3\n",
    "    a = re.findall(r'课时\\d+\\W+\\w+',title)[0][2:].replace('.','')+'.mp4'\n",
    "    filename = Converter('zh-hant').convert(a)\n",
    "    filepath = r'F:/youtube/分析/1/%s' % filename\n",
    "    try:\n",
    "        new_video.write_videofile(filepath)\n",
    "    except :\n",
    "        err.append(link)\n",
    "    j += 1\n",
    "    clip1.close()\n",
    "    clip2.close()"
   ]
  }
 ],
 "metadata": {
  "kernelspec": {
   "display_name": "Python 3",
   "language": "python",
   "name": "python3"
  },
  "language_info": {
   "codemirror_mode": {
    "name": "ipython",
    "version": 3
   },
   "file_extension": ".py",
   "mimetype": "text/x-python",
   "name": "python",
   "nbconvert_exporter": "python",
   "pygments_lexer": "ipython3",
   "version": "3.6.5"
  }
 },
 "nbformat": 4,
 "nbformat_minor": 2
}
